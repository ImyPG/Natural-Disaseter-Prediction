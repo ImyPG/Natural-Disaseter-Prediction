{
 "cells": [
  {
   "cell_type": "code",
   "execution_count": 1,
   "id": "00fe836b",
   "metadata": {},
   "outputs": [],
   "source": [
    "from math import sqrt\n",
    "import matplotlib.pyplot as plt\n",
    "import numpy as np\n",
    "import pandas as pd\n",
    "from statsmodels.tsa.stattools import adfuller\n",
    "from statsmodels.tsa.stattools import kpss\n",
    "from sklearn.metrics import mean_squared_error, mean_absolute_error,r2_score\n",
    "from statsmodels.tsa.vector_ar.var_model import VAR\n"
   ]
  },
  {
   "cell_type": "code",
   "execution_count": 2,
   "metadata": {},
   "outputs": [
    {
     "name": "stderr",
     "output_type": "stream",
     "text": [
      "C:\\Users\\imypo\\anaconda3\\lib\\site-packages\\IPython\\core\\interactiveshell.py:3165: DtypeWarning: Columns (7,13) have mixed types.Specify dtype option on import or set low_memory=False.\n",
      "  has_raised = await self.run_ast_nodes(code_ast.body, cell_name,\n"
     ]
    }
   ],
   "source": [
    "data_df = pd.read_csv(\"Joined_data.csv\",  delimiter=',')"
   ]
  },
  {
   "cell_type": "code",
   "execution_count": 3,
   "metadata": {
    "scrolled": true
   },
   "outputs": [
    {
     "data": {
      "text/html": [
       "<div>\n",
       "<style scoped>\n",
       "    .dataframe tbody tr th:only-of-type {\n",
       "        vertical-align: middle;\n",
       "    }\n",
       "\n",
       "    .dataframe tbody tr th {\n",
       "        vertical-align: top;\n",
       "    }\n",
       "\n",
       "    .dataframe thead th {\n",
       "        text-align: right;\n",
       "    }\n",
       "</style>\n",
       "<table border=\"1\" class=\"dataframe\">\n",
       "  <thead>\n",
       "    <tr style=\"text-align: right;\">\n",
       "      <th></th>\n",
       "      <th>Unnamed: 0</th>\n",
       "      <th>Date</th>\n",
       "      <th>AverageTemperature</th>\n",
       "      <th>AverageTemperatureUncertainty</th>\n",
       "      <th>COUNTRY</th>\n",
       "      <th>YEAR</th>\n",
       "      <th>MONTH</th>\n",
       "      <th>CAUSE_MODE</th>\n",
       "      <th>EQ_MAGNI_MEAN</th>\n",
       "      <th>ID_FIRST</th>\n",
       "      <th>...</th>\n",
       "      <th>ECLIPSE_TYPE</th>\n",
       "      <th>MAGNITUD</th>\n",
       "      <th>LATITUDE_y</th>\n",
       "      <th>LONGITUDE_y</th>\n",
       "      <th>DURATION_y</th>\n",
       "      <th>EVENT_y</th>\n",
       "      <th>DATE_STRIN</th>\n",
       "      <th>PLANET_POSITION</th>\n",
       "      <th>Lunar_Eclipse</th>\n",
       "      <th>Solar_Eclipse</th>\n",
       "    </tr>\n",
       "  </thead>\n",
       "  <tbody>\n",
       "    <tr>\n",
       "      <th>0</th>\n",
       "      <td>0</td>\n",
       "      <td>1855-05-01</td>\n",
       "      <td>7.152</td>\n",
       "      <td>1.296</td>\n",
       "      <td>Chile</td>\n",
       "      <td>1855</td>\n",
       "      <td>5</td>\n",
       "      <td>NaN</td>\n",
       "      <td>NaN</td>\n",
       "      <td>NaN</td>\n",
       "      <td>...</td>\n",
       "      <td>P</td>\n",
       "      <td>0.7624</td>\n",
       "      <td>62.9N</td>\n",
       "      <td>16.6E</td>\n",
       "      <td>NaN</td>\n",
       "      <td>solar_eclipse</td>\n",
       "      <td>NaN</td>\n",
       "      <td>NaN</td>\n",
       "      <td>1</td>\n",
       "      <td>1</td>\n",
       "    </tr>\n",
       "    <tr>\n",
       "      <th>1</th>\n",
       "      <td>1</td>\n",
       "      <td>1855-06-01</td>\n",
       "      <td>4.257</td>\n",
       "      <td>1.641</td>\n",
       "      <td>Chile</td>\n",
       "      <td>1855</td>\n",
       "      <td>6</td>\n",
       "      <td>NaN</td>\n",
       "      <td>NaN</td>\n",
       "      <td>NaN</td>\n",
       "      <td>...</td>\n",
       "      <td>NaN</td>\n",
       "      <td>NaN</td>\n",
       "      <td>NaN</td>\n",
       "      <td>NaN</td>\n",
       "      <td>NaN</td>\n",
       "      <td>NaN</td>\n",
       "      <td>NaN</td>\n",
       "      <td>NaN</td>\n",
       "      <td>0</td>\n",
       "      <td>0</td>\n",
       "    </tr>\n",
       "    <tr>\n",
       "      <th>2</th>\n",
       "      <td>2</td>\n",
       "      <td>1855-07-01</td>\n",
       "      <td>4.113</td>\n",
       "      <td>1.313</td>\n",
       "      <td>Chile</td>\n",
       "      <td>1855</td>\n",
       "      <td>7</td>\n",
       "      <td>NaN</td>\n",
       "      <td>NaN</td>\n",
       "      <td>NaN</td>\n",
       "      <td>...</td>\n",
       "      <td>NaN</td>\n",
       "      <td>NaN</td>\n",
       "      <td>NaN</td>\n",
       "      <td>NaN</td>\n",
       "      <td>NaN</td>\n",
       "      <td>NaN</td>\n",
       "      <td>NaN</td>\n",
       "      <td>NaN</td>\n",
       "      <td>0</td>\n",
       "      <td>0</td>\n",
       "    </tr>\n",
       "    <tr>\n",
       "      <th>3</th>\n",
       "      <td>3</td>\n",
       "      <td>1855-08-01</td>\n",
       "      <td>5.508</td>\n",
       "      <td>1.168</td>\n",
       "      <td>Chile</td>\n",
       "      <td>1855</td>\n",
       "      <td>8</td>\n",
       "      <td>Earthquake</td>\n",
       "      <td>0.0</td>\n",
       "      <td>847.0</td>\n",
       "      <td>...</td>\n",
       "      <td>NaN</td>\n",
       "      <td>NaN</td>\n",
       "      <td>NaN</td>\n",
       "      <td>NaN</td>\n",
       "      <td>NaN</td>\n",
       "      <td>NaN</td>\n",
       "      <td>NaN</td>\n",
       "      <td>NaN</td>\n",
       "      <td>0</td>\n",
       "      <td>0</td>\n",
       "    </tr>\n",
       "    <tr>\n",
       "      <th>4</th>\n",
       "      <td>4</td>\n",
       "      <td>1855-09-01</td>\n",
       "      <td>6.684</td>\n",
       "      <td>1.153</td>\n",
       "      <td>Chile</td>\n",
       "      <td>1855</td>\n",
       "      <td>9</td>\n",
       "      <td>NaN</td>\n",
       "      <td>NaN</td>\n",
       "      <td>NaN</td>\n",
       "      <td>...</td>\n",
       "      <td>NaN</td>\n",
       "      <td>NaN</td>\n",
       "      <td>NaN</td>\n",
       "      <td>NaN</td>\n",
       "      <td>NaN</td>\n",
       "      <td>NaN</td>\n",
       "      <td>NaN</td>\n",
       "      <td>NaN</td>\n",
       "      <td>0</td>\n",
       "      <td>0</td>\n",
       "    </tr>\n",
       "  </tbody>\n",
       "</table>\n",
       "<p>5 rows × 34 columns</p>\n",
       "</div>"
      ],
      "text/plain": [
       "   Unnamed: 0        Date  AverageTemperature  AverageTemperatureUncertainty  \\\n",
       "0           0  1855-05-01               7.152                          1.296   \n",
       "1           1  1855-06-01               4.257                          1.641   \n",
       "2           2  1855-07-01               4.113                          1.313   \n",
       "3           3  1855-08-01               5.508                          1.168   \n",
       "4           4  1855-09-01               6.684                          1.153   \n",
       "\n",
       "  COUNTRY  YEAR  MONTH  CAUSE_MODE  EQ_MAGNI_MEAN  ID_FIRST  ...  \\\n",
       "0   Chile  1855      5         NaN            NaN       NaN  ...   \n",
       "1   Chile  1855      6         NaN            NaN       NaN  ...   \n",
       "2   Chile  1855      7         NaN            NaN       NaN  ...   \n",
       "3   Chile  1855      8  Earthquake            0.0     847.0  ...   \n",
       "4   Chile  1855      9         NaN            NaN       NaN  ...   \n",
       "\n",
       "   ECLIPSE_TYPE  MAGNITUD  LATITUDE_y LONGITUDE_y  DURATION_y        EVENT_y  \\\n",
       "0             P    0.7624       62.9N       16.6E         NaN  solar_eclipse   \n",
       "1           NaN       NaN         NaN         NaN         NaN            NaN   \n",
       "2           NaN       NaN         NaN         NaN         NaN            NaN   \n",
       "3           NaN       NaN         NaN         NaN         NaN            NaN   \n",
       "4           NaN       NaN         NaN         NaN         NaN            NaN   \n",
       "\n",
       "  DATE_STRIN PLANET_POSITION Lunar_Eclipse  Solar_Eclipse  \n",
       "0        NaN             NaN             1              1  \n",
       "1        NaN             NaN             0              0  \n",
       "2        NaN             NaN             0              0  \n",
       "3        NaN             NaN             0              0  \n",
       "4        NaN             NaN             0              0  \n",
       "\n",
       "[5 rows x 34 columns]"
      ]
     },
     "execution_count": 3,
     "metadata": {},
     "output_type": "execute_result"
    }
   ],
   "source": [
    "data_df.head()"
   ]
  },
  {
   "cell_type": "code",
   "execution_count": 4,
   "metadata": {},
   "outputs": [
    {
     "data": {
      "text/plain": [
       "Index(['Unnamed: 0', 'Date', 'AverageTemperature',\n",
       "       'AverageTemperatureUncertainty', 'COUNTRY', 'YEAR', 'MONTH',\n",
       "       'CAUSE_MODE', 'EQ_MAGNI_MEAN', 'ID_FIRST', 'DEATHS_MEAN', 'DEATHS_MAX',\n",
       "       'DEATHS_STD', 'DATE_FIRST', 'Event_Tsunami', 'Event_Earthquake',\n",
       "       'DATE_STRIN_x', 'LATITUDE_x', 'LONGITUDE_x', 'PENUMBRAL',\n",
       "       'PARTIAL ECLIPSE', 'DURATION_x', 'EVENT_x', 'DATE_STRIN_y',\n",
       "       'ECLIPSE_TYPE', 'MAGNITUD', 'LATITUDE_y', 'LONGITUDE_y', 'DURATION_y',\n",
       "       'EVENT_y', 'DATE_STRIN', 'PLANET_POSITION', 'Lunar_Eclipse',\n",
       "       'Solar_Eclipse'],\n",
       "      dtype='object')"
      ]
     },
     "execution_count": 4,
     "metadata": {},
     "output_type": "execute_result"
    }
   ],
   "source": [
    "data_df.columns"
   ]
  },
  {
   "cell_type": "code",
   "execution_count": 5,
   "metadata": {},
   "outputs": [],
   "source": [
    "data_df.index = pd.to_datetime(data_df['Date'], format='%Y-%m-%d')\n",
    "#data_df\n"
   ]
  },
  {
   "cell_type": "code",
   "execution_count": 6,
   "metadata": {},
   "outputs": [
    {
     "data": {
      "text/html": [
       "<div>\n",
       "<style scoped>\n",
       "    .dataframe tbody tr th:only-of-type {\n",
       "        vertical-align: middle;\n",
       "    }\n",
       "\n",
       "    .dataframe tbody tr th {\n",
       "        vertical-align: top;\n",
       "    }\n",
       "\n",
       "    .dataframe thead th {\n",
       "        text-align: right;\n",
       "    }\n",
       "</style>\n",
       "<table border=\"1\" class=\"dataframe\">\n",
       "  <thead>\n",
       "    <tr style=\"text-align: right;\">\n",
       "      <th></th>\n",
       "      <th>Unnamed: 0</th>\n",
       "      <th>Date</th>\n",
       "      <th>AverageTemperature</th>\n",
       "      <th>AverageTemperatureUncertainty</th>\n",
       "      <th>YEAR</th>\n",
       "      <th>MONTH</th>\n",
       "      <th>CAUSE_MODE</th>\n",
       "      <th>EQ_MAGNI_MEAN</th>\n",
       "      <th>ID_FIRST</th>\n",
       "      <th>DEATHS_MEAN</th>\n",
       "      <th>...</th>\n",
       "      <th>ECLIPSE_TYPE</th>\n",
       "      <th>MAGNITUD</th>\n",
       "      <th>LATITUDE_y</th>\n",
       "      <th>LONGITUDE_y</th>\n",
       "      <th>DURATION_y</th>\n",
       "      <th>EVENT_y</th>\n",
       "      <th>DATE_STRIN</th>\n",
       "      <th>PLANET_POSITION</th>\n",
       "      <th>Lunar_Eclipse</th>\n",
       "      <th>Solar_Eclipse</th>\n",
       "    </tr>\n",
       "    <tr>\n",
       "      <th>Date</th>\n",
       "      <th></th>\n",
       "      <th></th>\n",
       "      <th></th>\n",
       "      <th></th>\n",
       "      <th></th>\n",
       "      <th></th>\n",
       "      <th></th>\n",
       "      <th></th>\n",
       "      <th></th>\n",
       "      <th></th>\n",
       "      <th></th>\n",
       "      <th></th>\n",
       "      <th></th>\n",
       "      <th></th>\n",
       "      <th></th>\n",
       "      <th></th>\n",
       "      <th></th>\n",
       "      <th></th>\n",
       "      <th></th>\n",
       "      <th></th>\n",
       "      <th></th>\n",
       "    </tr>\n",
       "  </thead>\n",
       "  <tbody>\n",
       "    <tr>\n",
       "      <th>1901-01-01</th>\n",
       "      <td>2877</td>\n",
       "      <td>1901-01-01</td>\n",
       "      <td>25.483</td>\n",
       "      <td>0.551</td>\n",
       "      <td>1901</td>\n",
       "      <td>1</td>\n",
       "      <td>NaN</td>\n",
       "      <td>NaN</td>\n",
       "      <td>NaN</td>\n",
       "      <td>NaN</td>\n",
       "      <td>...</td>\n",
       "      <td>NaN</td>\n",
       "      <td>NaN</td>\n",
       "      <td>NaN</td>\n",
       "      <td>NaN</td>\n",
       "      <td>NaN</td>\n",
       "      <td>NaN</td>\n",
       "      <td>NaN</td>\n",
       "      <td>NaN</td>\n",
       "      <td>0</td>\n",
       "      <td>0</td>\n",
       "    </tr>\n",
       "    <tr>\n",
       "      <th>1901-02-01</th>\n",
       "      <td>2878</td>\n",
       "      <td>1901-02-01</td>\n",
       "      <td>25.329</td>\n",
       "      <td>0.670</td>\n",
       "      <td>1901</td>\n",
       "      <td>2</td>\n",
       "      <td>NaN</td>\n",
       "      <td>NaN</td>\n",
       "      <td>NaN</td>\n",
       "      <td>NaN</td>\n",
       "      <td>...</td>\n",
       "      <td>NaN</td>\n",
       "      <td>NaN</td>\n",
       "      <td>NaN</td>\n",
       "      <td>NaN</td>\n",
       "      <td>NaN</td>\n",
       "      <td>NaN</td>\n",
       "      <td>NaN</td>\n",
       "      <td>NaN</td>\n",
       "      <td>0</td>\n",
       "      <td>0</td>\n",
       "    </tr>\n",
       "    <tr>\n",
       "      <th>1901-03-01</th>\n",
       "      <td>2879</td>\n",
       "      <td>1901-03-01</td>\n",
       "      <td>25.599</td>\n",
       "      <td>0.580</td>\n",
       "      <td>1901</td>\n",
       "      <td>3</td>\n",
       "      <td>NaN</td>\n",
       "      <td>NaN</td>\n",
       "      <td>NaN</td>\n",
       "      <td>NaN</td>\n",
       "      <td>...</td>\n",
       "      <td>NaN</td>\n",
       "      <td>NaN</td>\n",
       "      <td>NaN</td>\n",
       "      <td>NaN</td>\n",
       "      <td>NaN</td>\n",
       "      <td>NaN</td>\n",
       "      <td>NaN</td>\n",
       "      <td>NaN</td>\n",
       "      <td>0</td>\n",
       "      <td>0</td>\n",
       "    </tr>\n",
       "    <tr>\n",
       "      <th>1901-04-01</th>\n",
       "      <td>2880</td>\n",
       "      <td>1901-04-01</td>\n",
       "      <td>25.983</td>\n",
       "      <td>0.519</td>\n",
       "      <td>1901</td>\n",
       "      <td>4</td>\n",
       "      <td>NaN</td>\n",
       "      <td>NaN</td>\n",
       "      <td>NaN</td>\n",
       "      <td>NaN</td>\n",
       "      <td>...</td>\n",
       "      <td>NaN</td>\n",
       "      <td>NaN</td>\n",
       "      <td>NaN</td>\n",
       "      <td>NaN</td>\n",
       "      <td>NaN</td>\n",
       "      <td>NaN</td>\n",
       "      <td>NaN</td>\n",
       "      <td>NaN</td>\n",
       "      <td>0</td>\n",
       "      <td>0</td>\n",
       "    </tr>\n",
       "    <tr>\n",
       "      <th>1901-05-01</th>\n",
       "      <td>2881</td>\n",
       "      <td>1901-05-01</td>\n",
       "      <td>25.893</td>\n",
       "      <td>0.514</td>\n",
       "      <td>1901</td>\n",
       "      <td>5</td>\n",
       "      <td>NaN</td>\n",
       "      <td>NaN</td>\n",
       "      <td>NaN</td>\n",
       "      <td>NaN</td>\n",
       "      <td>...</td>\n",
       "      <td>T</td>\n",
       "      <td>1.0680</td>\n",
       "      <td>1.7S</td>\n",
       "      <td>98.4E</td>\n",
       "      <td>06m29s</td>\n",
       "      <td>solar_eclipse</td>\n",
       "      <td>NaN</td>\n",
       "      <td>NaN</td>\n",
       "      <td>1</td>\n",
       "      <td>1</td>\n",
       "    </tr>\n",
       "    <tr>\n",
       "      <th>...</th>\n",
       "      <td>...</td>\n",
       "      <td>...</td>\n",
       "      <td>...</td>\n",
       "      <td>...</td>\n",
       "      <td>...</td>\n",
       "      <td>...</td>\n",
       "      <td>...</td>\n",
       "      <td>...</td>\n",
       "      <td>...</td>\n",
       "      <td>...</td>\n",
       "      <td>...</td>\n",
       "      <td>...</td>\n",
       "      <td>...</td>\n",
       "      <td>...</td>\n",
       "      <td>...</td>\n",
       "      <td>...</td>\n",
       "      <td>...</td>\n",
       "      <td>...</td>\n",
       "      <td>...</td>\n",
       "      <td>...</td>\n",
       "      <td>...</td>\n",
       "    </tr>\n",
       "    <tr>\n",
       "      <th>2013-05-01</th>\n",
       "      <td>4284</td>\n",
       "      <td>2013-05-01</td>\n",
       "      <td>26.818</td>\n",
       "      <td>0.154</td>\n",
       "      <td>2013</td>\n",
       "      <td>5</td>\n",
       "      <td>NaN</td>\n",
       "      <td>NaN</td>\n",
       "      <td>NaN</td>\n",
       "      <td>NaN</td>\n",
       "      <td>...</td>\n",
       "      <td>A</td>\n",
       "      <td>0.9544</td>\n",
       "      <td>2.2N</td>\n",
       "      <td>175.5E</td>\n",
       "      <td>06m03s</td>\n",
       "      <td>solar_eclipse</td>\n",
       "      <td>NaN</td>\n",
       "      <td>NaN</td>\n",
       "      <td>1</td>\n",
       "      <td>1</td>\n",
       "    </tr>\n",
       "    <tr>\n",
       "      <th>2013-06-01</th>\n",
       "      <td>4285</td>\n",
       "      <td>2013-06-01</td>\n",
       "      <td>26.881</td>\n",
       "      <td>0.248</td>\n",
       "      <td>2013</td>\n",
       "      <td>6</td>\n",
       "      <td>NaN</td>\n",
       "      <td>NaN</td>\n",
       "      <td>NaN</td>\n",
       "      <td>NaN</td>\n",
       "      <td>...</td>\n",
       "      <td>NaN</td>\n",
       "      <td>NaN</td>\n",
       "      <td>NaN</td>\n",
       "      <td>NaN</td>\n",
       "      <td>NaN</td>\n",
       "      <td>NaN</td>\n",
       "      <td>NaN</td>\n",
       "      <td>NaN</td>\n",
       "      <td>0</td>\n",
       "      <td>0</td>\n",
       "    </tr>\n",
       "    <tr>\n",
       "      <th>2013-07-01</th>\n",
       "      <td>4286</td>\n",
       "      <td>2013-07-01</td>\n",
       "      <td>25.902</td>\n",
       "      <td>0.164</td>\n",
       "      <td>2013</td>\n",
       "      <td>7</td>\n",
       "      <td>NaN</td>\n",
       "      <td>NaN</td>\n",
       "      <td>NaN</td>\n",
       "      <td>NaN</td>\n",
       "      <td>...</td>\n",
       "      <td>NaN</td>\n",
       "      <td>NaN</td>\n",
       "      <td>NaN</td>\n",
       "      <td>NaN</td>\n",
       "      <td>NaN</td>\n",
       "      <td>NaN</td>\n",
       "      <td>NaN</td>\n",
       "      <td>NaN</td>\n",
       "      <td>0</td>\n",
       "      <td>0</td>\n",
       "    </tr>\n",
       "    <tr>\n",
       "      <th>2013-08-01</th>\n",
       "      <td>4287</td>\n",
       "      <td>2013-08-01</td>\n",
       "      <td>25.961</td>\n",
       "      <td>0.319</td>\n",
       "      <td>2013</td>\n",
       "      <td>8</td>\n",
       "      <td>NaN</td>\n",
       "      <td>NaN</td>\n",
       "      <td>NaN</td>\n",
       "      <td>NaN</td>\n",
       "      <td>...</td>\n",
       "      <td>NaN</td>\n",
       "      <td>NaN</td>\n",
       "      <td>NaN</td>\n",
       "      <td>NaN</td>\n",
       "      <td>NaN</td>\n",
       "      <td>NaN</td>\n",
       "      <td>NaN</td>\n",
       "      <td>NaN</td>\n",
       "      <td>0</td>\n",
       "      <td>0</td>\n",
       "    </tr>\n",
       "    <tr>\n",
       "      <th>2013-09-01</th>\n",
       "      <td>4288</td>\n",
       "      <td>2013-09-01</td>\n",
       "      <td>NaN</td>\n",
       "      <td>NaN</td>\n",
       "      <td>2013</td>\n",
       "      <td>9</td>\n",
       "      <td>NaN</td>\n",
       "      <td>NaN</td>\n",
       "      <td>NaN</td>\n",
       "      <td>NaN</td>\n",
       "      <td>...</td>\n",
       "      <td>NaN</td>\n",
       "      <td>NaN</td>\n",
       "      <td>NaN</td>\n",
       "      <td>NaN</td>\n",
       "      <td>NaN</td>\n",
       "      <td>NaN</td>\n",
       "      <td>NaN</td>\n",
       "      <td>NaN</td>\n",
       "      <td>0</td>\n",
       "      <td>0</td>\n",
       "    </tr>\n",
       "  </tbody>\n",
       "</table>\n",
       "<p>1412 rows × 33 columns</p>\n",
       "</div>"
      ],
      "text/plain": [
       "            Unnamed: 0        Date  AverageTemperature  \\\n",
       "Date                                                     \n",
       "1901-01-01        2877  1901-01-01              25.483   \n",
       "1901-02-01        2878  1901-02-01              25.329   \n",
       "1901-03-01        2879  1901-03-01              25.599   \n",
       "1901-04-01        2880  1901-04-01              25.983   \n",
       "1901-05-01        2881  1901-05-01              25.893   \n",
       "...                ...         ...                 ...   \n",
       "2013-05-01        4284  2013-05-01              26.818   \n",
       "2013-06-01        4285  2013-06-01              26.881   \n",
       "2013-07-01        4286  2013-07-01              25.902   \n",
       "2013-08-01        4287  2013-08-01              25.961   \n",
       "2013-09-01        4288  2013-09-01                 NaN   \n",
       "\n",
       "            AverageTemperatureUncertainty  YEAR  MONTH CAUSE_MODE  \\\n",
       "Date                                                                \n",
       "1901-01-01                          0.551  1901      1        NaN   \n",
       "1901-02-01                          0.670  1901      2        NaN   \n",
       "1901-03-01                          0.580  1901      3        NaN   \n",
       "1901-04-01                          0.519  1901      4        NaN   \n",
       "1901-05-01                          0.514  1901      5        NaN   \n",
       "...                                   ...   ...    ...        ...   \n",
       "2013-05-01                          0.154  2013      5        NaN   \n",
       "2013-06-01                          0.248  2013      6        NaN   \n",
       "2013-07-01                          0.164  2013      7        NaN   \n",
       "2013-08-01                          0.319  2013      8        NaN   \n",
       "2013-09-01                            NaN  2013      9        NaN   \n",
       "\n",
       "            EQ_MAGNI_MEAN  ID_FIRST  DEATHS_MEAN  ...  ECLIPSE_TYPE  MAGNITUD  \\\n",
       "Date                                              ...                           \n",
       "1901-01-01            NaN       NaN          NaN  ...           NaN       NaN   \n",
       "1901-02-01            NaN       NaN          NaN  ...           NaN       NaN   \n",
       "1901-03-01            NaN       NaN          NaN  ...           NaN       NaN   \n",
       "1901-04-01            NaN       NaN          NaN  ...           NaN       NaN   \n",
       "1901-05-01            NaN       NaN          NaN  ...             T    1.0680   \n",
       "...                   ...       ...          ...  ...           ...       ...   \n",
       "2013-05-01            NaN       NaN          NaN  ...             A    0.9544   \n",
       "2013-06-01            NaN       NaN          NaN  ...           NaN       NaN   \n",
       "2013-07-01            NaN       NaN          NaN  ...           NaN       NaN   \n",
       "2013-08-01            NaN       NaN          NaN  ...           NaN       NaN   \n",
       "2013-09-01            NaN       NaN          NaN  ...           NaN       NaN   \n",
       "\n",
       "           LATITUDE_y  LONGITUDE_y  DURATION_y        EVENT_y DATE_STRIN  \\\n",
       "Date                                                                       \n",
       "1901-01-01        NaN          NaN         NaN            NaN        NaN   \n",
       "1901-02-01        NaN          NaN         NaN            NaN        NaN   \n",
       "1901-03-01        NaN          NaN         NaN            NaN        NaN   \n",
       "1901-04-01        NaN          NaN         NaN            NaN        NaN   \n",
       "1901-05-01       1.7S        98.4E      06m29s  solar_eclipse        NaN   \n",
       "...               ...          ...         ...            ...        ...   \n",
       "2013-05-01       2.2N       175.5E      06m03s  solar_eclipse        NaN   \n",
       "2013-06-01        NaN          NaN         NaN            NaN        NaN   \n",
       "2013-07-01        NaN          NaN         NaN            NaN        NaN   \n",
       "2013-08-01        NaN          NaN         NaN            NaN        NaN   \n",
       "2013-09-01        NaN          NaN         NaN            NaN        NaN   \n",
       "\n",
       "           PLANET_POSITION  Lunar_Eclipse Solar_Eclipse  \n",
       "Date                                                     \n",
       "1901-01-01             NaN              0             0  \n",
       "1901-02-01             NaN              0             0  \n",
       "1901-03-01             NaN              0             0  \n",
       "1901-04-01             NaN              0             0  \n",
       "1901-05-01             NaN              1             1  \n",
       "...                    ...            ...           ...  \n",
       "2013-05-01             NaN              1             1  \n",
       "2013-06-01             NaN              0             0  \n",
       "2013-07-01             NaN              0             0  \n",
       "2013-08-01             NaN              0             0  \n",
       "2013-09-01             NaN              0             0  \n",
       "\n",
       "[1412 rows x 33 columns]"
      ]
     },
     "execution_count": 6,
     "metadata": {},
     "output_type": "execute_result"
    }
   ],
   "source": [
    "# Build my model for one country\n",
    "#mdata.COUNTRY.unique()\n",
    "mdata = data_df[data_df.COUNTRY==\"Indonesia\"]\n",
    "\n",
    "mdata = mdata.drop(\"COUNTRY\", axis=1)\n",
    "\n",
    "mdata=mdata[mdata.YEAR>1900]\n",
    "mdata"
   ]
  },
  {
   "cell_type": "markdown",
   "metadata": {},
   "source": [
    "## Tsunami Magnitud PREDICTION"
   ]
  },
  {
   "cell_type": "code",
   "execution_count": 21,
   "metadata": {},
   "outputs": [
    {
     "data": {
      "image/png": "[encoded data removed]",
      "text/plain": [
       "<Figure size 1080x216 with 1 Axes>"
      ]
     },
     "metadata": {
      "needs_background": "light"
     },
     "output_type": "display_data"
    }
   ],
   "source": [
    "\n",
    "plt.figure(figsize= (15,3))\n",
    "plt.plot(mdata.index, mdata['Event_Tsunami'], marker=\".\", markersize=15, color='red');"
   ]
  },
  {
   "cell_type": "markdown",
   "metadata": {},
   "source": [
    "ARMA uses a combination of past values and white noise in order to predict future values. Defining ARMA model using SARIMAX package. "
   ]
  },
  {
   "cell_type": "code",
   "execution_count": 8,
   "metadata": {},
   "outputs": [],
   "source": [
    "from statsmodels.tsa.statespace.sarimax import SARIMAX"
   ]
  },
  {
   "cell_type": "markdown",
   "metadata": {},
   "source": [
    "We define our input, in this case all data before 2000 and after"
   ]
  },
  {
   "cell_type": "code",
   "execution_count": 9,
   "metadata": {},
   "outputs": [],
   "source": [
    "y_train=mdata[mdata.YEAR<2000]"
   ]
  },
  {
   "cell_type": "code",
   "execution_count": 10,
   "metadata": {},
   "outputs": [],
   "source": [
    "test=mdata[mdata.YEAR>=2000]"
   ]
  },
  {
   "cell_type": "code",
   "execution_count": 11,
   "metadata": {},
   "outputs": [],
   "source": [
    "y = y_train['Event_Tsunami']"
   ]
  },
  {
   "cell_type": "markdown",
   "metadata": {},
   "source": [
    "Defining our model. To define an ARMA model with the SARIMAX class, we pass in the order parameters of (1, 0 ,1):"
   ]
  },
  {
   "cell_type": "code",
   "execution_count": 12,
   "metadata": {},
   "outputs": [
    {
     "name": "stderr",
     "output_type": "stream",
     "text": [
      "C:\\Users\\imypo\\anaconda3\\lib\\site-packages\\statsmodels\\tsa\\base\\tsa_model.py:581: ValueWarning: A date index has been provided, but it has no associated frequency information and so will be ignored when e.g. forecasting.\n",
      "  warnings.warn('A date index has been provided, but it has no'\n",
      "C:\\Users\\imypo\\anaconda3\\lib\\site-packages\\statsmodels\\tsa\\base\\tsa_model.py:581: ValueWarning: A date index has been provided, but it has no associated frequency information and so will be ignored when e.g. forecasting.\n",
      "  warnings.warn('A date index has been provided, but it has no'\n"
     ]
    }
   ],
   "source": [
    "ARMAmodel = SARIMAX(y, order = (1, 0, 1))"
   ]
  },
  {
   "cell_type": "markdown",
   "metadata": {},
   "source": [
    "We then fit outr model:"
   ]
  },
  {
   "cell_type": "code",
   "execution_count": 13,
   "metadata": {},
   "outputs": [
    {
     "name": "stderr",
     "output_type": "stream",
     "text": [
      "C:\\Users\\imypo\\anaconda3\\lib\\site-packages\\statsmodels\\tsa\\statespace\\sarimax.py:966: UserWarning: Non-stationary starting autoregressive parameters found. Using zeros as starting parameters.\n",
      "  warn('Non-stationary starting autoregressive parameters'\n",
      "C:\\Users\\imypo\\anaconda3\\lib\\site-packages\\statsmodels\\base\\model.py:566: ConvergenceWarning: Maximum Likelihood optimization failed to converge. Check mle_retvals\n",
      "  warnings.warn(\"Maximum Likelihood optimization failed to \"\n"
     ]
    }
   ],
   "source": [
    "ARMAmodel = ARMAmodel.fit()"
   ]
  },
  {
   "cell_type": "markdown",
   "metadata": {},
   "source": [
    "Generate our predictions:"
   ]
  },
  {
   "cell_type": "code",
   "execution_count": 14,
   "metadata": {},
   "outputs": [
    {
     "name": "stderr",
     "output_type": "stream",
     "text": [
      "C:\\Users\\imypo\\anaconda3\\lib\\site-packages\\statsmodels\\tsa\\base\\tsa_model.py:376: ValueWarning: No supported index is available. Prediction results will be given with an integer index beginning at `start`.\n",
      "  warnings.warn('No supported index is available.'\n",
      "C:\\Users\\imypo\\anaconda3\\lib\\site-packages\\statsmodels\\tsa\\base\\tsa_model.py:376: ValueWarning: No supported index is available. Prediction results will be given with an integer index beginning at `start`.\n",
      "  warnings.warn('No supported index is available.'\n"
     ]
    }
   ],
   "source": [
    "y_pred = ARMAmodel.get_forecast(len(test.index))\n",
    "y_pred_df = y_pred.conf_int(alpha = 0.05) \n",
    "y_pred_df[\"Predictions\"] = ARMAmodel.predict(start = y_pred_df.index[0], end = y_pred_df.index[-1])\n",
    "y_pred_df.index = test.index\n",
    "y_pred_out = y_pred_df[\"Predictions\"] "
   ]
  },
  {
   "cell_type": "markdown",
   "metadata": {},
   "source": [
    "Plotting the results:"
   ]
  },
  {
   "cell_type": "code",
   "execution_count": 15,
   "metadata": {
    "scrolled": false
   },
   "outputs": [
    {
     "data": {
      "image/png": "[encoded data removed]",
      "text/plain": [
       "<Figure size 1080x216 with 1 Axes>"
      ]
     },
     "metadata": {
      "needs_background": "light"
     },
     "output_type": "display_data"
    }
   ],
   "source": [
    "plt.figure(figsize= (15,3))\n",
    "plt.plot(y_pred_out, color='green', label = 'Predictions')\n",
    "plt.legend();"
   ]
  },
  {
   "cell_type": "code",
   "execution_count": 16,
   "metadata": {},
   "outputs": [
    {
     "name": "stderr",
     "output_type": "stream",
     "text": [
      "<ipython-input-16-04bb30c149c3>:1: SettingWithCopyWarning: \n",
      "A value is trying to be set on a copy of a slice from a DataFrame.\n",
      "Try using .loc[row_indexer,col_indexer] = value instead\n",
      "\n",
      "See the caveats in the documentation: https://pandas.pydata.org/pandas-docs/stable/user_guide/indexing.html#returning-a-view-versus-a-copy\n",
      "  test['Event_Tsunami'] = test['Event_Tsunami'].replace(np.nan, 0)\n"
     ]
    }
   ],
   "source": [
    "test['Event_Tsunami'] = test['Event_Tsunami'].replace(np.nan, 0)"
   ]
  },
  {
   "cell_type": "code",
   "execution_count": 17,
   "metadata": {},
   "outputs": [
    {
     "name": "stdout",
     "output_type": "stream",
     "text": [
      "RMSE:  0.943264058161784\n"
     ]
    }
   ],
   "source": [
    "import numpy as np\n",
    "from sklearn.metrics import mean_squared_error\n",
    "\n",
    "arma_rmse = np.sqrt(mean_squared_error(test['Event_Tsunami'].values, y_pred_df[\"Predictions\"]))\n",
    "print(\"RMSE: \",arma_rmse)"
   ]
  },
  {
   "cell_type": "markdown",
   "metadata": {},
   "source": [
    "## Autoregressive Integrated Moving Average (ARIMA)"
   ]
  },
  {
   "cell_type": "code",
   "execution_count": 18,
   "metadata": {},
   "outputs": [],
   "source": [
    "from statsmodels.tsa.arima.model import ARIMA\n",
    "\n",
    "import numpy as np\n",
    "from sklearn.metrics import mean_squared_error"
   ]
  },
  {
   "cell_type": "markdown",
   "metadata": {},
   "source": [
    "An ARIMA task has three parameters. The first parameter corresponds to the lagging (past values), the second corresponds to differencing (this is what makes non-stationary data stationary), and the last parameter corresponds to the white noise (for modeling extreme weather events). \n",
    "\n",
    "Let’s define an ARIMA model with order parameters (2,2,2):"
   ]
  },
  {
   "cell_type": "raw",
   "metadata": {},
   "source": [
    "plt.figure(figsize= (15,3))\n",
    "ARIMAmodel = ARIMA(y, order = (2, 2, 2))\n",
    "ARIMAmodel = ARIMAmodel.fit()\n",
    "\n",
    "y_pred = ARIMAmodel.get_forecast(len(test.index))\n",
    "y_pred_df = y_pred.conf_int(alpha = 0.05) \n",
    "y_pred_df[\"Predictions\"] = ARIMAmodel.predict(start = y_pred_df.index[0], end = y_pred_df.index[-1])\n",
    "y_pred_df.index = test.index\n",
    "y_pred_out = y_pred_df[\"Predictions\"] \n",
    "plt.plot(y_pred_out, color='Yellow', label = 'ARIMA Predictions')\n",
    "plt.legend();"
   ]
  },
  {
   "cell_type": "markdown",
   "metadata": {},
   "source": [
    "Converting Nan data to 0"
   ]
  },
  {
   "cell_type": "code",
   "execution_count": 19,
   "metadata": {},
   "outputs": [
    {
     "name": "stderr",
     "output_type": "stream",
     "text": [
      "<ipython-input-19-296b1eca999c>:1: SettingWithCopyWarning: \n",
      "A value is trying to be set on a copy of a slice from a DataFrame.\n",
      "Try using .loc[row_indexer,col_indexer] = value instead\n",
      "\n",
      "See the caveats in the documentation: https://pandas.pydata.org/pandas-docs/stable/user_guide/indexing.html#returning-a-view-versus-a-copy\n",
      "  test['Event_Tsunami'] = test['Event_Tsunami'].replace(np.nan, 0)\n"
     ]
    }
   ],
   "source": [
    "test['Event_Tsunami'] = test['Event_Tsunami'].replace(np.nan, 0)\n",
    "#test['AverageTemperature']\n"
   ]
  },
  {
   "cell_type": "markdown",
   "metadata": {},
   "source": [
    "Cheching the error with RMSE:"
   ]
  },
  {
   "cell_type": "code",
   "execution_count": 20,
   "metadata": {},
   "outputs": [
    {
     "name": "stdout",
     "output_type": "stream",
     "text": [
      "RMSE:  0.943264058161784\n"
     ]
    }
   ],
   "source": [
    "arma_rmse = np.sqrt(mean_squared_error(test['Event_Tsunami'].values, y_pred_df[\"Predictions\"]))\n",
    "print(\"RMSE: \",arma_rmse)"
   ]
  },
  {
   "cell_type": "code",
   "execution_count": null,
   "metadata": {},
   "outputs": [],
   "source": []
  },
  {
   "cell_type": "code",
   "execution_count": null,
   "metadata": {},
   "outputs": [],
   "source": []
  },
  {
   "cell_type": "code",
   "execution_count": null,
   "metadata": {},
   "outputs": [],
   "source": []
  },
  {
   "cell_type": "code",
   "execution_count": null,
   "metadata": {},
   "outputs": [],
   "source": []
  },
  {
   "cell_type": "code",
   "execution_count": null,
   "metadata": {},
   "outputs": [],
   "source": []
  }
 ],
 "metadata": {
  "kernelspec": {
   "display_name": "Python 3",
   "language": "python",
   "name": "python3"
  },
  "language_info": {
   "codemirror_mode": {
    "name": "ipython",
    "version": 3
   },
   "file_extension": ".py",
   "mimetype": "text/x-python",
   "name": "python",
   "nbconvert_exporter": "python",
   "pygments_lexer": "ipython3",
   "version": "3.8.8"
  }
 },
 "nbformat": 4,
 "nbformat_minor": 5
}
