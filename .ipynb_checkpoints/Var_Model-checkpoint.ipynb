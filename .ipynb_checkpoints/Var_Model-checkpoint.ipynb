{
 "cells": [
  {
   "cell_type": "code",
   "execution_count": null,
   "id": "32072ae1",
   "metadata": {},
   "outputs": [],
   "source": [
    "#VECTOR AUTO REGRESSION"
   ]
  },
  {
   "cell_type": "code",
   "execution_count": null,
   "id": "00fe836b",
   "metadata": {},
   "outputs": [],
   "source": [
    "from math import sqrt\n",
    "import matplotlib.pyplot as plt\n",
    "import pandas as pd\n",
    "from statsmodels.tsa.stattools import adfuller\n",
    "from statsmodels.tsa.stattools import kpss\n",
    "from sklearn.metrics import mean_squared_error, mean_absolute_error,r2_score\n",
    "from statsmodels.tsa.vector_ar.var_model import VAR\n",
    "\n",
    "\n"
   ]
  },
  {
   "cell_type": "code",
   "execution_count": null,
   "id": "f030bc2a",
   "metadata": {},
   "outputs": [],
   "source": [
    "data = pd.read_csv(\".csv\", delimiter=',', index_col='Date', parse_dates=True)\n",
    "\n",
    "\n"
   ]
  },
  {
   "cell_type": "code",
   "execution_count": null,
   "id": "442462c2",
   "metadata": {},
   "outputs": [],
   "source": [
    "def testing_stationary(timeseries):\n",
    "    # Determing rolling statistics\n",
    "    roll_mean = timeseries.rolling(12).mean()\n",
    "    roll_std = timeseries.rolling(12).std()\n",
    "\n",
    "    # Plot rolling statistics:\n",
    "    orig = plt.plot(timeseries, color='blue', label='Original')\n",
    "    mean = plt.plot(roll_mean, color='red', label='Rolling Mean')\n",
    "    std = plt.plot(roll_std, color='black', label='Rolling Std')\n",
    "    plt.legend(loc='best')\n",
    "    plt.title('Rolling Mean & Standard Deviation')\n",
    "    #plt.show(block=False)\n",
    "\n",
    "    "
   ]
  },
  {
   "cell_type": "code",
   "execution_count": null,
   "id": "8c3e8a2b",
   "metadata": {},
   "outputs": [],
   "source": [
    "# Perform Dickey-Fuller test:\n",
    "    print('Results of Dickey-Fuller Test:')\n",
    "\n",
    "    "
   ]
  },
  {
   "cell_type": "code",
   "execution_count": null,
   "id": "1851ef1d",
   "metadata": {},
   "outputs": [],
   "source": [
    "# The number of lags is chosen to minimise the Akaike's Information Criterion (AIC)\n",
    "    dftest = adfuller(timeseries, autolag='AIC')\n",
    "    dfoutput = pd.Series(dftest[0:4], index=['Test Statistic', 'p-value', '#Lags Used', 'Number of Observations Used'])\n",
    "\n",
    "    for key, value in dftest[4].items():\n",
    "        dfoutput['Critical Value (%s)' % key] = value\n",
    "    print(dfoutput)\n",
    "\n",
    "    print('\\n\\n')\n",
    "\n",
    "   "
   ]
  },
  {
   "cell_type": "code",
   "execution_count": null,
   "id": "371bbda5",
   "metadata": {},
   "outputs": [],
   "source": [
    " # Perform KPSS test:\n",
    "    print('Results of KPSS Test:')\n",
    "\n",
    "    kpsstest = kpss(timeseries, regression='c')\n",
    "    kpss_output = pd.Series(kpsstest[0:3], index=['Test Statistic', 'p-value', 'Lags Used'])\n",
    "\n",
    "    for key, value in kpsstest[3].items():\n",
    "        kpss_output['Critical Value (%s)' % key] = value\n",
    "    print(kpss_output)\n",
    "\n",
    "\n"
   ]
  },
  {
   "cell_type": "code",
   "execution_count": null,
   "id": "55f78171",
   "metadata": {},
   "outputs": [],
   "source": [
    "testing_stationary(data[\"Depth\"])\n",
    "# testing_stationary(data[\"Magnitude\"])\n",
    "# testing_stationary(data[\"Latitude\"])\n",
    "# testing_stationary(data[\"Longitude\"])\n",
    "\n"
   ]
  },
  {
   "cell_type": "code",
   "execution_count": null,
   "id": "87c93069",
   "metadata": {},
   "outputs": [],
   "source": [
    "# Make data stationary\n",
    "# 1st difference\n",
    "df_differenced = data.diff().dropna()\n",
    "testing_stationary(df_differenced[\"Depth\"])\n",
    "testing_stationary(df_differenced[\"Magnitude\"])\n",
    "testing_stationary(df_differenced[\"Latitude\"])\n",
    "testing_stationary(df_differenced[\"Longitude\"])\n",
    "\n"
   ]
  },
  {
   "cell_type": "code",
   "execution_count": null,
   "id": "ecadb763",
   "metadata": {},
   "outputs": [],
   "source": [
    "# Train-test part\n",
    "train, test = df_differenced.iloc[:23158, :], data.iloc[23158:, :]\n",
    "\n"
   ]
  },
  {
   "cell_type": "code",
   "execution_count": null,
   "id": "34d09eb8",
   "metadata": {},
   "outputs": [],
   "source": [
    "# Fit the model\n",
    "model = VAR(endog=train.astype(float), freq=None)\n",
    "model_fit = model.fit()\n",
    "\n"
   ]
  },
  {
   "cell_type": "code",
   "execution_count": null,
   "id": "e441e3c0",
   "metadata": {},
   "outputs": [],
   "source": [
    "# make prediction on validation\n",
    "prediction = model_fit.forecast(model_fit.y, steps=len(test))\n",
    "\n",
    "cols = data.columns\n",
    "pred = pd.DataFrame(index=range(0,len(prediction)),columns=[cols])\n",
    "for j in range(0,4):\n",
    "    for i in range(0, len(prediction)):\n",
    "       pred.iloc[i][j] = prediction[i][j]\n",
    "\n",
    "for i in cols:\n",
    "    print('RMSE value for', i, 'is : ', sqrt(mean_squared_error(pred[i], test[i])))\n",
    "\n",
    "p_mag = pd.DataFrame(test['Magnitude'])\n",
    "p_mag['pred'] = pred['Magnitude'].values\n",
    "p_mag.plot(legend=True)\n",
    "plt.show()\n",
    "\n"
   ]
  },
  {
   "cell_type": "code",
   "execution_count": null,
   "id": "cc8ce6ae",
   "metadata": {},
   "outputs": [],
   "source": [
    "rmse_var_pred = sqrt(mean_squared_error(p_mag['Magnitude'], p_mag['pred']))\n",
    "print(\"RMSE\", rmse_var_pred)\n",
    "var_score = r2_score(p_mag['Magnitude'], p_mag['pred'])\n",
    "print(\"r2 score \", var_score)\n",
    "var_ms = mean_squared_error(p_mag['Magnitude'], p_mag['pred'])\n",
    "print(\"mean squared error \", var_ms)\n",
    "var_m = mean_absolute_error(p_mag['Magnitude'], p_mag['pred'])\n",
    "print(\"mean absolute error \", var_m)"
   ]
  }
 ],
 "metadata": {
  "kernelspec": {
   "display_name": "Python 3",
   "language": "python",
   "name": "python3"
  },
  "language_info": {
   "codemirror_mode": {
    "name": "ipython",
    "version": 3
   },
   "file_extension": ".py",
   "mimetype": "text/x-python",
   "name": "python",
   "nbconvert_exporter": "python",
   "pygments_lexer": "ipython3",
   "version": "3.8.8"
  }
 },
 "nbformat": 4,
 "nbformat_minor": 5
}
