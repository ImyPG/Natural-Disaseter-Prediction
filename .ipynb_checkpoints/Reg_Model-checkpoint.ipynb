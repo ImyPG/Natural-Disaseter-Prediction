{
 "cells": [
  {
   "cell_type": "markdown",
   "id": "03eef8b5",
   "metadata": {},
   "source": [
    "##Methods\n",
    "Regression Techniques:\n",
    "\n",
    "#Multiple Linear Regression\n",
    "-Polynomial Linear Regression\n",
    "-Decision Tree\n",
    "-Random Forest\n",
    "-Support Vector Regression\n",
    "-Multivariate Time Series\n",
    "\n",
    "#Measure of Stationary\n",
    "-Making a Time Series Stationary\n",
    "-Vector Auto Regression (VAR)\n",
    "-Long Short-term Memory (LSTM)\n",
    "-Measuring the Performance of Regression Models:\n",
    "\n",
    "#Root Mean Squared Error (RMSE)\n",
    "-R-Square Score\n",
    "-Mean Squared Error (MSE)\n",
    "-Mean Absolute Error (MAE)"
   ]
  },
  {
   "cell_type": "code",
   "execution_count": 1,
   "id": "ac087c36",
   "metadata": {},
   "outputs": [],
   "source": [
    "import glob\n",
    "import datetime\n",
    "import time\n",
    "from math import sqrt\n",
    "import pandas as pd\n",
    "import numpy as np\n",
    "import matplotlib.pyplot as plt\n",
    "from sklearn.ensemble import RandomForestRegressor\n",
    "from sklearn.linear_model import LinearRegression\n",
    "from sklearn.model_selection import train_test_split\n",
    "from sklearn.metrics import r2_score, mean_squared_error, mean_absolute_error\n",
    "from sklearn.preprocessing import PolynomialFeatures, StandardScaler\n",
    "from sklearn.tree import DecisionTreeRegressor"
   ]
  },
  {
   "cell_type": "code",
   "execution_count": 2,
   "metadata": {},
   "outputs": [],
   "source": [
    "#df = pd.read_csv(\"Joined_data.csv\",  delimiter=',', parse_dates=['Date'], index_col=\"Date\")\n",
    "df = pd.read_csv(\"Joined_data.csv\",  delimiter=',')"
   ]
  },
  {
   "cell_type": "code",
   "execution_count": 3,
   "metadata": {},
   "outputs": [],
   "source": [
    "# We cannot have nan values -- fill-in nan values with default value\n",
    "df = df.fillna(0).replace([np.inf,-np.inf],0)"
   ]
  },
  {
   "cell_type": "code",
   "execution_count": 4,
   "metadata": {},
   "outputs": [],
   "source": [
    "col_for_model_lst = [\n",
    "    'AverageTemperature',\n",
    "    'AverageTemperatureUncertainty',\n",
    "    'COUNTRY',\n",
    "    'CAUSE_MODE',\n",
    "    'EQ_MAGNI_MEAN',\n",
    "    'DEATHS_MEAN',\n",
    "    'DEATHS_MAX',\n",
    "    'DEATHS_STD',\n",
    "    #'Event_Tsunami',\n",
    "    'Event_Earthquake',\n",
    "    'PENUMBRAL',\n",
    "    #'PARTIAL ECLIPSE',\n",
    "    #'ECLIPSE_TYPE',\n",
    "    'MAGNITUD',\n",
    "    #'PLANET_POSITION',\n",
    "    'Lunar_Eclipse',\n",
    "    'Solar_Eclipse'\n",
    "]"
   ]
  },
  {
   "cell_type": "code",
   "execution_count": 5,
   "metadata": {},
   "outputs": [],
   "source": [
    "date_df = df[col_for_model_lst]"
   ]
  },
  {
   "cell_type": "code",
   "execution_count": 6,
   "metadata": {},
   "outputs": [],
   "source": [
    "# Build my model for one country\n",
    "#date_df.COUNTRY.unique()\n",
    "date_df = date_df[date_df.COUNTRY==\"Chile\"]\n",
    "\n",
    "date_df = date_df.drop(\"COUNTRY\", axis=1)"
   ]
  },
  {
   "cell_type": "code",
   "execution_count": 7,
   "metadata": {},
   "outputs": [],
   "source": [
    "#date_df = date_df.astype(np.float32).round(2)"
   ]
  },
  {
   "cell_type": "code",
   "execution_count": 8,
   "metadata": {},
   "outputs": [
    {
     "data": {
      "text/html": [
       "<div>\n",
       "<style scoped>\n",
       "    .dataframe tbody tr th:only-of-type {\n",
       "        vertical-align: middle;\n",
       "    }\n",
       "\n",
       "    .dataframe tbody tr th {\n",
       "        vertical-align: top;\n",
       "    }\n",
       "\n",
       "    .dataframe thead th {\n",
       "        text-align: right;\n",
       "    }\n",
       "</style>\n",
       "<table border=\"1\" class=\"dataframe\">\n",
       "  <thead>\n",
       "    <tr style=\"text-align: right;\">\n",
       "      <th></th>\n",
       "      <th>AverageTemperature</th>\n",
       "      <th>AverageTemperatureUncertainty</th>\n",
       "      <th>CAUSE_MODE</th>\n",
       "      <th>EQ_MAGNI_MEAN</th>\n",
       "      <th>DEATHS_MEAN</th>\n",
       "      <th>DEATHS_MAX</th>\n",
       "      <th>DEATHS_STD</th>\n",
       "      <th>Event_Earthquake</th>\n",
       "      <th>PENUMBRAL</th>\n",
       "      <th>MAGNITUD</th>\n",
       "      <th>Lunar_Eclipse</th>\n",
       "      <th>Solar_Eclipse</th>\n",
       "    </tr>\n",
       "  </thead>\n",
       "  <tbody>\n",
       "    <tr>\n",
       "      <th>0</th>\n",
       "      <td>7.152</td>\n",
       "      <td>1.296</td>\n",
       "      <td>0.0</td>\n",
       "      <td>0.0</td>\n",
       "      <td>0.0</td>\n",
       "      <td>0.0</td>\n",
       "      <td>0.0</td>\n",
       "      <td>0.0</td>\n",
       "      <td>346.1</td>\n",
       "      <td>0.7624</td>\n",
       "      <td>1</td>\n",
       "      <td>1</td>\n",
       "    </tr>\n",
       "    <tr>\n",
       "      <th>1</th>\n",
       "      <td>4.257</td>\n",
       "      <td>1.641</td>\n",
       "      <td>0.0</td>\n",
       "      <td>0.0</td>\n",
       "      <td>0.0</td>\n",
       "      <td>0.0</td>\n",
       "      <td>0.0</td>\n",
       "      <td>0.0</td>\n",
       "      <td>0.0</td>\n",
       "      <td>0.0000</td>\n",
       "      <td>0</td>\n",
       "      <td>0</td>\n",
       "    </tr>\n",
       "    <tr>\n",
       "      <th>2</th>\n",
       "      <td>4.113</td>\n",
       "      <td>1.313</td>\n",
       "      <td>0.0</td>\n",
       "      <td>0.0</td>\n",
       "      <td>0.0</td>\n",
       "      <td>0.0</td>\n",
       "      <td>0.0</td>\n",
       "      <td>0.0</td>\n",
       "      <td>0.0</td>\n",
       "      <td>0.0000</td>\n",
       "      <td>0</td>\n",
       "      <td>0</td>\n",
       "    </tr>\n",
       "    <tr>\n",
       "      <th>3</th>\n",
       "      <td>5.508</td>\n",
       "      <td>1.168</td>\n",
       "      <td>0.0</td>\n",
       "      <td>0.0</td>\n",
       "      <td>0.0</td>\n",
       "      <td>0.0</td>\n",
       "      <td>0.0</td>\n",
       "      <td>0.0</td>\n",
       "      <td>0.0</td>\n",
       "      <td>0.0000</td>\n",
       "      <td>0</td>\n",
       "      <td>0</td>\n",
       "    </tr>\n",
       "    <tr>\n",
       "      <th>4</th>\n",
       "      <td>6.684</td>\n",
       "      <td>1.153</td>\n",
       "      <td>0.0</td>\n",
       "      <td>0.0</td>\n",
       "      <td>0.0</td>\n",
       "      <td>0.0</td>\n",
       "      <td>0.0</td>\n",
       "      <td>0.0</td>\n",
       "      <td>0.0</td>\n",
       "      <td>0.0000</td>\n",
       "      <td>0</td>\n",
       "      <td>0</td>\n",
       "    </tr>\n",
       "  </tbody>\n",
       "</table>\n",
       "</div>"
      ],
      "text/plain": [
       "   AverageTemperature  AverageTemperatureUncertainty  CAUSE_MODE  \\\n",
       "0               7.152                          1.296         0.0   \n",
       "1               4.257                          1.641         0.0   \n",
       "2               4.113                          1.313         0.0   \n",
       "3               5.508                          1.168         0.0   \n",
       "4               6.684                          1.153         0.0   \n",
       "\n",
       "   EQ_MAGNI_MEAN  DEATHS_MEAN  DEATHS_MAX  DEATHS_STD  Event_Earthquake  \\\n",
       "0            0.0          0.0         0.0         0.0               0.0   \n",
       "1            0.0          0.0         0.0         0.0               0.0   \n",
       "2            0.0          0.0         0.0         0.0               0.0   \n",
       "3            0.0          0.0         0.0         0.0               0.0   \n",
       "4            0.0          0.0         0.0         0.0               0.0   \n",
       "\n",
       "   PENUMBRAL  MAGNITUD  Lunar_Eclipse  Solar_Eclipse  \n",
       "0      346.1    0.7624              1              1  \n",
       "1        0.0    0.0000              0              0  \n",
       "2        0.0    0.0000              0              0  \n",
       "3        0.0    0.0000              0              0  \n",
       "4        0.0    0.0000              0              0  "
      ]
     },
     "execution_count": 8,
     "metadata": {},
     "output_type": "execute_result"
    }
   ],
   "source": [
    "date_df.head()"
   ]
  },
  {
   "cell_type": "code",
   "execution_count": 9,
   "id": "9da08f1b",
   "metadata": {},
   "outputs": [
    {
     "name": "stdout",
     "output_type": "stream",
     "text": [
      "(1960, 12)\n",
      "(1960,)\n"
     ]
    }
   ],
   "source": [
    "data = df# df[['YEAR','MONTH','AverageTemperature','Lunar_Eclipse', 'Solar_Eclipse','Event_Tsunami', 'Event_Earthquake']]\n",
    "\n",
    "X = date_df#data.iloc[:, -1:].values\n",
    "y = df[df.COUNTRY==\"Chile\"]['Event_Tsunami']#data.iloc[:, -1].values\n",
    "\n",
    "print(X.shape)\n",
    "print(y.shape)"
   ]
  },
  {
   "cell_type": "code",
   "execution_count": 19,
   "metadata": {},
   "outputs": [],
   "source": [
    "X_train, X_test, y_train, y_test = train_test_split(X, y, test_size=0.3, random_state=0)\n",
    "\n",
    "sc = StandardScaler()\n",
    "x_train_scale = sc.fit_transform(X_train)\n",
    "x_test_scale = sc.transform(X_test)\n",
    "\n",
    "#sc2 = StandardScaler()\n",
    "#y_train_scale = np.ravel(sc2.fit_transform(y_train.reshape(-1,1)))"
   ]
  },
  {
   "cell_type": "code",
   "execution_count": 12,
   "metadata": {},
   "outputs": [],
   "source": [
    "#y_train"
   ]
  },
  {
   "cell_type": "code",
   "execution_count": 13,
   "metadata": {},
   "outputs": [],
   "source": [
    "# Linear Regression\n",
    "lr = LinearRegression()\n",
    "lr.fit(X_train, y_train)\n",
    "l_pred = lr.predict(X_test)"
   ]
  },
  {
   "cell_type": "code",
   "execution_count": 14,
   "id": "d4f0e2c3",
   "metadata": {},
   "outputs": [
    {
     "name": "stdout",
     "output_type": "stream",
     "text": [
      "Linear Regression RMSE 0.0\n",
      "Linear Regression r2 score  1.0\n",
      "Linear Regression  mean squared error  0.0\n",
      "Linear Regression  mean absolute error  0.0\n"
     ]
    }
   ],
   "source": [
    "l_df = pd.DataFrame({'Actual': y_test, 'Predicted': l_pred})\n",
    "rmse_l_pred = sqrt(mean_squared_error(y_test, l_pred))\n",
    "print(\"Linear Regression RMSE\", rmse_l_pred)\n",
    "lr_score = r2_score(y_test, l_pred)\n",
    "print(\"Linear Regression r2 score \", lr_score)\n",
    "dt_ms = mean_squared_error(y_test, l_pred)\n",
    "print(\"Linear Regression  mean squared error \", dt_ms)\n",
    "lr_m = mean_absolute_error(y_test, l_pred)\n",
    "print(\"Linear Regression  mean absolute error \", lr_m)"
   ]
  },
  {
   "cell_type": "code",
   "execution_count": 20,
   "metadata": {},
   "outputs": [],
   "source": [
    "# Linear Regression\n",
    "lr_v2 = LinearRegression()\n",
    "lr_v2.fit(x_train_scale, y_train)\n",
    "l_pred_v2 = lr.predict(x_test_scale)"
   ]
  },
  {
   "cell_type": "code",
   "execution_count": null,
   "metadata": {},
   "outputs": [],
   "source": [
    "#replace wth v2\n",
    "l_df = pd.DataFrame({'Actual': y_test, 'Predicted': l_pred})\n",
    "rmse_l_pred = sqrt(mean_squared_error(y_test, l_pred))\n",
    "print(\"Linear Regression RMSE\", rmse_l_pred)\n",
    "lr_score = r2_score(y_test, l_pred)\n",
    "print(\"Linear Regression r2 score \", lr_score)\n",
    "dt_ms = mean_squared_error(y_test, l_pred)\n",
    "print(\"Linear Regression  mean squared error \", dt_ms)\n",
    "lr_m = mean_absolute_error(y_test, l_pred)\n",
    "print(\"Linear Regression  mean absolute error \", lr_m)"
   ]
  },
  {
   "cell_type": "code",
   "execution_count": 21,
   "id": "6644cfb4",
   "metadata": {},
   "outputs": [
    {
     "name": "stdout",
     "output_type": "stream",
     "text": [
      "Polynomial Regression RMSE 0.0\n",
      "Polynomial Regression r2 score  1.0\n",
      "Polynomial Regression  mean squared error  0.0\n",
      "Polynomial Regression  mean absolute error  0.0\n"
     ]
    }
   ],
   "source": [
    "# Polynomial Regression\n",
    "poly_reg = PolynomialFeatures(degree=2)\n",
    "x_poly = poly_reg.fit_transform(X_train)\n",
    "lr2 = LinearRegression()\n",
    "lr2.fit(x_poly, y_train)\n",
    "poly_reg = lr2.predict(poly_reg.fit_transform(X_test))\n",
    "p_df = pd.DataFrame({'Actual': y_test, 'Predicted': poly_reg})\n",
    "rmse_p_reg = sqrt(mean_squared_error(y_test, poly_reg))\n",
    "print(\"Polynomial Regression RMSE\", rmse_p_reg)\n",
    "pr_score = r2_score(y_test, poly_reg)\n",
    "print(\"Polynomial Regression r2 score \", pr_score)\n",
    "pr_ms = mean_squared_error(y_test, poly_reg)\n",
    "print(\"Polynomial Regression  mean squared error \", pr_ms)\n",
    "pr_m = mean_absolute_error(y_test, poly_reg)\n",
    "print(\"Polynomial Regression  mean absolute error \", pr_m)"
   ]
  },
  {
   "cell_type": "code",
   "execution_count": 22,
   "id": "c8c227bd",
   "metadata": {},
   "outputs": [
    {
     "name": "stdout",
     "output_type": "stream",
     "text": [
      "Decision Tree RMSE 0.0\n",
      "Decision Tree r2 score  1.0\n",
      "Decision Tree  mean squared error  0.0\n",
      "Decision Tree  mean absolute error  0.0\n"
     ]
    }
   ],
   "source": [
    "# Decision Tree\n",
    "r_dt = DecisionTreeRegressor(random_state=0, max_depth=2)\n",
    "r_dt.fit(X_train, y_train)\n",
    "d_pred = r_dt.predict(X_test)\n",
    "d_df = pd.DataFrame({'Actual': y_test, 'Predicted': d_pred})\n",
    "rmse_d_pred = sqrt(mean_squared_error(y_test, d_pred))\n",
    "print(\"Decision Tree RMSE\", rmse_d_pred)\n",
    "dt_score = r2_score(y_test, d_pred)\n",
    "print(\"Decision Tree r2 score \", dt_score)\n",
    "dt_ms = mean_squared_error(y_test, d_pred)\n",
    "print(\"Decision Tree  mean squared error \", dt_ms)\n",
    "dt_m = mean_absolute_error(y_test, d_pred)\n",
    "print(\"Decision Tree  mean absolute error \", dt_m)"
   ]
  },
  {
   "cell_type": "code",
   "execution_count": 23,
   "id": "f29040bd",
   "metadata": {},
   "outputs": [
    {
     "name": "stdout",
     "output_type": "stream",
     "text": [
      "Random Forest RMSE  0.0\n",
      "Random Forest r2 score  1.0\n",
      "Random Forest mean squared error  0.0\n",
      "Random Forest  mean absolute error  0.0\n"
     ]
    }
   ],
   "source": [
    "# Random Forest\n",
    "# max depth versus error\n",
    "md = 20\n",
    "md_errors = np.zeros(md)\n",
    "# random forest regression\n",
    "for i in range(1, md + 1):\n",
    "    rf_reg = RandomForestRegressor(n_estimators=100, max_depth=i, random_state=0)\n",
    "    rf_reg.fit(X_train, y_train)\n",
    "    r_pred = rf_reg.predict(X_test)\n",
    "    # finding error\n",
    "    md_errors[i - 1] = sqrt(mean_squared_error(y_test, r_pred))\n",
    "r_df = pd.DataFrame({'Actual': y_test, 'Predicted': r_pred})\n",
    "print(\"Random Forest RMSE \", md_errors[i - 1])\n",
    "rf_score = r2_score(y_test, r_pred)\n",
    "print(\"Random Forest r2 score \", rf_score)\n",
    "rf_ms = mean_squared_error(y_test, r_pred)\n",
    "print(\"Random Forest mean squared error \", rf_ms)\n",
    "rf_m = mean_absolute_error(y_test, r_pred)\n",
    "print(\"Random Forest  mean absolute error \", rf_m)"
   ]
  },
  {
   "cell_type": "code",
   "execution_count": 25,
   "id": "5d0fc161",
   "metadata": {},
   "outputs": [
    {
     "name": "stdout",
     "output_type": "stream",
     "text": [
      "SVR RMSE 0.0\n",
      "SVR r2 score  1.0\n",
      "SVR mean squared error  0.0\n",
      "SVR mean absolute error  0.0\n"
     ]
    }
   ],
   "source": [
    "# SVR\n",
    "from sklearn.svm import SVR\n",
    "svr = SVR(kernel='rbf')\n",
    "svr.fit(x_train_scale, y_train)\n",
    "svr_pred = svr.predict(X_test)\n",
    "svr_df = pd.DataFrame({'Actual': y_test, 'Predicted': svr_pred})\n",
    "rmse_svr_pred = sqrt(mean_squared_error(y_test, svr_pred))\n",
    "print(\"SVR RMSE\", rmse_svr_pred)\n",
    "svr_score = r2_score(y_test, svr_pred)\n",
    "print(\"SVR r2 score \", svr_score)\n",
    "svr_ms = mean_squared_error(y_test, svr_pred)\n",
    "print(\"SVR mean squared error \", svr_ms)\n",
    "svr_m = mean_absolute_error(y_test, svr_pred)\n",
    "print(\"SVR mean absolute error \", svr_m)"
   ]
  },
  {
   "cell_type": "code",
   "execution_count": null,
   "id": "315f4427",
   "metadata": {},
   "outputs": [],
   "source": [
    "# Visualize Results\n"
   ]
  },
  {
   "cell_type": "code",
   "execution_count": null,
   "id": "5914004c",
   "metadata": {},
   "outputs": [],
   "source": [
    "# Linear Regression\n",
    "plt.figure(figsize=(6, 5))\n",
    "plt.scatter(l_df['Actual'], l_df['Predicted'], color='b')\n",
    "plt.plot([min(l_df['Actual']), max(l_df['Actual'])], [min(l_df['Predicted']), max(l_df['Actual'])], '--k')\n",
    "plt.axis('tight')\n",
    "plt.title(\"Linear Regression true and predicted value comparison\")\n",
    "plt.xlabel(\"y_test\")\n",
    "plt.ylabel(\"pred\")\n",
    "plt.tight_layout()\n",
    "plt.show()\n",
    "\n"
   ]
  },
  {
   "cell_type": "code",
   "execution_count": null,
   "id": "58a06618",
   "metadata": {},
   "outputs": [],
   "source": [
    "# Polynomial\n",
    "plt.figure(figsize=(6, 5))\n",
    "plt.scatter(p_df['Actual'], p_df['Predicted'], color='r')\n",
    "plt.plot([min(p_df['Actual']), max(p_df['Actual'])], [min(p_df['Predicted']), max(p_df['Actual'])], '--k')\n",
    "plt.axis('tight')\n",
    "plt.title(\"Polynomial Regression true and predicted value comparison\")\n",
    "plt.xlabel(\"y_test\")\n",
    "plt.ylabel(\"pred\")\n",
    "plt.tight_layout()\n",
    "plt.show()\n",
    "\n"
   ]
  },
  {
   "cell_type": "code",
   "execution_count": null,
   "id": "cf856f6b",
   "metadata": {},
   "outputs": [],
   "source": [
    "# Decision Tree\n",
    "plt.figure(figsize=(6, 5))\n",
    "plt.scatter(d_df['Actual'], d_df['Predicted'], color='g')\n",
    "plt.plot([min(d_df['Actual']), max(d_df['Actual'])], [min(d_df['Predicted']), max(d_df['Actual'])], '--k')\n",
    "plt.axis('tight')\n",
    "plt.title(\"Decision Tree true and predicted value comparison\")\n",
    "plt.xlabel(\"y_test\")\n",
    "plt.ylabel(\"pred\")\n",
    "plt.tight_layout()\n",
    "plt.show()\n",
    "\n"
   ]
  },
  {
   "cell_type": "code",
   "execution_count": null,
   "id": "440e4e3b",
   "metadata": {},
   "outputs": [],
   "source": [
    "# Random\n",
    "plt.figure(figsize=(6, 5))\n",
    "plt.scatter(r_df['Actual'], r_df['Predicted'], color='y')\n",
    "plt.plot([min(r_df['Actual']), max(r_df['Actual'])], [min(r_df['Predicted']), max(r_df['Actual'])], '--k')\n",
    "plt.axis('tight')\n",
    "plt.title(\"Random Forest true and predicted value comparison\")\n",
    "plt.xlabel(\"y_test\")\n",
    "plt.ylabel(\"pred\")\n",
    "plt.tight_layout()\n",
    "plt.show()\n",
    "\n",
    "\n"
   ]
  },
  {
   "cell_type": "code",
   "execution_count": null,
   "id": "ec89ac91",
   "metadata": {},
   "outputs": [],
   "source": [
    "# SVR\n",
    "plt.figure(figsize=(6, 5))\n",
    "plt.scatter(svr_df['Actual'], svr_df['Predicted'], color='b')\n",
    "plt.plot([min(svr_df['Actual']), max(svr_df['Actual'])], [min(svr_df['Predicted']), max(svr_df['Actual'])], '--k')\n",
    "plt.axis('tight')\n",
    "plt.title(\"SVR true and predicted value comparison\")\n",
    "plt.xlabel(\"y_test\")\n",
    "plt.ylabel(\"pred\")\n",
    "plt.tight_layout()\n",
    "plt.show()"
   ]
  }
 ],
 "metadata": {
  "kernelspec": {
   "display_name": "Python 3",
   "language": "python",
   "name": "python3"
  },
  "language_info": {
   "codemirror_mode": {
    "name": "ipython",
    "version": 3
   },
   "file_extension": ".py",
   "mimetype": "text/x-python",
   "name": "python",
   "nbconvert_exporter": "python",
   "pygments_lexer": "ipython3",
   "version": "3.8.8"
  }
 },
 "nbformat": 4,
 "nbformat_minor": 5
}
