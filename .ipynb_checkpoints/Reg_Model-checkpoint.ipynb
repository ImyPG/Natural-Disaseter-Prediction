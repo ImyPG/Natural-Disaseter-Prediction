{
 "cells": [
  {
   "cell_type": "markdown",
   "id": "03eef8b5",
   "metadata": {},
   "source": [
    "##Methods\n",
    "Regression Techniques:\n",
    "\n",
    "#Multiple Linear Regression\n",
    "-Polynomial Linear Regression\n",
    "-Decision Tree\n",
    "-Random Forest\n",
    "-Support Vector Regression\n",
    "-Multivariate Time Series\n",
    "\n",
    "#Measure of Stationary\n",
    "-Making a Time Series Stationary\n",
    "-Vector Auto Regression (VAR)\n",
    "-Long Short-term Memory (LSTM)\n",
    "-Measuring the Performance of Regression Models:\n",
    "\n",
    "#Root Mean Squared Error (RMSE)\n",
    "-R-Square Score\n",
    "-Mean Squared Error (MSE)\n",
    "-Mean Absolute Error (MAE)"
   ]
  },
  {
   "cell_type": "code",
   "execution_count": null,
   "id": "ac087c36",
   "metadata": {},
   "outputs": [],
   "source": [
    "import glob\n",
    "import datetime\n",
    "import time\n",
    "from math import sqrt\n",
    "import pandas as pd\n",
    "import numpy as np\n",
    "import matplotlib.pyplot as plt\n",
    "from sklearn.ensemble import RandomForestRegressor\n",
    "from sklearn.linear_model import LinearRegression\n",
    "from sklearn.model_selection import train_test_split\n",
    "from sklearn.metrics import r2_score, mean_squared_error, mean_absolute_error\n",
    "from sklearn.preprocessing import PolynomialFeatures, StandardScaler\n",
    "from sklearn.tree import DecisionTreeRegressor"
   ]
  },
  {
   "cell_type": "code",
   "execution_count": null,
   "id": "9da08f1b",
   "metadata": {},
   "outputs": [],
   "source": [
    "data = data[['Timestamp', 'Latitude', 'Longitude', 'Depth', 'Magnitude']]\n",
    "\n",
    "X = data.iloc[:, -1:].values\n",
    "y = data.iloc[:, -1].values\n",
    "\n",
    "X_train, X_test, y_train, y_test = train_test_split(X, y, test_size=0.3, random_state=0)\n",
    "\n",
    "sc = StandardScaler()\n",
    "x_train_scale = sc.fit_transform(X_train)\n",
    "sc2 = StandardScaler()\n",
    "y_train_scale = np.ravel(sc2.fit_transform(y_train.reshape(-1,1)))\n",
    "\n",
    "\n",
    "\n"
   ]
  },
  {
   "cell_type": "code",
   "execution_count": null,
   "id": "d4f0e2c3",
   "metadata": {},
   "outputs": [],
   "source": [
    "# Linear Regression\n",
    "lr = LinearRegression()\n",
    "lr.fit(X_train, y_train)\n",
    "l_pred = lr.predict(X_test)\n",
    "l_df = pd.DataFrame({'Actual': y_test, 'Predicted': l_pred})\n",
    "rmse_l_pred = sqrt(mean_squared_error(y_test, l_pred))\n",
    "print(\"Linear Regression RMSE\", rmse_l_pred)\n",
    "lr_score = r2_score(y_test, l_pred)\n",
    "print(\"Linear Regression r2 score \", lr_score)\n",
    "dt_ms = mean_squared_error(y_test, l_pred)\n",
    "print(\"Linear Regression  mean squared error \", dt_ms)\n",
    "lr_m = mean_absolute_error(y_test, l_pred)\n",
    "print(\"Linear Regression  mean absolute error \", lr_m)\n",
    "\n"
   ]
  },
  {
   "cell_type": "code",
   "execution_count": null,
   "id": "6644cfb4",
   "metadata": {},
   "outputs": [],
   "source": [
    "# Polynomial Regression\n",
    "poly_reg = PolynomialFeatures(degree=2)\n",
    "x_poly = poly_reg.fit_transform(X_train)\n",
    "lr2 = LinearRegression()\n",
    "lr2.fit(x_poly, y_train)\n",
    "poly_reg = lr2.predict(poly_reg.fit_transform(X_test))\n",
    "p_df = pd.DataFrame({'Actual': y_test, 'Predicted': poly_reg})\n",
    "rmse_p_reg = sqrt(mean_squared_error(y_test, poly_reg))\n",
    "print(\"Polynomial Regression RMSE\", rmse_p_reg)\n",
    "pr_score = r2_score(y_test, poly_reg)\n",
    "print(\"Polynomial Regression r2 score \", pr_score)\n",
    "pr_ms = mean_squared_error(y_test, poly_reg)\n",
    "print(\"Polynomial Regression  mean squared error \", pr_ms)\n",
    "pr_m = mean_absolute_error(y_test, poly_reg)\n",
    "print(\"Polynomial Regression  mean absolute error \", pr_m)\n",
    "\n",
    "\n"
   ]
  },
  {
   "cell_type": "code",
   "execution_count": null,
   "id": "c8c227bd",
   "metadata": {},
   "outputs": [],
   "source": [
    "# Decision Tree\n",
    "r_dt = DecisionTreeRegressor(random_state=0, max_depth=2)\n",
    "r_dt.fit(X_train, y_train)\n",
    "d_pred = r_dt.predict(X_test)\n",
    "d_df = pd.DataFrame({'Actual': y_test, 'Predicted': d_pred})\n",
    "rmse_d_pred = sqrt(mean_squared_error(y_test, d_pred))\n",
    "print(\"Decision Tree RMSE\", rmse_d_pred)\n",
    "dt_score = r2_score(y_test, d_pred)\n",
    "print(\"Decision Tree r2 score \", dt_score)\n",
    "dt_ms = mean_squared_error(y_test, d_pred)\n",
    "print(\"Decision Tree  mean squared error \", dt_ms)\n",
    "dt_m = mean_absolute_error(y_test, d_pred)\n",
    "print(\"Decision Tree  mean absolute error \", dt_m)\n",
    "\n"
   ]
  },
  {
   "cell_type": "code",
   "execution_count": null,
   "id": "f29040bd",
   "metadata": {},
   "outputs": [],
   "source": [
    "# Random Forest\n",
    "# max depth versus error\n",
    "md = 20\n",
    "md_errors = np.zeros(md)\n",
    "# random forest regression\n",
    "for i in range(1, md + 1):\n",
    "    rf_reg = RandomForestRegressor(n_estimators=100, max_depth=i, random_state=0)\n",
    "    rf_reg.fit(X_train, y_train)\n",
    "    r_pred = rf_reg.predict(X_test)\n",
    "    # finding error\n",
    "    md_errors[i - 1] = sqrt(mean_squared_error(y_test, r_pred))\n",
    "r_df = pd.DataFrame({'Actual': y_test, 'Predicted': r_pred})\n",
    "print(\"Random Forest RMSE \", md_errors[i - 1])\n",
    "rf_score = r2_score(y_test, r_pred)\n",
    "print(\"Random Forest r2 score \", rf_score)\n",
    "rf_ms = mean_squared_error(y_test, r_pred)\n",
    "print(\"Random Forest mean squared error \", rf_ms)\n",
    "rf_m = mean_absolute_error(y_test, r_pred)\n",
    "print(\"Random Forest  mean absolute error \", rf_m)\n",
    "\n"
   ]
  },
  {
   "cell_type": "code",
   "execution_count": null,
   "id": "5d0fc161",
   "metadata": {},
   "outputs": [],
   "source": [
    "# SVR\n",
    "from sklearn.svm import SVR\n",
    "svr = SVR(kernel='rbf')\n",
    "svr.fit(x_train_scale, y_train_scale)\n",
    "svr_pred = svr.predict(X_test)\n",
    "svr_df = pd.DataFrame({'Actual': y_test, 'Predicted': svr_pred})\n",
    "rmse_svr_pred = sqrt(mean_squared_error(y_test, svr_pred))\n",
    "print(\"SVR RMSE\", rmse_svr_pred)\n",
    "svr_score = r2_score(y_test, svr_pred)\n",
    "print(\"SVR r2 score \", svr_score)\n",
    "svr_ms = mean_squared_error(y_test, svr_pred)\n",
    "print(\"SVR mean squared error \", svr_ms)\n",
    "svr_m = mean_absolute_error(y_test, svr_pred)\n",
    "print(\"SVR mean absolute error \", svr_m)\n",
    "\n",
    "\n"
   ]
  },
  {
   "cell_type": "code",
   "execution_count": null,
   "id": "315f4427",
   "metadata": {},
   "outputs": [],
   "source": [
    "# Visualize Results\n"
   ]
  },
  {
   "cell_type": "code",
   "execution_count": null,
   "id": "5914004c",
   "metadata": {},
   "outputs": [],
   "source": [
    "# Linear Regression\n",
    "plt.figure(figsize=(6, 5))\n",
    "plt.scatter(l_df['Actual'], l_df['Predicted'], color='b')\n",
    "plt.plot([min(l_df['Actual']), max(l_df['Actual'])], [min(l_df['Predicted']), max(l_df['Actual'])], '--k')\n",
    "plt.axis('tight')\n",
    "plt.title(\"Linear Regression true and predicted value comparison\")\n",
    "plt.xlabel(\"y_test\")\n",
    "plt.ylabel(\"pred\")\n",
    "plt.tight_layout()\n",
    "plt.show()\n",
    "\n"
   ]
  },
  {
   "cell_type": "code",
   "execution_count": null,
   "id": "58a06618",
   "metadata": {},
   "outputs": [],
   "source": [
    "# Polynomial\n",
    "plt.figure(figsize=(6, 5))\n",
    "plt.scatter(p_df['Actual'], p_df['Predicted'], color='r')\n",
    "plt.plot([min(p_df['Actual']), max(p_df['Actual'])], [min(p_df['Predicted']), max(p_df['Actual'])], '--k')\n",
    "plt.axis('tight')\n",
    "plt.title(\"Polynomial Regression true and predicted value comparison\")\n",
    "plt.xlabel(\"y_test\")\n",
    "plt.ylabel(\"pred\")\n",
    "plt.tight_layout()\n",
    "plt.show()\n",
    "\n"
   ]
  },
  {
   "cell_type": "code",
   "execution_count": null,
   "id": "cf856f6b",
   "metadata": {},
   "outputs": [],
   "source": [
    "# Decision Tree\n",
    "plt.figure(figsize=(6, 5))\n",
    "plt.scatter(d_df['Actual'], d_df['Predicted'], color='g')\n",
    "plt.plot([min(d_df['Actual']), max(d_df['Actual'])], [min(d_df['Predicted']), max(d_df['Actual'])], '--k')\n",
    "plt.axis('tight')\n",
    "plt.title(\"Decision Tree true and predicted value comparison\")\n",
    "plt.xlabel(\"y_test\")\n",
    "plt.ylabel(\"pred\")\n",
    "plt.tight_layout()\n",
    "plt.show()\n",
    "\n"
   ]
  },
  {
   "cell_type": "code",
   "execution_count": null,
   "id": "440e4e3b",
   "metadata": {},
   "outputs": [],
   "source": [
    "# Random\n",
    "plt.figure(figsize=(6, 5))\n",
    "plt.scatter(r_df['Actual'], r_df['Predicted'], color='y')\n",
    "plt.plot([min(r_df['Actual']), max(r_df['Actual'])], [min(r_df['Predicted']), max(r_df['Actual'])], '--k')\n",
    "plt.axis('tight')\n",
    "plt.title(\"Random Forest true and predicted value comparison\")\n",
    "plt.xlabel(\"y_test\")\n",
    "plt.ylabel(\"pred\")\n",
    "plt.tight_layout()\n",
    "plt.show()\n",
    "\n",
    "\n"
   ]
  },
  {
   "cell_type": "code",
   "execution_count": null,
   "id": "ec89ac91",
   "metadata": {},
   "outputs": [],
   "source": [
    "# SVR\n",
    "plt.figure(figsize=(6, 5))\n",
    "plt.scatter(svr_df['Actual'], svr_df['Predicted'], color='b')\n",
    "plt.plot([min(svr_df['Actual']), max(svr_df['Actual'])], [min(svr_df['Predicted']), max(svr_df['Actual'])], '--k')\n",
    "plt.axis('tight')\n",
    "plt.title(\"SVR true and predicted value comparison\")\n",
    "plt.xlabel(\"y_test\")\n",
    "plt.ylabel(\"pred\")\n",
    "plt.tight_layout()\n",
    "plt.show()"
   ]
  }
 ],
 "metadata": {
  "kernelspec": {
   "display_name": "Python 3",
   "language": "python",
   "name": "python3"
  },
  "language_info": {
   "codemirror_mode": {
    "name": "ipython",
    "version": 3
   },
   "file_extension": ".py",
   "mimetype": "text/x-python",
   "name": "python",
   "nbconvert_exporter": "python",
   "pygments_lexer": "ipython3",
   "version": "3.8.8"
  }
 },
 "nbformat": 4,
 "nbformat_minor": 5
}
