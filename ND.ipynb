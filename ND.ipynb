{
 "cells": [
  {
   "cell_type": "markdown",
   "metadata": {},
   "source": [
    "# Tsunamis from year 1800 to 2021\n",
    "\n"
   ]
  },
  {
   "cell_type": "code",
   "execution_count": 1,
   "metadata": {},
   "outputs": [
    {
     "name": "stdout",
     "output_type": "stream",
     "text": [
      "Requirement already satisfied: folium in c:\\users\\imypo\\anaconda3\\lib\\site-packages (0.12.1.post1)\n",
      "Requirement already satisfied: branca>=0.3.0 in c:\\users\\imypo\\anaconda3\\lib\\site-packages (from folium) (0.4.2)\n",
      "Requirement already satisfied: jinja2>=2.9 in c:\\users\\imypo\\anaconda3\\lib\\site-packages (from folium) (2.11.3)\n",
      "Requirement already satisfied: requests in c:\\users\\imypo\\anaconda3\\lib\\site-packages (from folium) (2.25.1)\n",
      "Requirement already satisfied: numpy in c:\\users\\imypo\\anaconda3\\lib\\site-packages (from folium) (1.20.1)\n",
      "Requirement already satisfied: MarkupSafe>=0.23 in c:\\users\\imypo\\anaconda3\\lib\\site-packages (from jinja2>=2.9->folium) (1.1.1)\n",
      "Requirement already satisfied: certifi>=2017.4.17 in c:\\users\\imypo\\anaconda3\\lib\\site-packages (from requests->folium) (2020.12.5)\n",
      "Requirement already satisfied: idna<3,>=2.5 in c:\\users\\imypo\\anaconda3\\lib\\site-packages (from requests->folium) (2.10)\n",
      "Requirement already satisfied: urllib3<1.27,>=1.21.1 in c:\\users\\imypo\\anaconda3\\lib\\site-packages (from requests->folium) (1.26.4)\n",
      "Requirement already satisfied: chardet<5,>=3.0.2 in c:\\users\\imypo\\anaconda3\\lib\\site-packages (from requests->folium) (4.0.0)\n"
     ]
    }
   ],
   "source": [
    "!pip install folium"
   ]
  },
  {
   "cell_type": "code",
   "execution_count": 2,
   "metadata": {},
   "outputs": [
    {
     "name": "stdout",
     "output_type": "stream",
     "text": [
      "Requirement already satisfied: pandas in c:\\users\\imypo\\anaconda3\\lib\\site-packages (1.2.4)\n",
      "Requirement already satisfied: python-dateutil>=2.7.3 in c:\\users\\imypo\\anaconda3\\lib\\site-packages (from pandas) (2.8.1)\n",
      "Requirement already satisfied: pytz>=2017.3 in c:\\users\\imypo\\anaconda3\\lib\\site-packages (from pandas) (2021.1)\n",
      "Requirement already satisfied: numpy>=1.16.5 in c:\\users\\imypo\\anaconda3\\lib\\site-packages (from pandas) (1.20.1)\n",
      "Requirement already satisfied: six>=1.5 in c:\\users\\imypo\\anaconda3\\lib\\site-packages (from python-dateutil>=2.7.3->pandas) (1.15.0)\n"
     ]
    }
   ],
   "source": [
    "!pip install pandas"
   ]
  },
  {
   "cell_type": "markdown",
   "metadata": {},
   "source": [
    "![title](unnamed.png)"
   ]
  },
  {
   "cell_type": "markdown",
   "metadata": {
    "tags": [
     "5_min"
    ]
   },
   "source": [
    "## About Tsunamis\n",
    "Tsunamis are caused by earthquakes, volcanic eruptions, or landslides in seas and oceans. Such movements can transport vast amounts of water, creating huge waves. A tsunami is usually a series of waves, although frequently, the first wave is not the most destructive. Their destruction power is enormous, also illustrated by the fact that they can reach a width of up to 100 kilometres, a height of up to 30 meters, and a speed of up to 800 kilometres per hour (in the deep ocean). "
   ]
  },
  {
   "cell_type": "markdown",
   "metadata": {},
   "source": [
    "## Load Data"
   ]
  },
  {
   "cell_type": "code",
   "execution_count": 2,
   "metadata": {},
   "outputs": [],
   "source": [
    "import pandas as pd\n",
    "import seaborn as sns\n",
    "from matplotlib import pyplot as plt\n",
    "import matplotlib.pyplot as plt2\n",
    "import folium"
   ]
  },
  {
   "cell_type": "code",
   "execution_count": 12,
   "metadata": {},
   "outputs": [],
   "source": [
    "\n",
    "tsunamis = pd.read_csv('Data/Historical_Tsunami.csv')"
   ]
  },
  {
   "cell_type": "markdown",
   "metadata": {},
   "source": [
    "I have added column 'Earthquake Mayor/Great'where 1 ('yes') represents Earthquakes above 7.0 magnitude in the Richter scale. These are Earthquakes which cause serious or severe destruction and loss of life over large areas."
   ]
  },
  {
   "cell_type": "markdown",
   "metadata": {},
   "source": [
    "I have added column 'Earthquake Mayor/Great'where 1 ('yes') represents Earthquakes above 7.0 magnitude in the Richter scale. These are Earthquakes which cause serious or severe destruction and loss of life over large areas."
   ]
  },
  {
   "cell_type": "code",
   "execution_count": 14,
   "metadata": {},
   "outputs": [
    {
     "data": {
      "text/plain": [
       "(26824, 104)"
      ]
     },
     "execution_count": 14,
     "metadata": {},
     "output_type": "execute_result"
    }
   ],
   "source": [
    "tsunamis.shape"
   ]
  },
  {
   "cell_type": "code",
   "execution_count": 17,
   "metadata": {},
   "outputs": [
    {
     "data": {
      "text/html": [
       "<div>\n",
       "<style scoped>\n",
       "    .dataframe tbody tr th:only-of-type {\n",
       "        vertical-align: middle;\n",
       "    }\n",
       "\n",
       "    .dataframe tbody tr th {\n",
       "        vertical-align: top;\n",
       "    }\n",
       "\n",
       "    .dataframe thead th {\n",
       "        text-align: right;\n",
       "    }\n",
       "</style>\n",
       "<table border=\"1\" class=\"dataframe\">\n",
       "  <thead>\n",
       "    <tr style=\"text-align: right;\">\n",
       "      <th></th>\n",
       "      <th>X</th>\n",
       "      <th>Y</th>\n",
       "      <th>FID</th>\n",
       "      <th>ID</th>\n",
       "      <th>TSEVENT_ID</th>\n",
       "      <th>YEAR</th>\n",
       "      <th>MONTH</th>\n",
       "      <th>DAY</th>\n",
       "      <th>DATE_STRIN</th>\n",
       "      <th>ARR_DAY</th>\n",
       "      <th>...</th>\n",
       "      <th>INJURIES_1</th>\n",
       "      <th>INJURIES_2</th>\n",
       "      <th>MISSING_TO</th>\n",
       "      <th>MISSING__1</th>\n",
       "      <th>MISSING__2</th>\n",
       "      <th>MAP_VOL_ID</th>\n",
       "      <th>HOUSES_D_5</th>\n",
       "      <th>HOUSES_D_6</th>\n",
       "      <th>HOUSES_D_7</th>\n",
       "      <th>NUM_DEPOSI</th>\n",
       "    </tr>\n",
       "  </thead>\n",
       "  <tbody>\n",
       "    <tr>\n",
       "      <th>0</th>\n",
       "      <td>95.247</td>\n",
       "      <td>5.283</td>\n",
       "      <td>4001</td>\n",
       "      <td>15817</td>\n",
       "      <td>2439</td>\n",
       "      <td>2004</td>\n",
       "      <td>12</td>\n",
       "      <td>26</td>\n",
       "      <td>2004/12/26</td>\n",
       "      <td>0</td>\n",
       "      <td>...</td>\n",
       "      <td>0</td>\n",
       "      <td></td>\n",
       "      <td>0</td>\n",
       "      <td>0</td>\n",
       "      <td></td>\n",
       "      <td>0</td>\n",
       "      <td>0</td>\n",
       "      <td>0</td>\n",
       "      <td></td>\n",
       "      <td>0</td>\n",
       "    </tr>\n",
       "    <tr>\n",
       "      <th>1</th>\n",
       "      <td>95.242</td>\n",
       "      <td>5.355</td>\n",
       "      <td>4002</td>\n",
       "      <td>15818</td>\n",
       "      <td>2439</td>\n",
       "      <td>2004</td>\n",
       "      <td>12</td>\n",
       "      <td>26</td>\n",
       "      <td>2004/12/26</td>\n",
       "      <td>0</td>\n",
       "      <td>...</td>\n",
       "      <td>0</td>\n",
       "      <td></td>\n",
       "      <td>0</td>\n",
       "      <td>0</td>\n",
       "      <td></td>\n",
       "      <td>0</td>\n",
       "      <td>0</td>\n",
       "      <td>0</td>\n",
       "      <td></td>\n",
       "      <td>0</td>\n",
       "    </tr>\n",
       "    <tr>\n",
       "      <th>2</th>\n",
       "      <td>95.235</td>\n",
       "      <td>5.436</td>\n",
       "      <td>4003</td>\n",
       "      <td>15820</td>\n",
       "      <td>2439</td>\n",
       "      <td>2004</td>\n",
       "      <td>12</td>\n",
       "      <td>26</td>\n",
       "      <td>2004/12/26</td>\n",
       "      <td>0</td>\n",
       "      <td>...</td>\n",
       "      <td>0</td>\n",
       "      <td></td>\n",
       "      <td>0</td>\n",
       "      <td>0</td>\n",
       "      <td></td>\n",
       "      <td>0</td>\n",
       "      <td>0</td>\n",
       "      <td>0</td>\n",
       "      <td></td>\n",
       "      <td>0</td>\n",
       "    </tr>\n",
       "    <tr>\n",
       "      <th>3</th>\n",
       "      <td>97.750</td>\n",
       "      <td>0.550</td>\n",
       "      <td>4004</td>\n",
       "      <td>869</td>\n",
       "      <td>904</td>\n",
       "      <td>1861</td>\n",
       "      <td>2</td>\n",
       "      <td>16</td>\n",
       "      <td>1861/02/16</td>\n",
       "      <td>0</td>\n",
       "      <td>...</td>\n",
       "      <td>0</td>\n",
       "      <td></td>\n",
       "      <td>0</td>\n",
       "      <td>0</td>\n",
       "      <td></td>\n",
       "      <td>0</td>\n",
       "      <td>0</td>\n",
       "      <td>0</td>\n",
       "      <td></td>\n",
       "      <td>0</td>\n",
       "    </tr>\n",
       "    <tr>\n",
       "      <th>4</th>\n",
       "      <td>96.100</td>\n",
       "      <td>4.150</td>\n",
       "      <td>4005</td>\n",
       "      <td>866</td>\n",
       "      <td>904</td>\n",
       "      <td>1861</td>\n",
       "      <td>2</td>\n",
       "      <td>16</td>\n",
       "      <td>1861/02/16</td>\n",
       "      <td>0</td>\n",
       "      <td>...</td>\n",
       "      <td>0</td>\n",
       "      <td></td>\n",
       "      <td>0</td>\n",
       "      <td>0</td>\n",
       "      <td></td>\n",
       "      <td>0</td>\n",
       "      <td>0</td>\n",
       "      <td>0</td>\n",
       "      <td></td>\n",
       "      <td>0</td>\n",
       "    </tr>\n",
       "  </tbody>\n",
       "</table>\n",
       "<p>5 rows × 104 columns</p>\n",
       "</div>"
      ],
      "text/plain": [
       "        X      Y   FID     ID  TSEVENT_ID  YEAR  MONTH  DAY  DATE_STRIN  \\\n",
       "0  95.247  5.283  4001  15817        2439  2004     12   26  2004/12/26   \n",
       "1  95.242  5.355  4002  15818        2439  2004     12   26  2004/12/26   \n",
       "2  95.235  5.436  4003  15820        2439  2004     12   26  2004/12/26   \n",
       "3  97.750  0.550  4004    869         904  1861      2   16  1861/02/16   \n",
       "4  96.100  4.150  4005    866         904  1861      2   16  1861/02/16   \n",
       "\n",
       "   ARR_DAY  ...  INJURIES_1  INJURIES_2  MISSING_TO  MISSING__1  MISSING__2  \\\n",
       "0        0  ...           0                       0           0               \n",
       "1        0  ...           0                       0           0               \n",
       "2        0  ...           0                       0           0               \n",
       "3        0  ...           0                       0           0               \n",
       "4        0  ...           0                       0           0               \n",
       "\n",
       "  MAP_VOL_ID  HOUSES_D_5  HOUSES_D_6 HOUSES_D_7 NUM_DEPOSI  \n",
       "0          0           0           0                     0  \n",
       "1          0           0           0                     0  \n",
       "2          0           0           0                     0  \n",
       "3          0           0           0                     0  \n",
       "4          0           0           0                     0  \n",
       "\n",
       "[5 rows x 104 columns]"
      ]
     },
     "execution_count": 17,
     "metadata": {},
     "output_type": "execute_result"
    }
   ],
   "source": [
    "tsunamis.head()"
   ]
  },
  {
   "cell_type": "code",
   "execution_count": 21,
   "metadata": {},
   "outputs": [
    {
     "name": "stdout",
     "output_type": "stream",
     "text": [
      "<class 'pandas.core.frame.DataFrame'>\n",
      "RangeIndex: 26824 entries, 0 to 26823\n",
      "Data columns (total 104 columns):\n",
      " #    Column      Dtype  \n",
      "---   ------      -----  \n",
      " 0    X           float64\n",
      " 1    Y           float64\n",
      " 2    FID         int64  \n",
      " 3    ID          int64  \n",
      " 4    TSEVENT_ID  int64  \n",
      " 5    YEAR        int64  \n",
      " 6    MONTH       int64  \n",
      " 7    DAY         int64  \n",
      " 8    DATE_STRIN  object \n",
      " 9    ARR_DAY     int64  \n",
      " 10   ARR_HOUR    int64  \n",
      " 11   ARR_MIN     int64  \n",
      " 12   TRAV_HOURS  int64  \n",
      " 13   TRAV_MINS   int64  \n",
      " 14   PERIOD      float64\n",
      " 15   FIRST_MOTI  object \n",
      " 16   LATITUDE    float64\n",
      " 17   LONGITUDE   float64\n",
      " 18   LOCATION_N  object \n",
      " 19   AREA        object \n",
      " 20   COUNTRY     object \n",
      " 21   REGION_COD  int64  \n",
      " 22   RUNUP_HT    float64\n",
      " 23   RUNUP_HT_R  int64  \n",
      " 24   RUNUP_HORI  float64\n",
      " 25   TYPE_MEASU  int64  \n",
      " 26   TYPE_MEA_1  object \n",
      " 27   DAMAGE_MIL  float64\n",
      " 28   DAMAGE_AMO  int64  \n",
      " 29   DAMAGE_DES  object \n",
      " 30   DEATHS      int64  \n",
      " 31   DEATHS_AMO  int64  \n",
      " 32   DEATHS_DES  object \n",
      " 33   INJURIES    int64  \n",
      " 34   INJURIES_A  int64  \n",
      " 35   INJURIES_D  object \n",
      " 36   HOUSES_DES  int64  \n",
      " 37   HOUSES_AMO  int64  \n",
      " 38   HOUSES_D_1  object \n",
      " 39   HOUSES_DAM  int64  \n",
      " 40   HOUSES_D_2  int64  \n",
      " 41   HOUSES_D_3  object \n",
      " 42   COMMENTS    object \n",
      " 43   DOUBTFUL    object \n",
      " 44   DIST_FROM_  int64  \n",
      " 45   EVENT_REGI  int64  \n",
      " 46   EVENT_RE_1  object \n",
      " 47   PRED_TRAV_  int64  \n",
      " 48   PRED_TRAV1  int64  \n",
      " 49   URL         object \n",
      " 50   TSEVENT_UR  object \n",
      " 51   HOUR        int64  \n",
      " 52   MINUTE      int64  \n",
      " 53   SECOND      float64\n",
      " 54   REGION      object \n",
      " 55   CAUSE_CODE  int64  \n",
      " 56   CAUSE       object \n",
      " 57   EVENT_VALI  int64  \n",
      " 58   EVENT_VA_1  object \n",
      " 59   EQ_MAG_UNK  float64\n",
      " 60   EQ_MAG_MB   float64\n",
      " 61   EQ_MAG_MS   float64\n",
      " 62   EQ_MAG_MW   float64\n",
      " 63   EQ_MAG_ML   float64\n",
      " 64   EQ_MAG_MFA  int64  \n",
      " 65   EQ_MAGNITU  float64\n",
      " 66   EQ_MAGNI_1  int64  \n",
      " 67   EQ_DEPTH    int64  \n",
      " 68   MAX_EVENT_  float64\n",
      " 69   TS_MT_ABE   int64  \n",
      " 70   TS_MT_II    float64\n",
      " 71   TS_INTENSI  float64\n",
      " 72   MISSING     int64  \n",
      " 73   MISSING_AM  int64  \n",
      " 74   MISSING_DE  object \n",
      " 75   WARNING_ST  int64  \n",
      " 76   NUM_RUNUP   int64  \n",
      " 77   ID_RUNUP    int64  \n",
      " 78   HAS_REF     object \n",
      " 79   ID_REF      int64  \n",
      " 80   SLIDES_URL  object \n",
      " 81   NUM_SLIDES  int64  \n",
      " 82   MAP_SLIDE_  int64  \n",
      " 83   MAP_EQ_ID   int64  \n",
      " 84   DAMAGE_M_1  float64\n",
      " 85   DAMAGE_A_1  int64  \n",
      " 86   DAMAGE_TOT  object \n",
      " 87   HOUSES_D_4  int64  \n",
      " 88   HOUSES_A_1  int64  \n",
      " 89   HOUSES_TOT  object \n",
      " 90   DEATHS_TOT  int64  \n",
      " 91   DEATHS_A_1  int64  \n",
      " 92   DEATHS_T_1  object \n",
      " 93   INJURIES_T  int64  \n",
      " 94   INJURIES_1  int64  \n",
      " 95   INJURIES_2  object \n",
      " 96   MISSING_TO  int64  \n",
      " 97   MISSING__1  int64  \n",
      " 98   MISSING__2  object \n",
      " 99   MAP_VOL_ID  int64  \n",
      " 100  HOUSES_D_5  int64  \n",
      " 101  HOUSES_D_6  int64  \n",
      " 102  HOUSES_D_7  object \n",
      " 103  NUM_DEPOSI  int64  \n",
      "dtypes: float64(19), int64(57), object(28)\n",
      "memory usage: 21.3+ MB\n"
     ]
    }
   ],
   "source": [
    "tsunamis.info(verbose=True)"
   ]
  },
  {
   "cell_type": "code",
   "execution_count": 24,
   "metadata": {},
   "outputs": [],
   "source": [
    "tsunamis['EQ_MAGNITU']=0"
   ]
  },
  {
   "cell_type": "code",
   "execution_count": 36,
   "metadata": {},
   "outputs": [
    {
     "data": {
      "text/html": [
       "<div>\n",
       "<style scoped>\n",
       "    .dataframe tbody tr th:only-of-type {\n",
       "        vertical-align: middle;\n",
       "    }\n",
       "\n",
       "    .dataframe tbody tr th {\n",
       "        vertical-align: top;\n",
       "    }\n",
       "\n",
       "    .dataframe thead th {\n",
       "        text-align: right;\n",
       "    }\n",
       "</style>\n",
       "<table border=\"1\" class=\"dataframe\">\n",
       "  <thead>\n",
       "    <tr style=\"text-align: right;\">\n",
       "      <th></th>\n",
       "      <th>X</th>\n",
       "      <th>Y</th>\n",
       "      <th>FID</th>\n",
       "      <th>ID</th>\n",
       "      <th>TSEVENT_ID</th>\n",
       "      <th>YEAR</th>\n",
       "      <th>MONTH</th>\n",
       "      <th>DAY</th>\n",
       "      <th>DATE_STRIN</th>\n",
       "      <th>ARR_DAY</th>\n",
       "      <th>...</th>\n",
       "      <th>INJURIES_2</th>\n",
       "      <th>MISSING_TO</th>\n",
       "      <th>MISSING__1</th>\n",
       "      <th>MISSING__2</th>\n",
       "      <th>MAP_VOL_ID</th>\n",
       "      <th>HOUSES_D_5</th>\n",
       "      <th>HOUSES_D_6</th>\n",
       "      <th>HOUSES_D_7</th>\n",
       "      <th>NUM_DEPOSI</th>\n",
       "      <th>Earthquake Mayor/Great</th>\n",
       "    </tr>\n",
       "  </thead>\n",
       "  <tbody>\n",
       "    <tr>\n",
       "      <th>0</th>\n",
       "      <td>95.247000</td>\n",
       "      <td>5.283000</td>\n",
       "      <td>4001</td>\n",
       "      <td>15817</td>\n",
       "      <td>2439</td>\n",
       "      <td>2004</td>\n",
       "      <td>12</td>\n",
       "      <td>26</td>\n",
       "      <td>2004/12/26</td>\n",
       "      <td>0</td>\n",
       "      <td>...</td>\n",
       "      <td></td>\n",
       "      <td>0</td>\n",
       "      <td>0</td>\n",
       "      <td></td>\n",
       "      <td>0</td>\n",
       "      <td>0</td>\n",
       "      <td>0</td>\n",
       "      <td></td>\n",
       "      <td>0</td>\n",
       "      <td>NaN</td>\n",
       "    </tr>\n",
       "    <tr>\n",
       "      <th>1</th>\n",
       "      <td>95.242000</td>\n",
       "      <td>5.355000</td>\n",
       "      <td>4002</td>\n",
       "      <td>15818</td>\n",
       "      <td>2439</td>\n",
       "      <td>2004</td>\n",
       "      <td>12</td>\n",
       "      <td>26</td>\n",
       "      <td>2004/12/26</td>\n",
       "      <td>0</td>\n",
       "      <td>...</td>\n",
       "      <td></td>\n",
       "      <td>0</td>\n",
       "      <td>0</td>\n",
       "      <td></td>\n",
       "      <td>0</td>\n",
       "      <td>0</td>\n",
       "      <td>0</td>\n",
       "      <td></td>\n",
       "      <td>0</td>\n",
       "      <td>NaN</td>\n",
       "    </tr>\n",
       "    <tr>\n",
       "      <th>2</th>\n",
       "      <td>95.235000</td>\n",
       "      <td>5.436000</td>\n",
       "      <td>4003</td>\n",
       "      <td>15820</td>\n",
       "      <td>2439</td>\n",
       "      <td>2004</td>\n",
       "      <td>12</td>\n",
       "      <td>26</td>\n",
       "      <td>2004/12/26</td>\n",
       "      <td>0</td>\n",
       "      <td>...</td>\n",
       "      <td></td>\n",
       "      <td>0</td>\n",
       "      <td>0</td>\n",
       "      <td></td>\n",
       "      <td>0</td>\n",
       "      <td>0</td>\n",
       "      <td>0</td>\n",
       "      <td></td>\n",
       "      <td>0</td>\n",
       "      <td>NaN</td>\n",
       "    </tr>\n",
       "    <tr>\n",
       "      <th>3</th>\n",
       "      <td>97.750000</td>\n",
       "      <td>0.550000</td>\n",
       "      <td>4004</td>\n",
       "      <td>869</td>\n",
       "      <td>904</td>\n",
       "      <td>1861</td>\n",
       "      <td>2</td>\n",
       "      <td>16</td>\n",
       "      <td>1861/02/16</td>\n",
       "      <td>0</td>\n",
       "      <td>...</td>\n",
       "      <td></td>\n",
       "      <td>0</td>\n",
       "      <td>0</td>\n",
       "      <td></td>\n",
       "      <td>0</td>\n",
       "      <td>0</td>\n",
       "      <td>0</td>\n",
       "      <td></td>\n",
       "      <td>0</td>\n",
       "      <td>NaN</td>\n",
       "    </tr>\n",
       "    <tr>\n",
       "      <th>4</th>\n",
       "      <td>96.100000</td>\n",
       "      <td>4.150000</td>\n",
       "      <td>4005</td>\n",
       "      <td>866</td>\n",
       "      <td>904</td>\n",
       "      <td>1861</td>\n",
       "      <td>2</td>\n",
       "      <td>16</td>\n",
       "      <td>1861/02/16</td>\n",
       "      <td>0</td>\n",
       "      <td>...</td>\n",
       "      <td></td>\n",
       "      <td>0</td>\n",
       "      <td>0</td>\n",
       "      <td></td>\n",
       "      <td>0</td>\n",
       "      <td>0</td>\n",
       "      <td>0</td>\n",
       "      <td></td>\n",
       "      <td>0</td>\n",
       "      <td>NaN</td>\n",
       "    </tr>\n",
       "    <tr>\n",
       "      <th>...</th>\n",
       "      <td>...</td>\n",
       "      <td>...</td>\n",
       "      <td>...</td>\n",
       "      <td>...</td>\n",
       "      <td>...</td>\n",
       "      <td>...</td>\n",
       "      <td>...</td>\n",
       "      <td>...</td>\n",
       "      <td>...</td>\n",
       "      <td>...</td>\n",
       "      <td>...</td>\n",
       "      <td>...</td>\n",
       "      <td>...</td>\n",
       "      <td>...</td>\n",
       "      <td>...</td>\n",
       "      <td>...</td>\n",
       "      <td>...</td>\n",
       "      <td>...</td>\n",
       "      <td>...</td>\n",
       "      <td>...</td>\n",
       "      <td>...</td>\n",
       "    </tr>\n",
       "    <tr>\n",
       "      <th>26819</th>\n",
       "      <td>166.617000</td>\n",
       "      <td>19.283000</td>\n",
       "      <td>26820</td>\n",
       "      <td>25495</td>\n",
       "      <td>5463</td>\n",
       "      <td>2012</td>\n",
       "      <td>8</td>\n",
       "      <td>31</td>\n",
       "      <td>2012/08/31</td>\n",
       "      <td>31</td>\n",
       "      <td>...</td>\n",
       "      <td></td>\n",
       "      <td>0</td>\n",
       "      <td>0</td>\n",
       "      <td></td>\n",
       "      <td>0</td>\n",
       "      <td>0</td>\n",
       "      <td>0</td>\n",
       "      <td></td>\n",
       "      <td>0</td>\n",
       "      <td>NaN</td>\n",
       "    </tr>\n",
       "    <tr>\n",
       "      <th>26820</th>\n",
       "      <td>-153.480000</td>\n",
       "      <td>57.130000</td>\n",
       "      <td>26821</td>\n",
       "      <td>465</td>\n",
       "      <td>549</td>\n",
       "      <td>1788</td>\n",
       "      <td>7</td>\n",
       "      <td>21</td>\n",
       "      <td>1788/07/21</td>\n",
       "      <td>0</td>\n",
       "      <td>...</td>\n",
       "      <td></td>\n",
       "      <td>0</td>\n",
       "      <td>0</td>\n",
       "      <td></td>\n",
       "      <td>0</td>\n",
       "      <td>0</td>\n",
       "      <td>0</td>\n",
       "      <td></td>\n",
       "      <td>0</td>\n",
       "      <td>NaN</td>\n",
       "    </tr>\n",
       "    <tr>\n",
       "      <th>26821</th>\n",
       "      <td>-134.647000</td>\n",
       "      <td>56.247000</td>\n",
       "      <td>26822</td>\n",
       "      <td>25668</td>\n",
       "      <td>5472</td>\n",
       "      <td>2013</td>\n",
       "      <td>1</td>\n",
       "      <td>5</td>\n",
       "      <td>2013/01/05</td>\n",
       "      <td>5</td>\n",
       "      <td>...</td>\n",
       "      <td></td>\n",
       "      <td>0</td>\n",
       "      <td>0</td>\n",
       "      <td></td>\n",
       "      <td>0</td>\n",
       "      <td>0</td>\n",
       "      <td>0</td>\n",
       "      <td></td>\n",
       "      <td>0</td>\n",
       "      <td>NaN</td>\n",
       "    </tr>\n",
       "    <tr>\n",
       "      <th>26822</th>\n",
       "      <td>-135.342000</td>\n",
       "      <td>57.052000</td>\n",
       "      <td>26823</td>\n",
       "      <td>25669</td>\n",
       "      <td>5472</td>\n",
       "      <td>2013</td>\n",
       "      <td>1</td>\n",
       "      <td>5</td>\n",
       "      <td>2013/01/05</td>\n",
       "      <td>5</td>\n",
       "      <td>...</td>\n",
       "      <td></td>\n",
       "      <td>0</td>\n",
       "      <td>0</td>\n",
       "      <td></td>\n",
       "      <td>0</td>\n",
       "      <td>0</td>\n",
       "      <td>0</td>\n",
       "      <td></td>\n",
       "      <td>0</td>\n",
       "      <td>NaN</td>\n",
       "    </tr>\n",
       "    <tr>\n",
       "      <th>26823</th>\n",
       "      <td>-134.715876</td>\n",
       "      <td>56.515371</td>\n",
       "      <td>26824</td>\n",
       "      <td>25675</td>\n",
       "      <td>5472</td>\n",
       "      <td>2013</td>\n",
       "      <td>1</td>\n",
       "      <td>5</td>\n",
       "      <td>2013/01/05</td>\n",
       "      <td>0</td>\n",
       "      <td>...</td>\n",
       "      <td></td>\n",
       "      <td>0</td>\n",
       "      <td>0</td>\n",
       "      <td></td>\n",
       "      <td>0</td>\n",
       "      <td>0</td>\n",
       "      <td>0</td>\n",
       "      <td></td>\n",
       "      <td>0</td>\n",
       "      <td>NaN</td>\n",
       "    </tr>\n",
       "  </tbody>\n",
       "</table>\n",
       "<p>26824 rows × 105 columns</p>\n",
       "</div>"
      ],
      "text/plain": [
       "                X          Y    FID     ID  TSEVENT_ID  YEAR  MONTH  DAY  \\\n",
       "0       95.247000   5.283000   4001  15817        2439  2004     12   26   \n",
       "1       95.242000   5.355000   4002  15818        2439  2004     12   26   \n",
       "2       95.235000   5.436000   4003  15820        2439  2004     12   26   \n",
       "3       97.750000   0.550000   4004    869         904  1861      2   16   \n",
       "4       96.100000   4.150000   4005    866         904  1861      2   16   \n",
       "...           ...        ...    ...    ...         ...   ...    ...  ...   \n",
       "26819  166.617000  19.283000  26820  25495        5463  2012      8   31   \n",
       "26820 -153.480000  57.130000  26821    465         549  1788      7   21   \n",
       "26821 -134.647000  56.247000  26822  25668        5472  2013      1    5   \n",
       "26822 -135.342000  57.052000  26823  25669        5472  2013      1    5   \n",
       "26823 -134.715876  56.515371  26824  25675        5472  2013      1    5   \n",
       "\n",
       "       DATE_STRIN  ARR_DAY  ...  INJURIES_2  MISSING_TO  MISSING__1  \\\n",
       "0      2004/12/26        0  ...                       0           0   \n",
       "1      2004/12/26        0  ...                       0           0   \n",
       "2      2004/12/26        0  ...                       0           0   \n",
       "3      1861/02/16        0  ...                       0           0   \n",
       "4      1861/02/16        0  ...                       0           0   \n",
       "...           ...      ...  ...         ...         ...         ...   \n",
       "26819  2012/08/31       31  ...                       0           0   \n",
       "26820  1788/07/21        0  ...                       0           0   \n",
       "26821  2013/01/05        5  ...                       0           0   \n",
       "26822  2013/01/05        5  ...                       0           0   \n",
       "26823  2013/01/05        0  ...                       0           0   \n",
       "\n",
       "       MISSING__2  MAP_VOL_ID HOUSES_D_5  HOUSES_D_6  HOUSES_D_7 NUM_DEPOSI  \\\n",
       "0                           0          0           0                      0   \n",
       "1                           0          0           0                      0   \n",
       "2                           0          0           0                      0   \n",
       "3                           0          0           0                      0   \n",
       "4                           0          0           0                      0   \n",
       "...           ...         ...        ...         ...         ...        ...   \n",
       "26819                       0          0           0                      0   \n",
       "26820                       0          0           0                      0   \n",
       "26821                       0          0           0                      0   \n",
       "26822                       0          0           0                      0   \n",
       "26823                       0          0           0                      0   \n",
       "\n",
       "      Earthquake Mayor/Great  \n",
       "0                        NaN  \n",
       "1                        NaN  \n",
       "2                        NaN  \n",
       "3                        NaN  \n",
       "4                        NaN  \n",
       "...                      ...  \n",
       "26819                    NaN  \n",
       "26820                    NaN  \n",
       "26821                    NaN  \n",
       "26822                    NaN  \n",
       "26823                    NaN  \n",
       "\n",
       "[26824 rows x 105 columns]"
      ]
     },
     "execution_count": 36,
     "metadata": {},
     "output_type": "execute_result"
    }
   ],
   "source": [
    "tsunamis.loc[tsunamis['EQ_MAGNITU']>7,'Earthquake Mayor/Great'] = 1\n",
    "tsunamis"
   ]
  },
  {
   "cell_type": "markdown",
   "metadata": {},
   "source": [
    "## Total Damage"
   ]
  },
  {
   "cell_type": "code",
   "execution_count": 45,
   "metadata": {},
   "outputs": [
    {
     "data": {
      "text/plain": [
       "count     26824.000000\n",
       "mean          9.850766\n",
       "std        1357.102247\n",
       "min           0.000000\n",
       "25%           0.000000\n",
       "50%           0.000000\n",
       "75%           0.000000\n",
       "max      220000.000000\n",
       "Name: DAMAGE_MIL, dtype: float64"
      ]
     },
     "execution_count": 45,
     "metadata": {},
     "output_type": "execute_result"
    }
   ],
   "source": [
    "tsunamis['DAMAGE_MIL'].describe()"
   ]
  },
  {
   "cell_type": "code",
   "execution_count": 55,
   "metadata": {},
   "outputs": [
    {
     "data": {
      "text/plain": [
       "DAMAGE_DES\n",
       "                                  24672\n",
       "Extreme (~$25 million or more)       71\n",
       "Limited (<$1 million)              1440\n",
       "Moderate (~$1 to $5 million)        394\n",
       "None                                  2\n",
       "Severe (~>$5 to $24 million)        245\n",
       "Name: DAMAGE_TOT, dtype: int64"
      ]
     },
     "execution_count": 55,
     "metadata": {},
     "output_type": "execute_result"
    }
   ],
   "source": [
    "tsunamis.groupby(['DAMAGE_DES'])['DAMAGE_TOT'].count()"
   ]
  },
  {
   "cell_type": "markdown",
   "metadata": {},
   "source": [
    "##  Tsunamis by Year & Month"
   ]
  },
  {
   "cell_type": "markdown",
   "metadata": {},
   "source": [
    "*It seems there are more Tsunamis happening recently and they mostly happen in March. So far there have been 294 Tsunamis this century...;(*"
   ]
  },
  {
   "cell_type": "code",
   "execution_count": 39,
   "metadata": {},
   "outputs": [
    {
     "data": {
      "image/png": "[encoded data removed]",
      "text/plain": [
       "<Figure size 1296x432 with 1 Axes>"
      ]
     },
     "metadata": {
      "needs_background": "light"
     },
     "output_type": "display_data"
    }
   ],
   "source": [
    "plt.figure(figsize=(18,6))\n",
    "sns.histplot(data=tsunamis, x=\"YEAR\",kde=True);"
   ]
  },
  {
   "cell_type": "code",
   "execution_count": 58,
   "metadata": {},
   "outputs": [
    {
     "data": {
      "image/png": "[encoded data removed]",
      "text/plain": [
       "<Figure size 432x288 with 1 Axes>"
      ]
     },
     "metadata": {
      "needs_background": "light"
     },
     "output_type": "display_data"
    }
   ],
   "source": [
    "this_century = (tsunamis['YEAR']>2000)\n",
    "temp3=tsunamis[this_century]\n",
    "temp3[['YEAR','COUNTRY']].hist();"
   ]
  },
  {
   "cell_type": "code",
   "execution_count": 41,
   "metadata": {},
   "outputs": [
    {
     "data": {
      "text/plain": [
       "YEAR\n",
       "2014     233\n",
       "2013     203\n",
       "2012     259\n",
       "2011    6103\n",
       "2010    1006\n",
       "2009     752\n",
       "2008      30\n",
       "2007     489\n",
       "2006     522\n",
       "2005      89\n",
       "2004    1553\n",
       "2003     325\n",
       "2002     119\n",
       "2001     151\n",
       "dtype: int64"
      ]
     },
     "execution_count": 41,
     "metadata": {},
     "output_type": "execute_result"
    }
   ],
   "source": [
    "\n",
    "temp3[['YEAR']].value_counts().sort_index(ascending = False)"
   ]
  },
  {
   "cell_type": "code",
   "execution_count": 57,
   "metadata": {},
   "outputs": [
    {
     "data": {
      "image/png": "[encoded data removed]",
      "text/plain": [
       "<Figure size 432x288 with 1 Axes>"
      ]
     },
     "metadata": {
      "needs_background": "light"
     },
     "output_type": "display_data"
    }
   ],
   "source": [
    "tsunamis['MONTH'].hist();\n"
   ]
  },
  {
   "cell_type": "markdown",
   "metadata": {},
   "source": [
    "## Total Deaths ##"
   ]
  },
  {
   "cell_type": "markdown",
   "metadata": {},
   "source": [
    "*For practical reasons I wil concentrate in data with less than 10,000 deaths which is where the mayority of data falls into. This also exclude NaN data*"
   ]
  },
  {
   "cell_type": "code",
   "execution_count": 44,
   "metadata": {},
   "outputs": [],
   "source": [
    "less_than_10K_deaths = (tsunamis['DEATHS_TOT']<10000)\n",
    "temp=tsunamis[less_than_10K_deaths];"
   ]
  },
  {
   "cell_type": "code",
   "execution_count": 63,
   "metadata": {},
   "outputs": [
    {
     "data": {
      "text/plain": [
       "<Figure size 1440x360 with 0 Axes>"
      ]
     },
     "metadata": {},
     "output_type": "display_data"
    },
    {
     "data": {
      "image/png": "[encoded data removed]",
      "text/plain": [
       "<Figure size 432x288 with 1 Axes>"
      ]
     },
     "metadata": {
      "needs_background": "light"
     },
     "output_type": "display_data"
    }
   ],
   "source": [
    "plt.figure(figsize=(20,5))\n",
    "Deaths_by_Year=temp.groupby(['YEAR']).agg({'DEATHS_TOT':['sum']})\n",
    "Deaths_by_Year.plot();"
   ]
  },
  {
   "cell_type": "markdown",
   "metadata": {},
   "source": [
    "**Categorization of tsunamis depending on Total Deaths** "
   ]
  },
  {
   "cell_type": "markdown",
   "metadata": {},
   "source": [
    "I have categorized Tsunamis depending on the Total Deaths, in the following ranges: \n",
    "* *Mild* = les that 5 deaths\n",
    "* *Medium* = between 5 and 100 deaths\n",
    "* *Severe* = above 100 deaths"
   ]
  },
  {
   "cell_type": "code",
   "execution_count": 16,
   "metadata": {},
   "outputs": [
    {
     "data": {
      "text/plain": [
       "True     1670\n",
       "False     492\n",
       "Name: Total Deaths, dtype: int64"
      ]
     },
     "execution_count": 16,
     "metadata": {},
     "output_type": "execute_result"
    }
   ],
   "source": [
    "tsunamis['Total Deaths'].isna().value_counts()"
   ]
  },
  {
   "cell_type": "code",
   "execution_count": 17,
   "metadata": {
    "scrolled": true
   },
   "outputs": [
    {
     "data": {
      "text/html": [
       "<div>\n",
       "<style scoped>\n",
       "    .dataframe tbody tr th:only-of-type {\n",
       "        vertical-align: middle;\n",
       "    }\n",
       "\n",
       "    .dataframe tbody tr th {\n",
       "        vertical-align: top;\n",
       "    }\n",
       "\n",
       "    .dataframe thead th {\n",
       "        text-align: right;\n",
       "    }\n",
       "</style>\n",
       "<table border=\"1\" class=\"dataframe\">\n",
       "  <thead>\n",
       "    <tr style=\"text-align: right;\">\n",
       "      <th></th>\n",
       "      <th>Year</th>\n",
       "      <th>Mo</th>\n",
       "      <th>Dy</th>\n",
       "      <th>Hr</th>\n",
       "      <th>Mn</th>\n",
       "      <th>Sec</th>\n",
       "      <th>Tsunami Event Validity</th>\n",
       "      <th>Tsunami Cause Code</th>\n",
       "      <th>Earthquake Magnitude</th>\n",
       "      <th>Deposits</th>\n",
       "      <th>...</th>\n",
       "      <th>Tsunami Intensity</th>\n",
       "      <th>Total Deaths</th>\n",
       "      <th>Total Missing</th>\n",
       "      <th>Total Missing Description</th>\n",
       "      <th>Total Injuries</th>\n",
       "      <th>Total Damage ($Mil)</th>\n",
       "      <th>Total Damage Description</th>\n",
       "      <th>Total Houses Destroyed</th>\n",
       "      <th>Total Houses Damaged</th>\n",
       "      <th>Earthquake Mayor/Great</th>\n",
       "    </tr>\n",
       "  </thead>\n",
       "  <tbody>\n",
       "    <tr>\n",
       "      <th>12</th>\n",
       "      <td>1804.0</td>\n",
       "      <td>7.0</td>\n",
       "      <td>10.0</td>\n",
       "      <td>13.0</td>\n",
       "      <td>NaN</td>\n",
       "      <td>NaN</td>\n",
       "      <td>4.0</td>\n",
       "      <td>1.0</td>\n",
       "      <td>7.3</td>\n",
       "      <td>0.0</td>\n",
       "      <td>...</td>\n",
       "      <td>1.0</td>\n",
       "      <td>450.0</td>\n",
       "      <td>NaN</td>\n",
       "      <td>NaN</td>\n",
       "      <td>NaN</td>\n",
       "      <td>NaN</td>\n",
       "      <td>4.0</td>\n",
       "      <td>10810.0</td>\n",
       "      <td>300.0</td>\n",
       "      <td>1</td>\n",
       "    </tr>\n",
       "    <tr>\n",
       "      <th>38</th>\n",
       "      <td>1812.0</td>\n",
       "      <td>3.0</td>\n",
       "      <td>26.0</td>\n",
       "      <td>20.0</td>\n",
       "      <td>7.0</td>\n",
       "      <td>NaN</td>\n",
       "      <td>2.0</td>\n",
       "      <td>1.0</td>\n",
       "      <td>7.7</td>\n",
       "      <td>0.0</td>\n",
       "      <td>...</td>\n",
       "      <td>NaN</td>\n",
       "      <td>26000.0</td>\n",
       "      <td>NaN</td>\n",
       "      <td>NaN</td>\n",
       "      <td>NaN</td>\n",
       "      <td>NaN</td>\n",
       "      <td>3.0</td>\n",
       "      <td>NaN</td>\n",
       "      <td>NaN</td>\n",
       "      <td>1</td>\n",
       "    </tr>\n",
       "    <tr>\n",
       "      <th>46</th>\n",
       "      <td>1815.0</td>\n",
       "      <td>4.0</td>\n",
       "      <td>10.0</td>\n",
       "      <td>NaN</td>\n",
       "      <td>NaN</td>\n",
       "      <td>NaN</td>\n",
       "      <td>4.0</td>\n",
       "      <td>6.0</td>\n",
       "      <td>NaN</td>\n",
       "      <td>1.0</td>\n",
       "      <td>...</td>\n",
       "      <td>1.5</td>\n",
       "      <td>60000.0</td>\n",
       "      <td>NaN</td>\n",
       "      <td>NaN</td>\n",
       "      <td>NaN</td>\n",
       "      <td>NaN</td>\n",
       "      <td>4.0</td>\n",
       "      <td>NaN</td>\n",
       "      <td>NaN</td>\n",
       "      <td>0</td>\n",
       "    </tr>\n",
       "    <tr>\n",
       "      <th>48</th>\n",
       "      <td>1815.0</td>\n",
       "      <td>11.0</td>\n",
       "      <td>22.0</td>\n",
       "      <td>NaN</td>\n",
       "      <td>NaN</td>\n",
       "      <td>NaN</td>\n",
       "      <td>3.0</td>\n",
       "      <td>3.0</td>\n",
       "      <td>7.0</td>\n",
       "      <td>0.0</td>\n",
       "      <td>...</td>\n",
       "      <td>1.5</td>\n",
       "      <td>11453.0</td>\n",
       "      <td>NaN</td>\n",
       "      <td>NaN</td>\n",
       "      <td>NaN</td>\n",
       "      <td>NaN</td>\n",
       "      <td>NaN</td>\n",
       "      <td>NaN</td>\n",
       "      <td>NaN</td>\n",
       "      <td>0</td>\n",
       "    </tr>\n",
       "    <tr>\n",
       "      <th>64</th>\n",
       "      <td>1819.0</td>\n",
       "      <td>6.0</td>\n",
       "      <td>16.0</td>\n",
       "      <td>NaN</td>\n",
       "      <td>NaN</td>\n",
       "      <td>NaN</td>\n",
       "      <td>3.0</td>\n",
       "      <td>1.0</td>\n",
       "      <td>7.7</td>\n",
       "      <td>0.0</td>\n",
       "      <td>...</td>\n",
       "      <td>NaN</td>\n",
       "      <td>1543.0</td>\n",
       "      <td>NaN</td>\n",
       "      <td>NaN</td>\n",
       "      <td>NaN</td>\n",
       "      <td>NaN</td>\n",
       "      <td>4.0</td>\n",
       "      <td>1547.0</td>\n",
       "      <td>NaN</td>\n",
       "      <td>1</td>\n",
       "    </tr>\n",
       "    <tr>\n",
       "      <th>...</th>\n",
       "      <td>...</td>\n",
       "      <td>...</td>\n",
       "      <td>...</td>\n",
       "      <td>...</td>\n",
       "      <td>...</td>\n",
       "      <td>...</td>\n",
       "      <td>...</td>\n",
       "      <td>...</td>\n",
       "      <td>...</td>\n",
       "      <td>...</td>\n",
       "      <td>...</td>\n",
       "      <td>...</td>\n",
       "      <td>...</td>\n",
       "      <td>...</td>\n",
       "      <td>...</td>\n",
       "      <td>...</td>\n",
       "      <td>...</td>\n",
       "      <td>...</td>\n",
       "      <td>...</td>\n",
       "      <td>...</td>\n",
       "      <td>...</td>\n",
       "    </tr>\n",
       "    <tr>\n",
       "      <th>2116</th>\n",
       "      <td>2018.0</td>\n",
       "      <td>8.0</td>\n",
       "      <td>5.0</td>\n",
       "      <td>11.0</td>\n",
       "      <td>47.0</td>\n",
       "      <td>3.0</td>\n",
       "      <td>4.0</td>\n",
       "      <td>1.0</td>\n",
       "      <td>6.9</td>\n",
       "      <td>0.0</td>\n",
       "      <td>...</td>\n",
       "      <td>NaN</td>\n",
       "      <td>560.0</td>\n",
       "      <td>NaN</td>\n",
       "      <td>NaN</td>\n",
       "      <td>7733.0</td>\n",
       "      <td>509.0</td>\n",
       "      <td>4.0</td>\n",
       "      <td>NaN</td>\n",
       "      <td>83392.0</td>\n",
       "      <td>0</td>\n",
       "    </tr>\n",
       "    <tr>\n",
       "      <th>2121</th>\n",
       "      <td>2018.0</td>\n",
       "      <td>9.0</td>\n",
       "      <td>28.0</td>\n",
       "      <td>10.0</td>\n",
       "      <td>2.0</td>\n",
       "      <td>25.0</td>\n",
       "      <td>4.0</td>\n",
       "      <td>3.0</td>\n",
       "      <td>7.5</td>\n",
       "      <td>1.0</td>\n",
       "      <td>...</td>\n",
       "      <td>NaN</td>\n",
       "      <td>4340.0</td>\n",
       "      <td>667.0</td>\n",
       "      <td>3.0</td>\n",
       "      <td>10679.0</td>\n",
       "      <td>1500.0</td>\n",
       "      <td>4.0</td>\n",
       "      <td>3673.0</td>\n",
       "      <td>39191.0</td>\n",
       "      <td>1</td>\n",
       "    </tr>\n",
       "    <tr>\n",
       "      <th>2126</th>\n",
       "      <td>2018.0</td>\n",
       "      <td>12.0</td>\n",
       "      <td>22.0</td>\n",
       "      <td>13.0</td>\n",
       "      <td>55.0</td>\n",
       "      <td>NaN</td>\n",
       "      <td>4.0</td>\n",
       "      <td>7.0</td>\n",
       "      <td>NaN</td>\n",
       "      <td>2.0</td>\n",
       "      <td>...</td>\n",
       "      <td>NaN</td>\n",
       "      <td>437.0</td>\n",
       "      <td>10.0</td>\n",
       "      <td>1.0</td>\n",
       "      <td>31943.0</td>\n",
       "      <td>250.0</td>\n",
       "      <td>4.0</td>\n",
       "      <td>NaN</td>\n",
       "      <td>2844.0</td>\n",
       "      <td>0</td>\n",
       "    </tr>\n",
       "    <tr>\n",
       "      <th>2146</th>\n",
       "      <td>2020.0</td>\n",
       "      <td>10.0</td>\n",
       "      <td>30.0</td>\n",
       "      <td>11.0</td>\n",
       "      <td>51.0</td>\n",
       "      <td>27.0</td>\n",
       "      <td>4.0</td>\n",
       "      <td>1.0</td>\n",
       "      <td>7.0</td>\n",
       "      <td>0.0</td>\n",
       "      <td>...</td>\n",
       "      <td>NaN</td>\n",
       "      <td>118.0</td>\n",
       "      <td>NaN</td>\n",
       "      <td>NaN</td>\n",
       "      <td>1054.0</td>\n",
       "      <td>400.0</td>\n",
       "      <td>4.0</td>\n",
       "      <td>NaN</td>\n",
       "      <td>NaN</td>\n",
       "      <td>0</td>\n",
       "    </tr>\n",
       "    <tr>\n",
       "      <th>2159</th>\n",
       "      <td>2021.0</td>\n",
       "      <td>8.0</td>\n",
       "      <td>14.0</td>\n",
       "      <td>12.0</td>\n",
       "      <td>29.0</td>\n",
       "      <td>8.0</td>\n",
       "      <td>4.0</td>\n",
       "      <td>1.0</td>\n",
       "      <td>7.2</td>\n",
       "      <td>0.0</td>\n",
       "      <td>...</td>\n",
       "      <td>NaN</td>\n",
       "      <td>2248.0</td>\n",
       "      <td>329.0</td>\n",
       "      <td>3.0</td>\n",
       "      <td>12763.0</td>\n",
       "      <td>NaN</td>\n",
       "      <td>4.0</td>\n",
       "      <td>53815.0</td>\n",
       "      <td>83770.0</td>\n",
       "      <td>1</td>\n",
       "    </tr>\n",
       "  </tbody>\n",
       "</table>\n",
       "<p>158 rows × 27 columns</p>\n",
       "</div>"
      ],
      "text/plain": [
       "        Year    Mo    Dy    Hr    Mn   Sec  Tsunami Event Validity  \\\n",
       "12    1804.0   7.0  10.0  13.0   NaN   NaN                     4.0   \n",
       "38    1812.0   3.0  26.0  20.0   7.0   NaN                     2.0   \n",
       "46    1815.0   4.0  10.0   NaN   NaN   NaN                     4.0   \n",
       "48    1815.0  11.0  22.0   NaN   NaN   NaN                     3.0   \n",
       "64    1819.0   6.0  16.0   NaN   NaN   NaN                     3.0   \n",
       "...      ...   ...   ...   ...   ...   ...                     ...   \n",
       "2116  2018.0   8.0   5.0  11.0  47.0   3.0                     4.0   \n",
       "2121  2018.0   9.0  28.0  10.0   2.0  25.0                     4.0   \n",
       "2126  2018.0  12.0  22.0  13.0  55.0   NaN                     4.0   \n",
       "2146  2020.0  10.0  30.0  11.0  51.0  27.0                     4.0   \n",
       "2159  2021.0   8.0  14.0  12.0  29.0   8.0                     4.0   \n",
       "\n",
       "      Tsunami Cause Code  Earthquake Magnitude  Deposits  ...  \\\n",
       "12                   1.0                   7.3       0.0  ...   \n",
       "38                   1.0                   7.7       0.0  ...   \n",
       "46                   6.0                   NaN       1.0  ...   \n",
       "48                   3.0                   7.0       0.0  ...   \n",
       "64                   1.0                   7.7       0.0  ...   \n",
       "...                  ...                   ...       ...  ...   \n",
       "2116                 1.0                   6.9       0.0  ...   \n",
       "2121                 3.0                   7.5       1.0  ...   \n",
       "2126                 7.0                   NaN       2.0  ...   \n",
       "2146                 1.0                   7.0       0.0  ...   \n",
       "2159                 1.0                   7.2       0.0  ...   \n",
       "\n",
       "     Tsunami Intensity Total Deaths  Total Missing  Total Missing Description  \\\n",
       "12                 1.0        450.0            NaN                        NaN   \n",
       "38                 NaN      26000.0            NaN                        NaN   \n",
       "46                 1.5      60000.0            NaN                        NaN   \n",
       "48                 1.5      11453.0            NaN                        NaN   \n",
       "64                 NaN       1543.0            NaN                        NaN   \n",
       "...                ...          ...            ...                        ...   \n",
       "2116               NaN        560.0            NaN                        NaN   \n",
       "2121               NaN       4340.0          667.0                        3.0   \n",
       "2126               NaN        437.0           10.0                        1.0   \n",
       "2146               NaN        118.0            NaN                        NaN   \n",
       "2159               NaN       2248.0          329.0                        3.0   \n",
       "\n",
       "      Total Injuries  Total Damage ($Mil)  Total Damage Description  \\\n",
       "12               NaN                  NaN                       4.0   \n",
       "38               NaN                  NaN                       3.0   \n",
       "46               NaN                  NaN                       4.0   \n",
       "48               NaN                  NaN                       NaN   \n",
       "64               NaN                  NaN                       4.0   \n",
       "...              ...                  ...                       ...   \n",
       "2116          7733.0                509.0                       4.0   \n",
       "2121         10679.0               1500.0                       4.0   \n",
       "2126         31943.0                250.0                       4.0   \n",
       "2146          1054.0                400.0                       4.0   \n",
       "2159         12763.0                  NaN                       4.0   \n",
       "\n",
       "      Total Houses Destroyed  Total Houses Damaged  Earthquake Mayor/Great  \n",
       "12                   10810.0                 300.0                       1  \n",
       "38                       NaN                   NaN                       1  \n",
       "46                       NaN                   NaN                       0  \n",
       "48                       NaN                   NaN                       0  \n",
       "64                    1547.0                   NaN                       1  \n",
       "...                      ...                   ...                     ...  \n",
       "2116                     NaN               83392.0                       0  \n",
       "2121                  3673.0               39191.0                       1  \n",
       "2126                     NaN                2844.0                       0  \n",
       "2146                     NaN                   NaN                       0  \n",
       "2159                 53815.0               83770.0                       1  \n",
       "\n",
       "[158 rows x 27 columns]"
      ]
     },
     "execution_count": 17,
     "metadata": {},
     "output_type": "execute_result"
    }
   ],
   "source": [
    "severe = (tsunamis['Total Deaths']>100) \n",
    "medium = (tsunamis['Total Deaths'].between(5,100))\n",
    "mild = (tsunamis['Total Deaths']<5)\n",
    "tsunamis[severe]"
   ]
  },
  {
   "cell_type": "code",
   "execution_count": 18,
   "metadata": {},
   "outputs": [
    {
     "data": {
      "text/plain": [
       "False    2004\n",
       "True      158\n",
       "Name: Total Deaths, dtype: int64"
      ]
     },
     "execution_count": 18,
     "metadata": {},
     "output_type": "execute_result"
    }
   ],
   "source": [
    "severe.value_counts()\n",
    "\n"
   ]
  },
  {
   "cell_type": "code",
   "execution_count": 19,
   "metadata": {},
   "outputs": [
    {
     "data": {
      "text/plain": [
       "False    1958\n",
       "True      204\n",
       "Name: Total Deaths, dtype: int64"
      ]
     },
     "execution_count": 19,
     "metadata": {},
     "output_type": "execute_result"
    }
   ],
   "source": [
    "medium.value_counts()"
   ]
  },
  {
   "cell_type": "code",
   "execution_count": 20,
   "metadata": {},
   "outputs": [
    {
     "data": {
      "text/plain": [
       "False    2032\n",
       "True      130\n",
       "Name: Total Deaths, dtype: int64"
      ]
     },
     "execution_count": 20,
     "metadata": {},
     "output_type": "execute_result"
    }
   ],
   "source": [
    "\n",
    "mild.value_counts()"
   ]
  },
  {
   "cell_type": "code",
   "execution_count": 21,
   "metadata": {},
   "outputs": [
    {
     "data": {
      "text/plain": [
       "Text(0.5, 1.0, 'Tsunamis Severity')"
      ]
     },
     "execution_count": 21,
     "metadata": {},
     "output_type": "execute_result"
    },
    {
     "data": {
      "image/png": "[encoded data removed]",
      "text/plain": [
       "<Figure size 432x288 with 1 Axes>"
      ]
     },
     "metadata": {},
     "output_type": "display_data"
    }
   ],
   "source": [
    "Range=['severe','medium','mild']\n",
    "Range_values=[158,204,130]\n",
    "fig, ax = plt.subplots()\n",
    "ax.pie(Range_values,labels=Range, autopct='%1.0f%%')\n",
    "ax.set_title('Tsunamis Severity')\n"
   ]
  },
  {
   "cell_type": "markdown",
   "metadata": {},
   "source": [
    "## Tsunami Intensity ##"
   ]
  },
  {
   "cell_type": "markdown",
   "metadata": {},
   "source": [
    "Tsunami Intensity is The measure of strength, force, or energy. \n",
    "In this data, Intensity (I) is calculated according to the formula:\n",
    "\n",
    "I= 1/2+ Log2 Hav where Hav is the water hight. For example:\n",
    "\n",
    "* I = 4 for 11 meters\n",
    "* I = 5 for 22.5 meters\n",
    "\n",
    "The new scales Papadopoulus and Imamura includes 12 categories according to the effects on humans, on nature and objects, including vessels of variable size, and on buildings and other engineered constructions:"
   ]
  },
  {
   "cell_type": "code",
   "execution_count": 22,
   "metadata": {},
   "outputs": [
    {
     "data": {
      "text/plain": [
       "<AxesSubplot:>"
      ]
     },
     "execution_count": 22,
     "metadata": {},
     "output_type": "execute_result"
    },
    {
     "data": {
      "image/png": "[encoded data removed]",
      "text/plain": [
       "<Figure size 432x288 with 1 Axes>"
      ]
     },
     "metadata": {
      "needs_background": "light"
     },
     "output_type": "display_data"
    }
   ],
   "source": [
    "\n",
    "Tsunami_Intensity = tsunamis[~tsunamis['Tsunami Intensity'].isnull()]\n",
    "Tsunami_Intensity['Tsunami Intensity'].describe()\n",
    "tsunamis['Tsunami Intensity'].hist()"
   ]
  },
  {
   "cell_type": "markdown",
   "metadata": {},
   "source": [
    "## Maximum Water High (in meters) ##"
   ]
  },
  {
   "cell_type": "markdown",
   "metadata": {},
   "source": [
    "The mayority of Tsunamis have a maximum water high between 0 and 10 meters, however the highest water level ever recorded was 500 m in Indonesia"
   ]
  },
  {
   "cell_type": "code",
   "execution_count": 23,
   "metadata": {},
   "outputs": [],
   "source": [
    "Water_High_below10 = (tsunamis['Maximum Water Height (m)']<10)\n",
    "temp=tsunamis[Water_High_below10]"
   ]
  },
  {
   "cell_type": "code",
   "execution_count": 24,
   "metadata": {},
   "outputs": [
    {
     "data": {
      "text/plain": [
       "<AxesSubplot:>"
      ]
     },
     "execution_count": 24,
     "metadata": {},
     "output_type": "execute_result"
    },
    {
     "data": {
      "image/png": "[encoded data removed]",
      "text/plain": [
       "<Figure size 432x288 with 1 Axes>"
      ]
     },
     "metadata": {
      "needs_background": "light"
     },
     "output_type": "display_data"
    }
   ],
   "source": [
    "temp['Maximum Water Height (m)'].hist()"
   ]
  },
  {
   "cell_type": "code",
   "execution_count": 25,
   "metadata": {},
   "outputs": [
    {
     "data": {
      "text/html": [
       "<div>\n",
       "<style scoped>\n",
       "    .dataframe tbody tr th:only-of-type {\n",
       "        vertical-align: middle;\n",
       "    }\n",
       "\n",
       "    .dataframe tbody tr th {\n",
       "        vertical-align: top;\n",
       "    }\n",
       "\n",
       "    .dataframe thead th {\n",
       "        text-align: right;\n",
       "    }\n",
       "</style>\n",
       "<table border=\"1\" class=\"dataframe\">\n",
       "  <thead>\n",
       "    <tr style=\"text-align: right;\">\n",
       "      <th></th>\n",
       "      <th>Country</th>\n",
       "      <th>Year</th>\n",
       "      <th>Maximum Water Height (m)</th>\n",
       "    </tr>\n",
       "  </thead>\n",
       "  <tbody>\n",
       "    <tr>\n",
       "      <th>1132</th>\n",
       "      <td>INDONESIA</td>\n",
       "      <td>1930.0</td>\n",
       "      <td>500.0</td>\n",
       "    </tr>\n",
       "    <tr>\n",
       "      <th>1410</th>\n",
       "      <td>USA</td>\n",
       "      <td>1958.0</td>\n",
       "      <td>524.6</td>\n",
       "    </tr>\n",
       "    <tr>\n",
       "      <th>1467</th>\n",
       "      <td>ITALY</td>\n",
       "      <td>1963.0</td>\n",
       "      <td>235.0</td>\n",
       "    </tr>\n",
       "    <tr>\n",
       "      <th>1663</th>\n",
       "      <td>USA</td>\n",
       "      <td>1980.0</td>\n",
       "      <td>250.0</td>\n",
       "    </tr>\n",
       "  </tbody>\n",
       "</table>\n",
       "</div>"
      ],
      "text/plain": [
       "        Country    Year  Maximum Water Height (m)\n",
       "1132  INDONESIA  1930.0                     500.0\n",
       "1410        USA  1958.0                     524.6\n",
       "1467      ITALY  1963.0                     235.0\n",
       "1663        USA  1980.0                     250.0"
      ]
     },
     "execution_count": 25,
     "metadata": {},
     "output_type": "execute_result"
    }
   ],
   "source": [
    "Water_High_above200 = (tsunamis['Maximum Water Height (m)']>200)\n",
    "temp=tsunamis[Water_High_above200]\n",
    "temp[['Country', 'Year', 'Maximum Water Height (m)']]"
   ]
  },
  {
   "cell_type": "markdown",
   "metadata": {},
   "source": [
    "## Earthquake Magnitud ##"
   ]
  },
  {
   "cell_type": "markdown",
   "metadata": {},
   "source": [
    "The most destructive tsunamis are generated from large, shallow earthquakes with an epicenter or fault line near or on the ocean floor. Usually, it takes an earthquake with a Richter magnitude exceeding 7.5 to produce a destructive tsunami.\n",
    "For this example I have grouped Earthquake Maginute."
   ]
  },
  {
   "cell_type": "code",
   "execution_count": 26,
   "metadata": {},
   "outputs": [
    {
     "data": {
      "text/plain": [
       "<AxesSubplot:xlabel='Earthquake Magnitude', ylabel='Count'>"
      ]
     },
     "execution_count": 26,
     "metadata": {},
     "output_type": "execute_result"
    },
    {
     "data": {
      "image/png": "[encoded data removed]",
      "text/plain": [
       "<Figure size 432x288 with 1 Axes>"
      ]
     },
     "metadata": {
      "needs_background": "light"
     },
     "output_type": "display_data"
    }
   ],
   "source": [
    "sns.histplot(data=tsunamis, x=\"Earthquake Magnitude\",kde=True)"
   ]
  },
  {
   "cell_type": "code",
   "execution_count": 27,
   "metadata": {},
   "outputs": [
    {
     "data": {
      "text/html": [
       "<div>\n",
       "<style scoped>\n",
       "    .dataframe tbody tr th:only-of-type {\n",
       "        vertical-align: middle;\n",
       "    }\n",
       "\n",
       "    .dataframe tbody tr th {\n",
       "        vertical-align: top;\n",
       "    }\n",
       "\n",
       "    .dataframe thead th {\n",
       "        text-align: right;\n",
       "    }\n",
       "</style>\n",
       "<table border=\"1\" class=\"dataframe\">\n",
       "  <thead>\n",
       "    <tr style=\"text-align: right;\">\n",
       "      <th></th>\n",
       "      <th>Maximum Water Height (m)</th>\n",
       "    </tr>\n",
       "  </thead>\n",
       "  <tbody>\n",
       "    <tr>\n",
       "      <th>mean</th>\n",
       "      <td>41.74</td>\n",
       "    </tr>\n",
       "  </tbody>\n",
       "</table>\n",
       "</div>"
      ],
      "text/plain": [
       "      Maximum Water Height (m)\n",
       "mean                     41.74"
      ]
     },
     "execution_count": 27,
     "metadata": {},
     "output_type": "execute_result"
    }
   ],
   "source": [
    "Magnitud_below5 = tsunamis[(tsunamis['Earthquake Magnitude']<4.9)].agg({'Maximum Water Height (m)':['mean']}) \n",
    "Magnitud_5to6 = tsunamis[(tsunamis['Earthquake Magnitude'].between(5,5.9))].agg({'Maximum Water Height (m)':['mean']})\n",
    "Magnitud_6to7 = tsunamis[(tsunamis['Earthquake Magnitude'].between(6,6.9))].agg({'Maximum Water Height (m)':['mean']})\n",
    "Magnitud_7to8 = tsunamis[(tsunamis['Earthquake Magnitude'].between(7,7.9))].agg({'Maximum Water Height (m)':['mean']})\n",
    "Magnitud_8to9 = tsunamis[(tsunamis['Earthquake Magnitude'].between(8,8.9))].agg({'Maximum Water Height (m)':['mean']})\n",
    "Magnitud_above9 = tsunamis[(tsunamis['Earthquake Magnitude']>9)].agg({'Maximum Water Height (m)':['mean']})\n",
    "Magnitud_above9\n"
   ]
  },
  {
   "cell_type": "code",
   "execution_count": 28,
   "metadata": {},
   "outputs": [],
   "source": [
    "y=[1.67,0.9005,1.332688,3.683524,8.138469,41.74]\n",
    "x=['Magnitud_below5','Magnitud_5to6','Magnitud_6to7','Magnitud_7to8','Magnitud_8to9','Magnitud_above9']\n"
   ]
  },
  {
   "cell_type": "code",
   "execution_count": 29,
   "metadata": {},
   "outputs": [
    {
     "data": {
      "image/png": "[encoded data removed]",
      "text/plain": [
       "<Figure size 576x216 with 1 Axes>"
      ]
     },
     "metadata": {
      "needs_background": "light"
     },
     "output_type": "display_data"
    }
   ],
   "source": [
    "fig = plt.figure(figsize=(8, 3))\n",
    "ax = fig.add_axes([0,0,1,1])\n",
    "ax.bar(x,y)\n",
    "plt.show()\n"
   ]
  },
  {
   "cell_type": "code",
   "execution_count": 30,
   "metadata": {},
   "outputs": [
    {
     "data": {
      "text/plain": [
       "array([[<AxesSubplot:title={'center':\"('Total Deaths', 'sum')\"}>]],\n",
       "      dtype=object)"
      ]
     },
     "execution_count": 30,
     "metadata": {},
     "output_type": "execute_result"
    },
    {
     "data": {
      "image/png": "[encoded data removed]",
      "text/plain": [
       "<Figure size 432x288 with 1 Axes>"
      ]
     },
     "metadata": {
      "needs_background": "light"
     },
     "output_type": "display_data"
    }
   ],
   "source": [
    "Magnitud=tsunamis.groupby(['Earthquake Magnitude']).agg({'Total Deaths':['sum']})\n",
    "Magnitud.hist()"
   ]
  },
  {
   "cell_type": "markdown",
   "metadata": {},
   "source": [
    "## Tsunamis by Country ##"
   ]
  },
  {
   "cell_type": "markdown",
   "metadata": {},
   "source": [
    "Countries with the highest death toll by Tsunamis are  Haiti, Indonesia  and Japan.\n",
    "Haiti catastrophic magnitude 7.0 Mw earthquake struck Haiti at 16:53 local time on Tuesday, 12 January 2010 and left a devasting death toll of 316,000."
   ]
  },
  {
   "cell_type": "code",
   "execution_count": 31,
   "metadata": {},
   "outputs": [
    {
     "data": {
      "text/plain": [
       "<AxesSubplot:ylabel='sum'>"
      ]
     },
     "execution_count": 31,
     "metadata": {},
     "output_type": "execute_result"
    },
    {
     "data": {
      "image/png": "[encoded data removed]",
      "text/plain": [
       "<Figure size 504x504 with 1 Axes>"
      ]
     },
     "metadata": {},
     "output_type": "display_data"
    }
   ],
   "source": [
    "Deaths_by_Countries = (tsunamis['Total Deaths']>25000)\n",
    "temp=tsunamis[Deaths_by_Countries]\n",
    "\n",
    "ctry=temp.groupby(['Country']).agg({'Total Deaths':['sum']}).plot(kind='pie', y='Total Deaths',figsize=(7, 7))\n",
    "\n",
    "ctry"
   ]
  },
  {
   "cell_type": "code",
   "execution_count": 32,
   "metadata": {},
   "outputs": [
    {
     "data": {
      "text/html": [
       "<div>\n",
       "<style scoped>\n",
       "    .dataframe tbody tr th:only-of-type {\n",
       "        vertical-align: middle;\n",
       "    }\n",
       "\n",
       "    .dataframe tbody tr th {\n",
       "        vertical-align: top;\n",
       "    }\n",
       "\n",
       "    .dataframe thead th {\n",
       "        text-align: right;\n",
       "    }\n",
       "</style>\n",
       "<table border=\"1\" class=\"dataframe\">\n",
       "  <thead>\n",
       "    <tr style=\"text-align: right;\">\n",
       "      <th></th>\n",
       "      <th>Country</th>\n",
       "      <th>Year</th>\n",
       "      <th>Total Deaths</th>\n",
       "    </tr>\n",
       "  </thead>\n",
       "  <tbody>\n",
       "    <tr>\n",
       "      <th>1978</th>\n",
       "      <td>HAITI</td>\n",
       "      <td>2010.0</td>\n",
       "      <td>316000.0</td>\n",
       "    </tr>\n",
       "    <tr>\n",
       "      <th>1904</th>\n",
       "      <td>INDONESIA</td>\n",
       "      <td>2004.0</td>\n",
       "      <td>227899.0</td>\n",
       "    </tr>\n",
       "    <tr>\n",
       "      <th>1034</th>\n",
       "      <td>JAPAN</td>\n",
       "      <td>1923.0</td>\n",
       "      <td>142807.0</td>\n",
       "    </tr>\n",
       "    <tr>\n",
       "      <th>1950</th>\n",
       "      <td>CHINA</td>\n",
       "      <td>2008.0</td>\n",
       "      <td>87652.0</td>\n",
       "    </tr>\n",
       "    <tr>\n",
       "      <th>884</th>\n",
       "      <td>ITALY</td>\n",
       "      <td>1908.0</td>\n",
       "      <td>80000.0</td>\n",
       "    </tr>\n",
       "    <tr>\n",
       "      <th>1554</th>\n",
       "      <td>PERU</td>\n",
       "      <td>1970.0</td>\n",
       "      <td>66794.0</td>\n",
       "    </tr>\n",
       "    <tr>\n",
       "      <th>46</th>\n",
       "      <td>INDONESIA</td>\n",
       "      <td>1815.0</td>\n",
       "      <td>60000.0</td>\n",
       "    </tr>\n",
       "    <tr>\n",
       "      <th>1191</th>\n",
       "      <td>PAKISTAN</td>\n",
       "      <td>1935.0</td>\n",
       "      <td>60000.0</td>\n",
       "    </tr>\n",
       "    <tr>\n",
       "      <th>1753</th>\n",
       "      <td>IRAN</td>\n",
       "      <td>1990.0</td>\n",
       "      <td>40000.0</td>\n",
       "    </tr>\n",
       "    <tr>\n",
       "      <th>619</th>\n",
       "      <td>INDONESIA</td>\n",
       "      <td>1883.0</td>\n",
       "      <td>36417.0</td>\n",
       "    </tr>\n",
       "    <tr>\n",
       "      <th>1253</th>\n",
       "      <td>TURKEY</td>\n",
       "      <td>1939.0</td>\n",
       "      <td>32700.0</td>\n",
       "    </tr>\n",
       "    <tr>\n",
       "      <th>1240</th>\n",
       "      <td>CHILE</td>\n",
       "      <td>1939.0</td>\n",
       "      <td>30000.0</td>\n",
       "    </tr>\n",
       "    <tr>\n",
       "      <th>791</th>\n",
       "      <td>MARTINIQUE (FRENCH TERRITORY)</td>\n",
       "      <td>1902.0</td>\n",
       "      <td>28000.0</td>\n",
       "    </tr>\n",
       "    <tr>\n",
       "      <th>729</th>\n",
       "      <td>JAPAN</td>\n",
       "      <td>1896.0</td>\n",
       "      <td>27122.0</td>\n",
       "    </tr>\n",
       "    <tr>\n",
       "      <th>38</th>\n",
       "      <td>VENEZUELA</td>\n",
       "      <td>1812.0</td>\n",
       "      <td>26000.0</td>\n",
       "    </tr>\n",
       "  </tbody>\n",
       "</table>\n",
       "</div>"
      ],
      "text/plain": [
       "                            Country    Year  Total Deaths\n",
       "1978                          HAITI  2010.0      316000.0\n",
       "1904                      INDONESIA  2004.0      227899.0\n",
       "1034                          JAPAN  1923.0      142807.0\n",
       "1950                          CHINA  2008.0       87652.0\n",
       "884                           ITALY  1908.0       80000.0\n",
       "1554                           PERU  1970.0       66794.0\n",
       "46                        INDONESIA  1815.0       60000.0\n",
       "1191                       PAKISTAN  1935.0       60000.0\n",
       "1753                           IRAN  1990.0       40000.0\n",
       "619                       INDONESIA  1883.0       36417.0\n",
       "1253                         TURKEY  1939.0       32700.0\n",
       "1240                          CHILE  1939.0       30000.0\n",
       "791   MARTINIQUE (FRENCH TERRITORY)  1902.0       28000.0\n",
       "729                           JAPAN  1896.0       27122.0\n",
       "38                        VENEZUELA  1812.0       26000.0"
      ]
     },
     "execution_count": 32,
     "metadata": {},
     "output_type": "execute_result"
    }
   ],
   "source": [
    "Deaths_by_Countries = (tsunamis['Total Deaths']>25000)\n",
    "temp = tsunamis[Deaths_by_Countries]\n",
    "temp[['Country','Year','Total Deaths']].sort_values(by='Total Deaths', ascending=False)\n"
   ]
  },
  {
   "cell_type": "code",
   "execution_count": 33,
   "metadata": {},
   "outputs": [
    {
     "data": {
      "text/plain": [
       "Text(0.5, 1.0, 'Total Deaths by Countries with the highest death toll')"
      ]
     },
     "execution_count": 33,
     "metadata": {},
     "output_type": "execute_result"
    },
    {
     "data": {
      "image/png": "[encoded data removed]",
      "text/plain": [
       "<Figure size 1656x360 with 1 Axes>"
      ]
     },
     "metadata": {
      "needs_background": "light"
     },
     "output_type": "display_data"
    }
   ],
   "source": [
    "plt.figure(figsize=(23, 5))\n",
    "sns.boxplot(x = \"Country\", y='Total Deaths', data = temp)\n",
    "plt.title(\"Total Deaths by Countries with the highest death toll\")"
   ]
  },
  {
   "cell_type": "markdown",
   "metadata": {},
   "source": [
    "## Deaths by Year ##"
   ]
  },
  {
   "cell_type": "markdown",
   "metadata": {},
   "source": [
    "The most lethal years were 2010 (Haiti), 2004 (Indonesia), 1923 (Japan) & 2008 (China)"
   ]
  },
  {
   "cell_type": "code",
   "execution_count": 34,
   "metadata": {},
   "outputs": [
    {
     "data": {
      "text/plain": [
       "<AxesSubplot:ylabel='sum'>"
      ]
     },
     "execution_count": 34,
     "metadata": {},
     "output_type": "execute_result"
    },
    {
     "data": {
      "image/png": "[encoded data removed]",
      "text/plain": [
       "<Figure size 504x504 with 1 Axes>"
      ]
     },
     "metadata": {},
     "output_type": "display_data"
    }
   ],
   "source": [
    "Deaths_by_Year = (tsunamis['Total Deaths']>25000)\n",
    "temp=tsunamis[Deaths_by_Year]\n",
    "\n",
    "yr=temp.groupby(['Year']).agg({'Total Deaths':['sum']}).plot(kind='pie', y='Total Deaths',figsize=(7, 7))\n",
    "yr"
   ]
  },
  {
   "cell_type": "code",
   "execution_count": 35,
   "metadata": {},
   "outputs": [
    {
     "data": {
      "text/plain": [
       "<AxesSubplot:xlabel='Maximum Water Height (m)', ylabel='Count'>"
      ]
     },
     "execution_count": 35,
     "metadata": {},
     "output_type": "execute_result"
    },
    {
     "data": {
      "image/png": "[encoded data removed]",
      "text/plain": [
       "<Figure size 432x288 with 1 Axes>"
      ]
     },
     "metadata": {
      "needs_background": "light"
     },
     "output_type": "display_data"
    }
   ],
   "source": [
    "sns.histplot(data=tsunamis, x=\"Maximum Water Height (m)\",kde=True)"
   ]
  },
  {
   "cell_type": "markdown",
   "metadata": {},
   "source": [
    "## Locations ##"
   ]
  },
  {
   "cell_type": "code",
   "execution_count": 36,
   "metadata": {},
   "outputs": [
    {
     "data": {
      "text/html": [
       "<div>\n",
       "<style scoped>\n",
       "    .dataframe tbody tr th:only-of-type {\n",
       "        vertical-align: middle;\n",
       "    }\n",
       "\n",
       "    .dataframe tbody tr th {\n",
       "        vertical-align: top;\n",
       "    }\n",
       "\n",
       "    .dataframe thead th {\n",
       "        text-align: right;\n",
       "    }\n",
       "</style>\n",
       "<table border=\"1\" class=\"dataframe\">\n",
       "  <thead>\n",
       "    <tr style=\"text-align: right;\">\n",
       "      <th></th>\n",
       "      <th>Latitude</th>\n",
       "      <th>Longitude</th>\n",
       "      <th>Total Deaths</th>\n",
       "    </tr>\n",
       "  </thead>\n",
       "  <tbody>\n",
       "    <tr>\n",
       "      <th>count</th>\n",
       "      <td>1892.000000</td>\n",
       "      <td>1892.000000</td>\n",
       "      <td>492.000000</td>\n",
       "    </tr>\n",
       "    <tr>\n",
       "      <th>mean</th>\n",
       "      <td>13.685687</td>\n",
       "      <td>37.707962</td>\n",
       "      <td>3271.034553</td>\n",
       "    </tr>\n",
       "    <tr>\n",
       "      <th>std</th>\n",
       "      <td>28.811748</td>\n",
       "      <td>110.683437</td>\n",
       "      <td>20341.118896</td>\n",
       "    </tr>\n",
       "    <tr>\n",
       "      <th>min</th>\n",
       "      <td>-63.000000</td>\n",
       "      <td>-179.971000</td>\n",
       "      <td>1.000000</td>\n",
       "    </tr>\n",
       "    <tr>\n",
       "      <th>25%</th>\n",
       "      <td>-8.305000</td>\n",
       "      <td>-71.500000</td>\n",
       "      <td>4.000000</td>\n",
       "    </tr>\n",
       "    <tr>\n",
       "      <th>50%</th>\n",
       "      <td>16.000000</td>\n",
       "      <td>50.674500</td>\n",
       "      <td>24.500000</td>\n",
       "    </tr>\n",
       "    <tr>\n",
       "      <th>75%</th>\n",
       "      <td>38.391500</td>\n",
       "      <td>140.334750</td>\n",
       "      <td>262.750000</td>\n",
       "    </tr>\n",
       "    <tr>\n",
       "      <th>max</th>\n",
       "      <td>71.813000</td>\n",
       "      <td>179.984000</td>\n",
       "      <td>316000.000000</td>\n",
       "    </tr>\n",
       "  </tbody>\n",
       "</table>\n",
       "</div>"
      ],
      "text/plain": [
       "          Latitude    Longitude   Total Deaths\n",
       "count  1892.000000  1892.000000     492.000000\n",
       "mean     13.685687    37.707962    3271.034553\n",
       "std      28.811748   110.683437   20341.118896\n",
       "min     -63.000000  -179.971000       1.000000\n",
       "25%      -8.305000   -71.500000       4.000000\n",
       "50%      16.000000    50.674500      24.500000\n",
       "75%      38.391500   140.334750     262.750000\n",
       "max      71.813000   179.984000  316000.000000"
      ]
     },
     "execution_count": 36,
     "metadata": {},
     "output_type": "execute_result"
    }
   ],
   "source": [
    "tsunamis[['Latitude', 'Longitude', 'Total Deaths']].describe()"
   ]
  },
  {
   "cell_type": "code",
   "execution_count": 37,
   "metadata": {},
   "outputs": [
    {
     "data": {
      "text/plain": [
       "[(37.7, 138.3, 19.0),\n",
       " (39.05, 139.95, 450.0),\n",
       " (44.833, 7.25, 2.0),\n",
       " (39.9, 139.9, 57.0),\n",
       " (10.6, -66.9, 26000.0),\n",
       " (34.2, -119.9, 1.0),\n",
       " (-8.2, 118.0, 60000.0),\n",
       " (-8.0, 115.0, 11453.0),\n",
       " (37.6, 15.133, 72.0),\n",
       " (23.0, 71.0, 1543.0),\n",
       " (37.75, 21.25, 8.0),\n",
       " (-7.0, 119.0, 500.0),\n",
       " (-15.95, -5.7, 3.0),\n",
       " (36.0, 36.0, 8000.0),\n",
       " (-33.0, -72.0, 72.0)]"
      ]
     },
     "execution_count": 37,
     "metadata": {},
     "output_type": "execute_result"
    }
   ],
   "source": [
    "temp = tsunamis[['Latitude','Longitude','Total Deaths']]\n",
    "temp = temp.dropna()\n",
    "\n",
    "my_zip = zip(temp['Latitude'], temp['Longitude'],temp['Total Deaths'])\n",
    "list_of_my_zip = list(my_zip)\n",
    "list_of_my_zip[0:15]"
   ]
  },
  {
   "cell_type": "code",
   "execution_count": 38,
   "metadata": {},
   "outputs": [],
   "source": [
    "from folium.plugins import HeatMap\n",
    "folium_hmap = folium.Map(location=[39.728593,8.952292], \n",
    "                         zoom_start=1.5, blur=0,\n",
    "                         tiles=\"OpenStreetMap\")\n"
   ]
  },
  {
   "cell_type": "code",
   "execution_count": 39,
   "metadata": {
    "scrolled": true
   },
   "outputs": [
    {
     "data": {
      "text/html": [
       "<div style=\"width:100%;\"><div style=\"position:relative;width:100%;height:0;padding-bottom:60%;\"><span style=\"color:#565656\">Make this Notebook Trusted to load map: File -> Trust Notebook</span><iframe src=\"about:blank\" style=\"position:absolute;width:100%;height:100%;left:0;top:0;border:none !important;\" data-html=%3C%21DOCTYPE%20html%3E%0A%3Chead%3E%20%20%20%20%0A%20%20%20%20%3Cmeta%20http-equiv%3D%22content-type%22%20content%3D%22text/html%3B%20charset%3DUTF-8%22%20/%3E%0A%20%20%20%20%0A%20%20%20%20%20%20%20%20%3Cscript%3E%0A%20%20%20%20%20%20%20%20%20%20%20%20L_NO_TOUCH%20%3D%20false%3B%0A%20%20%20%20%20%20%20%20%20%20%20%20L_DISABLE_3D%20%3D%20false%3B%0A%20%20%20%20%20%20%20%20%3C/script%3E%0A%20%20%20%20%0A%20%20%20%20%3Cstyle%3Ehtml%2C%20body%20%7Bwidth%3A%20100%25%3Bheight%3A%20100%25%3Bmargin%3A%200%3Bpadding%3A%200%3B%7D%3C/style%3E%0A%20%20%20%20%3Cstyle%3E%23map%20%7Bposition%3Aabsolute%3Btop%3A0%3Bbottom%3A0%3Bright%3A0%3Bleft%3A0%3B%7D%3C/style%3E%0A%20%20%20%20%3Cscript%20src%3D%22https%3A//cdn.jsdelivr.net/npm/leaflet%401.6.0/dist/leaflet.js%22%3E%3C/script%3E%0A%20%20%20%20%3Cscript%20src%3D%22https%3A//code.jquery.com/jquery-1.12.4.min.js%22%3E%3C/script%3E%0A%20%20%20%20%3Cscript%20src%3D%22https%3A//maxcdn.bootstrapcdn.com/bootstrap/3.2.0/js/bootstrap.min.js%22%3E%3C/script%3E%0A%20%20%20%20%3Cscript%20src%3D%22https%3A//cdnjs.cloudflare.com/ajax/libs/Leaflet.awesome-markers/2.0.2/leaflet.awesome-markers.js%22%3E%3C/script%3E%0A%20%20%20%20%3Clink%20rel%3D%22stylesheet%22%20href%3D%22https%3A//cdn.jsdelivr.net/npm/leaflet%401.6.0/dist/leaflet.css%22/%3E%0A%20%20%20%20%3Clink%20rel%3D%22stylesheet%22%20href%3D%22https%3A//maxcdn.bootstrapcdn.com/bootstrap/3.2.0/css/bootstrap.min.css%22/%3E%0A%20%20%20%20%3Clink%20rel%3D%22stylesheet%22%20href%3D%22https%3A//maxcdn.bootstrapcdn.com/bootstrap/3.2.0/css/bootstrap-theme.min.css%22/%3E%0A%20%20%20%20%3Clink%20rel%3D%22stylesheet%22%20href%3D%22https%3A//maxcdn.bootstrapcdn.com/font-awesome/4.6.3/css/font-awesome.min.css%22/%3E%0A%20%20%20%20%3Clink%20rel%3D%22stylesheet%22%20href%3D%22https%3A//cdnjs.cloudflare.com/ajax/libs/Leaflet.awesome-markers/2.0.2/leaflet.awesome-markers.css%22/%3E%0A%20%20%20%20%3Clink%20rel%3D%22stylesheet%22%20href%3D%22https%3A//cdn.jsdelivr.net/gh/python-visualization/folium/folium/templates/leaflet.awesome.rotate.min.css%22/%3E%0A%20%20%20%20%0A%20%20%20%20%20%20%20%20%20%20%20%20%3Cmeta%20name%3D%22viewport%22%20content%3D%22width%3Ddevice-width%2C%0A%20%20%20%20%20%20%20%20%20%20%20%20%20%20%20%20initial-scale%3D1.0%2C%20maximum-scale%3D1.0%2C%20user-scalable%3Dno%22%20/%3E%0A%20%20%20%20%20%20%20%20%20%20%20%20%3Cstyle%3E%0A%20%20%20%20%20%20%20%20%20%20%20%20%20%20%20%20%23map_1c2d8ca43ce4414597744073557b9d7e%20%7B%0A%20%20%20%20%20%20%20%20%20%20%20%20%20%20%20%20%20%20%20%20position%3A%20relative%3B%0A%20%20%20%20%20%20%20%20%20%20%20%20%20%20%20%20%20%20%20%20width%3A%20100.0%25%3B%0A%20%20%20%20%20%20%20%20%20%20%20%20%20%20%20%20%20%20%20%20height%3A%20100.0%25%3B%0A%20%20%20%20%20%20%20%20%20%20%20%20%20%20%20%20%20%20%20%20left%3A%200.0%25%3B%0A%20%20%20%20%20%20%20%20%20%20%20%20%20%20%20%20%20%20%20%20top%3A%200.0%25%3B%0A%20%20%20%20%20%20%20%20%20%20%20%20%20%20%20%20%7D%0A%20%20%20%20%20%20%20%20%20%20%20%20%3C/style%3E%0A%20%20%20%20%20%20%20%20%0A%20%20%20%20%3Cscript%20src%3D%22https%3A//cdn.jsdelivr.net/gh/python-visualization/folium%40master/folium/templates/leaflet_heat.min.js%22%3E%3C/script%3E%0A%3C/head%3E%0A%3Cbody%3E%20%20%20%20%0A%20%20%20%20%0A%20%20%20%20%20%20%20%20%20%20%20%20%3Cdiv%20class%3D%22folium-map%22%20id%3D%22map_1c2d8ca43ce4414597744073557b9d7e%22%20%3E%3C/div%3E%0A%20%20%20%20%20%20%20%20%0A%3C/body%3E%0A%3Cscript%3E%20%20%20%20%0A%20%20%20%20%0A%20%20%20%20%20%20%20%20%20%20%20%20var%20map_1c2d8ca43ce4414597744073557b9d7e%20%3D%20L.map%28%0A%20%20%20%20%20%20%20%20%20%20%20%20%20%20%20%20%22map_1c2d8ca43ce4414597744073557b9d7e%22%2C%0A%20%20%20%20%20%20%20%20%20%20%20%20%20%20%20%20%7B%0A%20%20%20%20%20%20%20%20%20%20%20%20%20%20%20%20%20%20%20%20center%3A%20%5B39.728593%2C%208.952292%5D%2C%0A%20%20%20%20%20%20%20%20%20%20%20%20%20%20%20%20%20%20%20%20crs%3A%20L.CRS.EPSG3857%2C%0A%20%20%20%20%20%20%20%20%20%20%20%20%20%20%20%20%20%20%20%20zoom%3A%201.5%2C%0A%20%20%20%20%20%20%20%20%20%20%20%20%20%20%20%20%20%20%20%20zoomControl%3A%20true%2C%0A%20%20%20%20%20%20%20%20%20%20%20%20%20%20%20%20%20%20%20%20preferCanvas%3A%20false%2C%0A%20%20%20%20%20%20%20%20%20%20%20%20%20%20%20%20%20%20%20%20blur%3A%200%2C%0A%20%20%20%20%20%20%20%20%20%20%20%20%20%20%20%20%7D%0A%20%20%20%20%20%20%20%20%20%20%20%20%29%3B%0A%0A%20%20%20%20%20%20%20%20%20%20%20%20%0A%0A%20%20%20%20%20%20%20%20%0A%20%20%20%20%0A%20%20%20%20%20%20%20%20%20%20%20%20var%20tile_layer_e48469cd353f4d79b1ae7e89f7abbe3e%20%3D%20L.tileLayer%28%0A%20%20%20%20%20%20%20%20%20%20%20%20%20%20%20%20%22https%3A//%7Bs%7D.tile.openstreetmap.org/%7Bz%7D/%7Bx%7D/%7By%7D.png%22%2C%0A%20%20%20%20%20%20%20%20%20%20%20%20%20%20%20%20%7B%22attribution%22%3A%20%22Data%20by%20%5Cu0026copy%3B%20%5Cu003ca%20href%3D%5C%22http%3A//openstreetmap.org%5C%22%5Cu003eOpenStreetMap%5Cu003c/a%5Cu003e%2C%20under%20%5Cu003ca%20href%3D%5C%22http%3A//www.openstreetmap.org/copyright%5C%22%5Cu003eODbL%5Cu003c/a%5Cu003e.%22%2C%20%22detectRetina%22%3A%20false%2C%20%22maxNativeZoom%22%3A%2018%2C%20%22maxZoom%22%3A%2018%2C%20%22minZoom%22%3A%200%2C%20%22noWrap%22%3A%20false%2C%20%22opacity%22%3A%201%2C%20%22subdomains%22%3A%20%22abc%22%2C%20%22tms%22%3A%20false%7D%0A%20%20%20%20%20%20%20%20%20%20%20%20%29.addTo%28map_1c2d8ca43ce4414597744073557b9d7e%29%3B%0A%20%20%20%20%20%20%20%20%0A%20%20%20%20%0A%20%20%20%20%20%20%20%20%20%20%20%20var%20heat_map_f48a2dd956944943b3e5eb8bfe0d20f8%20%3D%20L.heatLayer%28%0A%20%20%20%20%20%20%20%20%20%20%20%20%20%20%20%20%5B%5B37.7%2C%20138.3%2C%2019.0%5D%2C%20%5B39.05%2C%20139.95%2C%20450.0%5D%2C%20%5B44.833%2C%207.25%2C%202.0%5D%2C%20%5B39.9%2C%20139.9%2C%2057.0%5D%2C%20%5B10.6%2C%20-66.9%2C%2026000.0%5D%2C%20%5B34.2%2C%20-119.9%2C%201.0%5D%2C%20%5B-8.2%2C%20118.0%2C%2060000.0%5D%2C%20%5B-8.0%2C%20115.0%2C%2011453.0%5D%2C%20%5B37.6%2C%2015.133%2C%2072.0%5D%2C%20%5B23.0%2C%2071.0%2C%201543.0%5D%2C%20%5B37.75%2C%2021.25%2C%208.0%5D%2C%20%5B-7.0%2C%20119.0%2C%20500.0%5D%2C%20%5B-15.95%2C%20-5.7%2C%203.0%5D%2C%20%5B36.0%2C%2036.0%2C%208000.0%5D%2C%20%5B-33.0%2C%20-72.0%2C%2072.0%5D%2C%20%5B38.8%2C%2020.7%2C%2058.0%5D%2C%20%5B39.0%2C%2017.0%2C%20234.0%5D%2C%20%5B25.2%2C%20103.0%2C%206700.0%5D%2C%20%5B-18.251%2C%20-71.01%2C%20700.0%5D%2C%20%5B38.9%2C%20139.15%2C%2085.0%5D%2C%20%5B-36.83%2C%20-73.03%2C%2053.0%5D%2C%20%5B39.6%2C%2016.6%2C%20589.0%5D%2C%20%5B-42.5%2C%20-74.0%2C%2016.0%5D%2C%20%5B12.9%2C%20123.9%2C%2052.0%5D%2C%20%5B19.75%2C%20-72.2%2C%205300.0%5D%2C%20%5B16.5%2C%20-62.2%2C%205000.0%5D%2C%20%5B42.0%2C%20146.0%2C%2045.0%5D%2C%20%5B1.5%2C%20124.85%2C%20118.0%5D%2C%20%5B43.4%2C%2010.6%2C%2056.0%5D%2C%20%5B39.483%2C%20-31.233%2C%2010.0%5D%2C%20%5B40.5%2C%2019.7%2C%202000.0%5D%2C%20%5B14.0%2C%20120.5%2C%203.0%5D%2C%20%5B-5.25%2C%20129.75%2C%2060.0%5D%2C%20%5B17.0%2C%20-100.0%2C%201.0%5D%2C%20%5B10.5%2C%20-64.2%2C%201000.0%5D%2C%20%5B38.25%2C%2023.5%2C%2017.0%5D%2C%20%5B34.0%2C%20137.9%2C%201000.0%5D%2C%20%5B33.1%2C%20135.0%2C%203000.0%5D%2C%20%5B35.65%2C%20139.8%2C%206757.0%5D%2C%20%5B3.67%2C%20125.5%2C%202806.0%5D%2C%20%5B37.1%2C%205.7%2C%205.0%5D%2C%20%5B37.1%2C%205.7%2C%208.0%5D%2C%20%5B40.5%2C%20143.5%2C%2026.0%5D%2C%20%5B35.5%2C%2026.0%2C%20538.0%5D%2C%20%5B-8.0%2C%20115.5%2C%2036.0%5D%2C%20%5B-27.35%2C%20-70.35%2C%2010.0%5D%2C%20%5B-9.0%2C%20111.0%2C%202.0%5D%2C%20%5B-1.0%2C%2097.5%2C%201105.0%5D%2C%20%5B0.009%2C%2098.0%2C%20950.0%5D%2C%20%5B7.0%2C%200.4%2C%203.0%5D%2C%20%5B36.5%2C%2028.0%2C%20300.0%5D%2C%20%5B14.5%2C%20121.0%2C%20400.0%5D%2C%20%5B-1.0%2C%20135.0%2C%20250.0%5D%2C%20%5B-12.0%2C%20-77.1%2C%205.0%5D%2C%20%5B40.3%2C%2019.4%2C%2060.0%5D%2C%20%5B40.4%2C%2019.5%2C%2060.0%5D%2C%20%5B39.2%2C%2026.4%2C%20563.0%5D%2C%20%5B46.0%2C%208.7%2C%2016.0%5D%2C%20%5B-7.8%2C%20110.4%2C%205.0%5D%2C%20%5B18.1%2C%20-65.1%2C%2024.0%5D%2C%20%5B25.34%2C%20121.91%2C%20580.0%5D%2C%20%5B19.0%2C%20-155.5%2C%2077.0%5D%2C%20%5B-18.6%2C%20-71.0%2C%2025000.0%5D%2C%20%5B37.7%2C%20-122.1%2C%2030.0%5D%2C%20%5B15.4%2C%20-96.3%2C%2024.0%5D%2C%20%5B38.5%2C%2022.5%2C%20100.0%5D%2C%20%5B47.4%2C%20-70.5%2C%202.0%5D%2C%20%5B2.28%2C%20125.425%2C%20400.0%5D%2C%20%5B34.9%2C%20132.0%2C%20804.0%5D%2C%20%5B36.2%2C%2036.2%2C%201800.0%5D%2C%20%5B22.0%2C%2089.0%2C%202000.0%5D%2C%20%5B-20.0%2C%20168.5%2C%2025.0%5D%2C%20%5B-21.5%2C%20-70.5%2C%202385.0%5D%2C%20%5B-12.0%2C%20-77.0%2C%205.0%5D%2C%20%5B-4.25%2C%20152.25%2C%201.0%5D%2C%20%5B40.7%2C%2029.7%2C%2040.0%5D%2C%20%5B35.18%2C%20-120.731%2C%201.0%5D%2C%20%5B16.0%2C%20121.85%2C%2020.0%5D%2C%20%5B-31.62%2C%20-71.18%2C%202.0%5D%2C%20%5B38.2%2C%2026.2%2C%207866.0%5D%2C%20%5B24.5%2C%20120.5%2C%208.0%5D%2C%20%5B-6.102%2C%20105.423%2C%2036417.0%5D%2C%20%5B59.4%2C%20-153.4%2C%208.0%5D%2C%20%5B30.8%2C%20-109.25%2C%2051.0%5D%2C%20%5B63.433%2C%2010.383%2C%201.0%5D%2C%20%5B36.6%2C%2054.6%2C%20171.0%5D%2C%20%5B36.5%2C%201.8%2C%2036.0%5D%2C%20%5B3.67%2C%20125.5%2C%201532.0%5D%2C%20%5B37.0%2C%20136.8%2C%201.0%5D%2C%20%5B40.5%2C%2025.5%2C%201.0%5D%2C%20%5B42.5%2C%20146.0%2C%201.0%5D%2C%20%5B38.9%2C%20139.8%2C%20726.0%5D%2C%20%5B38.3%2C%2015.9%2C%20101.0%5D%2C%20%5B47.286%2C%20-122.445%2C%202.0%5D%2C%20%5B39.5%2C%20144.0%2C%2027122.0%5D%2C%20%5B26.0%2C%2091.0%2C%201542.0%5D%2C%20%5B6.0%2C%20122.0%2C%2013.0%5D%2C%20%5B-36.83%2C%20-73.03%2C%206.0%5D%2C%20%5B38.64%2C%20-28.03%2C%201.0%5D%2C%20%5B-3.0%2C%20128.5%2C%202460.0%5D%2C%20%5B58.6%2C%20-137.5%2C%205.0%5D%2C%20%5B-4.0%2C%20140.0%2C%205.0%5D%2C%20%5B11.0%2C%20-66.0%2C%2025.0%5D%2C%20%5B43.4%2C%2028.5%2C%204.0%5D%2C%20%5B40.6%2C%20142.3%2C%2018.0%5D%2C%20%5B13.5%2C%20-89.5%2C%20185.0%5D%2C%20%5B14.0%2C%20-91.0%2C%202000.0%5D%2C%20%5B14.82%2C%20-61.17%2C%2023.0%5D%2C%20%5B13.33%2C%20-61.18%2C%201680.0%5D%2C%20%5B14.82%2C%20-61.17%2C%2028000.0%5D%2C%20%5B14.82%2C%20-61.17%2C%201500.0%5D%2C%20%5B61.866%2C%206.85%2C%2061.0%5D%2C%20%5B-40.5%2C%20175.0%2C%201.0%5D%2C%20%5B33.0%2C%2076.0%2C%2019000.0%5D%2C%20%5B37.4%2C%20142.6%2C%2057.0%5D%2C%20%5B38.67%2C%2016.07%2C%20557.0%5D%2C%20%5B40.092%2C%2024.627%2C%2011.0%5D%2C%20%5B1.0%2C%20-81.5%2C%201000.0%5D%2C%20%5B40.821%2C%2014.426%2C%20350.0%5D%2C%20%5B-33.0%2C%20-72.0%2C%204000.0%5D%2C%20%5B2.681%2C%2095.53%2C%202188.0%5D%2C%20%5B18.667%2C%20-76.237%2C%201000.0%5D%2C%20%5B17.0%2C%20-100.0%2C%208.0%5D%2C%20%5B38.133%2C%2016.017%2C%20158.0%5D%2C%20%5B45.77%2C%20-75.6%2C%2033.0%5D%2C%20%5B38.17%2C%2015.58%2C%2080000.0%5D%2C%20%5B35.4%2C%20136.3%2C%2041.0%5D%2C%20%5B14.002%2C%20120.993%2C%201335.0%5D%2C%20%5B28.0%2C%20130.0%2C%2012.0%5D%2C%20%5B40.444%2C%2026.784%2C%202800.0%5D%2C%20%5B5.354%2C%20126.121%2C%20138.0%5D%2C%20%5B31.58%2C%20130.67%2C%2063.0%5D%2C%20%5B-3.924%2C%20101.82%2C%2020.0%5D%2C%20%5B-37.8%2C%20178.2%2C%201.0%5D%2C%20%5B38.8%2C%2020.6%2C%2014.0%5D%2C%20%5B-14.18%2C%20-169.66%2C%203.0%5D%2C%20%5B-7.0%2C%20116.0%2C%201500.0%5D%2C%20%5B6.0%2C%20125.0%2C%207.0%5D%2C%20%5B-15.5%2C%20-173.0%2C%202.0%5D%2C%20%5B58.204%2C%20-134.147%2C%201.0%5D%2C%20%5B44.633%2C%20-63.583%2C%202000.0%5D%2C%20%5B23.5%2C%20117.2%2C%202000.0%5D%2C%20%5B5.5%2C%20123.0%2C%2052.0%5D%2C%20%5B45.5%2C%20151.5%2C%2023.0%5D%2C%20%5B18.7%2C%20-67.189%2C%20144.0%5D%2C%20%5B38.789%2C%2015.213%2C%204.0%5D%2C%20%5B10.2%2C%20124.1%2C%205.0%5D%2C%20%5B24.5%2C%20122.0%2C%205.0%5D%2C%20%5B-28.553%2C%20-70.755%2C%20700.0%5D%2C%20%5B54.0%2C%20161.0%2C%203.0%5D%2C%20%5B56.5%2C%20162.5%2C%2018.0%5D%2C%20%5B40.6%2C%20-73.5%2C%202.0%5D%2C%20%5B35.1%2C%20139.5%2C%20142807.0%5D%2C%20%5B9.3%2C%20122.7%2C%2017.0%5D%2C%20%5B37.973%2C%20-28.59%2C%209.0%5D%2C%20%5B32.5%2C%20-115.5%2C%201.0%5D%2C%20%5B35.6%2C%20135.1%2C%203022.0%5D%2C%20%5B32.0%2C%2035.5%2C%20268.0%5D%2C%20%5B44.4%2C%2034.5%2C%2011.0%5D%2C%20%5B-0.7%2C%20119.7%2C%2050.0%5D%2C%20%5B38.1%2C%2027.4%2C%20170.0%5D%2C%20%5B-13.0%2C%20-69.6%2C%2010.0%5D%2C%20%5B38.0%2C%2023.0%2C%2020.0%5D%2C%20%5B16.028%2C%20-97.036%2C%204.0%5D%2C%20%5B-8.32%2C%20121.708%2C%20226.0%5D%2C%20%5B-35.0%2C%20-72.0%2C%20279.0%5D%2C%20%5B7.0%2C%20124.0%2C%2097.0%5D%2C%20%5B10.6%2C%20-65.6%2C%2050.0%5D%2C%20%5B-41.75%2C%20172.25%2C%2017.0%5D%2C%20%5B4.633%2C%2095.567%2C%206.0%5D%2C%20%5B44.69%2C%20-56.0%2C%2028.0%5D%2C%20%5B32.617%2C%20-16.967%2C%2020.0%5D%2C%20%5B17.3%2C%2096.5%2C%20500.0%5D%2C%20%5B34.03%2C%20-118.643%2C%201.0%5D%2C%20%5B38.789%2C%2015.213%2C%206.0%5D%2C%20%5B43.667%2C%2013.267%2C%2018.0%5D%2C%20%5B-1.3%2C%20144.3%2C%2027.0%5D%2C%20%5B-39.772%2C%20176.025%2C%20261.0%5D%2C%20%5B39.35%2C%20-74.417%2C%204.0%5D%2C%20%5B-10.932%2C%20161.016%2C%2050.0%5D%2C%20%5B32.2%2C%20132.1%2C%201.0%5D%2C%20%5B19.623%2C%20-103.919%2C%20400.0%5D%2C%20%5B19.242%2C%20-104.383%2C%2075.0%5D%2C%20%5B40.5%2C%2023.9%2C%20161.0%5D%2C%20%5B49.12%2C%20154.508%2C%202.0%5D%2C%20%5B39.224%2C%20144.622%2C%203022.0%5D%2C%20%5B33.616%2C%20-117.966%2C%20120.0%5D%2C%20%5B36.759%2C%2027.299%2C%20181.0%5D%2C%20%5B12.77%2C%20124.05%2C%209.0%5D%2C%20%5B26.773%2C%2086.76%2C%2010600.0%5D%2C%20%5B62.27%2C%207.4%2C%2041.0%5D%2C%20%5B40.62%2C%2027.451%2C%205.0%5D%2C%20%5B29.5%2C%2066.8%2C%2060000.0%5D%2C%20%5B28.7%2C%20103.6%2C%20100.0%5D%2C%20%5B-24.5%2C%20-70.0%2C%201.0%5D%2C%20%5B6.1%2C%2094.7%2C%209.0%5D%2C%20%5B61.87%2C%206.851%2C%2073.0%5D%2C%20%5B-4.271%2C%20152.203%2C%20507.0%5D%2C%20%5B14.5%2C%20121.5%2C%201.0%5D%2C%20%5B-1.0%2C%20120.0%2C%2017.0%5D%2C%20%5B43.6%2C%20144.3%2C%201.0%5D%2C%20%5B37.1%2C%20141.7%2C%201.0%5D%2C%20%5B-36.25%2C%20-72.25%2C%2030000.0%5D%2C%20%5B-7.08%2C%20155.386%2C%205.0%5D%2C%20%5B32.3%2C%20132.0%2C%201.0%5D%2C%20%5B-9.295%2C%20159.234%2C%2012.0%5D%2C%20%5B40.1%2C%20139.5%2C%2027.0%5D%2C%20%5B5.568%2C%20-0.625%2C%2022.0%5D%2C%20%5B39.77%2C%2039.533%2C%2032700.0%5D%2C%20%5B-10.5%2C%20-77.0%2C%20179.0%5D%2C%20%5B44.2%2C%20139.5%2C%2010.0%5D%2C%20%5B-4.175%2C%20152.071%2C%204.0%5D%2C%20%5B32.0%2C%20132.1%2C%202.0%5D%2C%20%5B8.7%2C%20-83.2%2C%206.0%5D%2C%20%5B-15.0%2C%20-76.0%2C%2030.0%5D%2C%20%5B-30.75%2C%20-72.0%2C%2011.0%5D%2C%20%5B39.509%2C%2026.587%2C%2030.0%5D%2C%20%5B34.0%2C%20137.1%2C%201223.0%5D%2C%20%5B34.7%2C%20137.2%2C%202306.0%5D%2C%20%5B40.9%2C%20142.1%2C%202.0%5D%2C%20%5B24.5%2C%2063.0%2C%204000.0%5D%2C%20%5B53.492%2C%20-162.832%2C%20168.0%5D%2C%20%5B-26.5%2C%20-70.5%2C%202.0%5D%2C%20%5B19.25%2C%20-69.0%2C%201790.0%5D%2C%20%5B19.5%2C%20-69.5%2C%2075.0%5D%2C%20%5B33.0%2C%20135.6%2C%201362.0%5D%2C%20%5B37.0%2C%2022.0%2C%203.0%5D%2C%20%5B10.5%2C%20122.0%2C%2074.0%5D%2C%20%5B38.532%2C%2020.427%2C%202.0%5D%2C%20%5B22.0%2C%20-106.0%2C%204.0%5D%2C%20%5B47.167%2C%20-122.617%2C%208.0%5D%2C%20%5B38.718%2C%2026.482%2C%207.0%5D%2C%20%5B-54.0%2C%20-71.0%2C%201.0%5D%2C%20%5B-54.0%2C%20-71.0%2C%203.0%5D%2C%20%5B17.0%2C%20121.63%2C%2016.0%5D%2C%20%5B9.71%2C%20-69.819%2C%20100.0%5D%2C%20%5B28.5%2C%2096.5%2C%201530.0%5D%2C%20%5B-3.8%2C%20128.3%2C%201.0%5D%2C%20%5B-14.25%2C%20-77.75%2C%204.0%5D%2C%20%5B23.8%2C%20121.7%2C%2068.0%5D%2C%20%5B42.15%2C%20143.85%2C%2033.0%5D%2C%20%5B32.1%2C%20139.85%2C%2031.0%5D%2C%20%5B52.755%2C%20160.057%2C%2010000.0%5D%2C%20%5B70.3%2C%20-53.0%2C%201.0%5D%2C%20%5B-36.5%2C%20-72.5%2C%209.0%5D%2C%20%5B38.3%2C%2020.8%2C%20476.0%5D%2C%20%5B34.741%2C%2032.335%2C%2040.0%5D%2C%20%5B-18.3%2C%20178.2%2C%207.0%5D%2C%20%5B-41.0%2C%20147.4%2C%201.0%5D%2C%20%5B34.0%2C%20141.7%2C%201.0%5D%2C%20%5B-3.4%2C%20-80.6%2C%206.0%5D%2C%20%5B41.7%2C%20-86.883%2C%207.0%5D%2C%20%5B36.283%2C%201.467%2C%201243.0%5D%2C%20%5B39.4%2C%2023.1%2C%208.0%5D%2C%20%5B-30.0%2C%20-72.0%2C%201.0%5D%2C%20%5B36.664%2C%2025.957%2C%2056.0%5D%2C%20%5B51.292%2C%20-175.629%2C%202.0%5D%2C%20%5B16.5%2C%20-99.1%2C%2065.0%5D%2C%20%5B1.5%2C%20-79.5%2C%20115.0%5D%2C%20%5B58.37%2C%20-136.665%2C%205.0%5D%2C%20%5B69.817%2C%2020.917%2C%209.0%5D%2C%20%5B44.712%2C%20-111.215%2C%2028.0%5D%2C%20%5B30.5%2C%20-9.5%2C%2013100.0%5D%2C%20%5B-38.143%2C%20-73.407%2C%202226.0%5D%2C%20%5B-6.8%2C%20-80.7%2C%2066.0%5D%2C%20%5B31.6%2C%20131.8%2C%202.0%5D%2C%20%5B17.2%2C%20-99.6%2C%204.0%5D%2C%20%5B17.2%2C%20-99.5%2C%203.0%5D%2C%20%5B38.31%2C%2022.02%2C%202.0%5D%2C%20%5B24.4%2C%20122.1%2C%2015.0%5D%2C%20%5B54.0%2C%20-132.25%2C%201.0%5D%2C%20%5B-8.342%2C%20115.508%2C%201028.0%5D%2C%20%5B40.698%2C%2029.159%2C%201.0%5D%2C%20%5B-10.385%2C%20-78.022%2C%201.0%5D%2C%20%5B46.267%2C%2012.329%2C%202000.0%5D%2C%20%5B61.017%2C%20-147.648%2C%20139.0%5D%2C%20%5B38.65%2C%20139.2%2C%2026.0%5D%2C%20%5B-2.4%2C%20126.1%2C%2071.0%5D%2C%20%5B-41.755%2C%20-72.396%2C%2027.0%5D%2C%20%5B39.4%2C%2024.0%2C%2038.0%5D%2C%20%5B38.267%2C%2022.3%2C%202.0%5D%2C%20%5B16.3%2C%20-95.8%2C%206.0%5D%2C%20%5B14.002%2C%20120.993%2C%20355.0%5D%2C%20%5B24.1%2C%20122.6%2C%207.0%5D%2C%20%5B-10.748%2C%20-78.638%2C%20110.0%5D%2C%20%5B-25.5%2C%20-70.7%2C%203.0%5D%2C%20%5B-3.7%2C%20119.3%2C%2071.0%5D%2C%20%5B5.5%2C%2097.3%2C%2014.0%5D%2C%20%5B10.559%2C%20-67.33%2C%20300.0%5D%2C%20%5B-21.7%2C%20-69.5%2C%201.0%5D%2C%20%5B39.368%2C%2024.957%2C%2020.0%5D%2C%20%5B32.3%2C%20132.5%2C%201.0%5D%2C%20%5B40.8%2C%20143.2%2C%2052.0%5D%2C%20%5B16.5%2C%20122.2%2C%20270.0%5D%2C%20%5B0.2%2C%20119.8%2C%20200.0%5D%2C%20%5B41.8%2C%2032.3%2C%2024.0%5D%2C%20%5B10.697%2C%20-62.748%2C%203.0%5D%2C%20%5B15.6%2C%20-92.6%2C%2015.0%5D%2C%20%5B-3.1%2C%20118.9%2C%20664.0%5D%2C%20%5B36.017%2C%20-10.95%2C%2025.0%5D%2C%20%5B19.077%2C%20122.202%2C%203.0%5D%2C%20%5B27.7%2C%2034.0%2C%202.0%5D%2C%20%5B38.2%2C%20119.4%2C%2010.0%5D%2C%20%5B15.78%2C%20121.71%2C%2015.0%5D%2C%20%5B-9.2%2C%20-78.8%2C%2066794.0%5D%2C%20%5B-4.907%2C%20145.471%2C%2018.0%5D%2C%20%5B-11.116%2C%20-76.5%2C%20600.0%5D%2C%20%5B-32.5%2C%20-71.2%2C%2083.0%5D%2C%20%5B-5.5%2C%20153.9%2C%203.0%5D%2C%20%5B22.5%2C%20122.3%2C%201.0%5D%2C%20%5B18.48%2C%20-103.0%2C%2056.0%5D%2C%20%5B13.4%2C%20122.8%2C%2015.0%5D%2C%20%5B-8.54%2C%20123.59%2C%202.0%5D%2C%20%5B34.6%2C%20138.7%2C%2030.0%5D%2C%20%5B-12.27%2C%20-77.79%2C%2078.0%5D%2C%20%5B35.1%2C%2072.9%2C%205300.0%5D%2C%20%5B-29.9%2C%20-71.3%2C%202.0%5D%2C%20%5B12.54%2C%20125.993%2C%201.0%5D%2C%20%5B19.451%2C%20-155.033%2C%202.0%5D%2C%20%5B15.324%2C%20-89.101%2C%2023000.0%5D%2C%20%5B7.4%2C%20-78.1%2C%205.0%5D%2C%20%5B6.292%2C%20124.09%2C%208000.0%5D%2C%20%5B-9.828%2C%20163.323%2C%2034.0%5D%2C%20%5B-9.965%2C%20160.731%2C%2018.0%5D%2C%20%5B-22.878%2C%20-175.9%2C%201.0%5D%2C%20%5B-11.085%2C%20118.464%2C%20189.0%5D%2C%20%5B34.809%2C%20139.259%2C%2025.0%5D%2C%20%5B38.19%2C%20142.03%2C%2028.0%5D%2C%20%5B40.739%2C%2023.229%2C%2050.0%5D%2C%20%5B16.01%2C%20-96.591%2C%209.0%5D%2C%20%5B17.813%2C%20-101.276%2C%205.0%5D%2C%20%5B42.096%2C%2019.209%2C%20131.0%5D%2C%20%5B-8.6%2C%20123.5%2C%201239.0%5D%2C%20%5B-1.679%2C%20136.04%2C%20115.0%5D%2C%20%5B43.7%2C%207.25%2C%209.0%5D%2C%20%5B1.598%2C%20-79.358%2C%20600.0%5D%2C%20%5B38.727%2C%20-27.75%2C%2069.0%5D%2C%20%5B46.2%2C%20-122.18%2C%2061.0%5D%2C%20%5B36.195%2C%201.354%2C%205000.0%5D%2C%20%5B38.222%2C%2022.934%2C%2022.0%5D%2C%20%5B18.084%2C%20-102.084%2C%203.0%5D%2C%20%5B42.158%2C%20142.361%2C%20110.0%5D%2C%20%5B-8.405%2C%20123.08%2C%2013.0%5D%2C%20%5B40.462%2C%20139.102%2C%20104.0%5D%2C%20%5B18.231%2C%20120.86%2C%2016.0%5D%2C%20%5B-26.535%2C%20-70.563%2C%205.0%5D%2C%20%5B-2.823%2C%20118.806%2C%202.0%5D%2C%20%5B6.25%2C%2010.5%2C%2037.0%5D%2C%20%5B-33.132%2C%20-71.708%2C%20180.0%5D%2C%20%5B18.19%2C%20-102.533%2C%209500.0%5D%2C%20%5B6.25%2C%2010.5%2C%201700.0%5D%2C%20%5B23.901%2C%20121.574%2C%2015.0%5D%2C%20%5B-6.088%2C%20147.689%2C%203.0%5D%2C%20%5B-24.388%2C%20-70.161%2C%201.0%5D%2C%20%5B32.034%2C%20131.837%2C%202.0%5D%2C%20%5B25.149%2C%2095.127%2C%205.0%5D%2C%20%5B-10.258%2C%20160.896%2C%201.0%5D%2C%20%5B26.755%2C%2086.616%2C%20998.0%5D%2C%20%5B37.036%2C%20-121.883%2C%2062.0%5D%2C%20%5B36.788%2C%202.448%2C%2030.0%5D%2C%20%5B36.957%2C%2049.409%2C%2040000.0%5D%2C%20%5B37.3%2C%2015.438%2C%2019.0%5D%2C%20%5B9.685%2C%20-83.073%2C%2090.0%5D%2C%20%5B11.727%2C%20-87.386%2C%20170.0%5D%2C%20%5B-8.48%2C%20121.896%2C%202500.0%5D%2C%20%5B-14.385%2C%20-178.252%2C%205.0%5D%2C%20%5B42.851%2C%20139.197%2C%20231.0%5D%2C%20%5B34.213%2C%20-118.537%2C%2060.0%5D%2C%20%5B1.015%2C%20127.733%2C%209.0%5D%2C%20%5B-10.477%2C%20112.835%2C%20238.0%5D%2C%20%5B22.528%2C%20118.711%2C%201.0%5D%2C%20%5B-4.238%2C%20152.214%2C%204.0%5D%2C%20%5B43.773%2C%20147.321%2C%2011.0%5D%2C%20%5B-1.258%2C%20127.98%2C%201.0%5D%2C%20%5B59.5%2C%20-135.3%2C%201.0%5D%2C%20%5B13.525%2C%20121.067%2C%2081.0%5D%2C%20%5B40.525%2C%20143.419%2C%203.0%5D%2C%20%5B34.583%2C%20135.018%2C%205502.0%5D%2C%20%5B-8.452%2C%20125.049%2C%2011.0%5D%2C%20%5B52.629%2C%20142.827%2C%201989.0%5D%2C%20%5B38.401%2C%2022.283%2C%2026.0%5D%2C%20%5B-23.34%2C%20-70.294%2C%203.0%5D%2C%20%5B16.779%2C%20-98.597%2C%203.0%5D%2C%20%5B19.055%2C%20-104.205%2C%2050.0%5D%2C%20%5B28.826%2C%2034.799%2C%2011.0%5D%2C%20%5B0.729%2C%20119.931%2C%209.0%5D%2C%20%5B-0.891%2C%20136.952%2C%20164.0%5D%2C%20%5B-9.593%2C%20-79.587%2C%2012.0%5D%2C%20%5B-14.993%2C%20-75.675%2C%2014.0%5D%2C%20%5B10.598%2C%20-63.486%2C%2081.0%5D%2C%20%5B-2.943%2C%20142.582%2C%201636.0%5D%2C%20%5B-2.071%2C%20124.891%2C%2041.0%5D%2C%20%5B40.76%2C%2029.97%2C%2017118.0%5D%2C%20%5B-16.423%2C%20168.214%2C%2010.0%5D%2C%20%5B-1.105%2C%20123.573%2C%2046.0%5D%2C%20%5B34.221%2C%20139.131%2C%201.0%5D%2C%20%5B-4.001%2C%20152.327%2C%202.0%5D%2C%20%5B13.049%2C%20-88.66%2C%20844.0%5D%2C%20%5B-16.265%2C%20-73.641%2C%20103.0%5D%2C%20%5B6.033%2C%20124.249%2C%2015.0%5D%2C%20%5B24.279%2C%20122.179%2C%205.0%5D%2C%20%5B-3.26%2C%20142.94%2C%204.0%5D%2C%20%5B13.036%2C%2093.068%2C%202.0%5D%2C%20%5B-1.757%2C%20134.297%2C%208.0%5D%2C%20%5B18.77%2C%20-104.104%2C%2029.0%5D%2C%20%5B36.964%2C%203.634%2C%202287.0%5D%2C%20%5B36.939%2C%203.578%2C%209.0%5D%2C%20%5B41.815%2C%20143.91%2C%202.0%5D%2C%20%5B-8.152%2C%20124.868%2C%2034.0%5D%2C%20%5B15.679%2C%20-61.706%2C%201.0%5D%2C%20%5B3.316%2C%2095.854%2C%20227899.0%5D%2C%20%5B2.085%2C%2097.108%2C%201313.0%5D%2C%20%5B-3.595%2C%20127.214%2C%204.0%5D%2C%20%5B-9.254%2C%20107.411%2C%20802.0%5D%2C%20%5B21.799%2C%20120.547%2C%202.0%5D%2C%20%5B37.336%2C%20136.588%2C%201.0%5D%2C%20%5B-8.46%2C%20157.044%2C%2052.0%5D%2C%20%5B-45.285%2C%20-72.606%2C%2010.0%5D%2C%20%5B30.394%2C%20110.16%2C%208.0%5D%2C%20%5B37.57%2C%20138.478%2C%209.0%5D%2C%20%5B47.116%2C%20141.798%2C%202.0%5D%2C%20%5B-13.386%2C%20-76.603%2C%20514.0%5D%2C%20%5B-4.438%2C%20101.367%2C%2025.0%5D%2C%20%5B-22.247%2C%20-69.89%2C%202.0%5D%2C%20%5B31.002%2C%20103.322%2C%2087652.0%5D%2C%20%5B41.892%2C%20143.754%2C%206.0%5D%2C%20%5B1.271%2C%20122.091%2C%206.0%5D%2C%20%5B-0.414%2C%20132.885%2C%205.0%5D%2C%20%5B16.72%2C%20-86.236%2C%207.0%5D%2C%20%5B34.743%2C%20138.264%2C%201.0%5D%2C%20%5B-7.782%2C%20107.297%2C%2081.0%5D%2C%20%5B-15.489%2C%20-172.095%2C%20192.0%5D%2C%20%5B-0.72%2C%2099.867%2C%201117.0%5D%2C%20%5B18.457%2C%20-72.533%2C%20316000.0%5D%2C%20%5B-36.122%2C%20-72.898%2C%20558.0%5D%2C%20%5B-9.282%2C%20-77.645%2C%201.0%5D%2C%20%5B-3.487%2C%20100.082%2C%20431.0%5D%2C%20%5B-43.583%2C%20172.68%2C%20185.0%5D%2C%20%5B38.297%2C%20142.372%2C%2018429.0%5D%2C%20%5B38.276%2C%20141.588%2C%203.0%5D%2C%20%5B16.493%2C%20-98.231%2C%202.0%5D%2C%20%5B2.327%2C%2093.063%2C%2010.0%5D%2C%20%5B10.811%2C%20126.638%2C%201.0%5D%2C%20%5B10.085%2C%20-85.315%2C%202.0%5D%2C%20%5B52.788%2C%20-132.101%2C%201.0%5D%2C%20%5B13.988%2C%20-91.895%2C%2048.0%5D%2C%20%5B-10.766%2C%20165.114%2C%2010.0%5D%2C%20%5B25.18%2C%2062.26%2C%20825.0%5D%2C%20%5B-19.61%2C%20-70.769%2C%207.0%5D%2C%20%5B40.24%2C%2025.33%2C%203.0%5D%2C%20%5B12.526%2C%20-88.123%2C%201.0%5D%2C%20%5B31.077%2C%20109.896%2C%202.0%5D%2C%20%5B-31.573%2C%20-71.674%2C%2015.0%5D%2C%20%5B38.67%2C%2020.6%2C%202.0%5D%2C%20%5B35.649%2C%20-3.682%2C%201.0%5D%2C%20%5B0.35%2C%20-80.16%2C%20663.0%5D%2C%20%5B-42.737%2C%20173.054%2C%202.0%5D%2C%20%5B-10.681%2C%20161.327%2C%201.0%5D%2C%20%5B-6.246%2C%20155.172%2C%203.0%5D%2C%20%5B27.835%2C%2051.94%2C%205.0%5D%2C%20%5B38.93%2C%2026.365%2C%201.0%5D%2C%20%5B71.813%2C%20-52.569%2C%204.0%5D%2C%20%5B36.929%2C%2027.414%2C%202.0%5D%2C%20%5B14.761%2C%20-94.103%2C%2098.0%5D%2C%20%5B15.317%2C%20108.249%2C%201.0%5D%2C%20%5B-8.24%2C%20116.508%2C%2017.0%5D%2C%20%5B-8.258%2C%20116.438%2C%20560.0%5D%2C%20%5B-8.337%2C%20116.599%2C%202.0%5D%2C%20%5B10.773%2C%20-62.902%2C%205.0%5D%2C%20%5B-0.256%2C%20119.846%2C%204340.0%5D%2C%20%5B-6.102%2C%20105.423%2C%20437.0%5D%2C%20%5B1.6%2C%20126.416%2C%201.0%5D%2C%20%5B17.916%2C%20-66.813%2C%204.0%5D%2C%20%5B-8.058%2C%20114.242%2C%201.0%5D%2C%20%5B16.029%2C%20-95.901%2C%2010.0%5D%2C%20%5B37.918%2C%2026.79%2C%20118.0%5D%2C%20%5B6.455%2C%20126.742%2C%201.0%5D%2C%20%5B18.408%2C%20-73.475%2C%202248.0%5D%2C%20%5B16.982%2C%20-99.773%2C%203.0%5D%5D%2C%0A%20%20%20%20%20%20%20%20%20%20%20%20%20%20%20%20%7B%22blur%22%3A%2010%2C%20%22maxZoom%22%3A%2018%2C%20%22minOpacity%22%3A%201%2C%20%22radius%22%3A%2010%7D%0A%20%20%20%20%20%20%20%20%20%20%20%20%29.addTo%28map_1c2d8ca43ce4414597744073557b9d7e%29%3B%0A%20%20%20%20%20%20%20%20%0A%3C/script%3E onload=\"this.contentDocument.open();this.contentDocument.write(    decodeURIComponent(this.getAttribute('data-html')));this.contentDocument.close();\" allowfullscreen webkitallowfullscreen mozallowfullscreen></iframe></div></div>"
      ],
      "text/plain": [
       "<folium.folium.Map at 0x14a06234820>"
      ]
     },
     "execution_count": 39,
     "metadata": {},
     "output_type": "execute_result"
    }
   ],
   "source": [
    "folium_hmap.add_child(HeatMap(list_of_my_zip,\n",
    "                              min_opacity=1,\n",
    "                              radius = 10,\n",
    "                              blur = 10))"
   ]
  },
  {
   "cell_type": "markdown",
   "metadata": {},
   "source": [
    "## Correlations ##"
   ]
  },
  {
   "cell_type": "code",
   "execution_count": 40,
   "metadata": {},
   "outputs": [
    {
     "data": {
      "text/html": [
       "<div>\n",
       "<style scoped>\n",
       "    .dataframe tbody tr th:only-of-type {\n",
       "        vertical-align: middle;\n",
       "    }\n",
       "\n",
       "    .dataframe tbody tr th {\n",
       "        vertical-align: top;\n",
       "    }\n",
       "\n",
       "    .dataframe thead th {\n",
       "        text-align: right;\n",
       "    }\n",
       "</style>\n",
       "<table border=\"1\" class=\"dataframe\">\n",
       "  <thead>\n",
       "    <tr style=\"text-align: right;\">\n",
       "      <th></th>\n",
       "      <th>Earthquake Magnitude</th>\n",
       "      <th>Tsunami Intensity</th>\n",
       "      <th>Total Deaths</th>\n",
       "      <th>Maximum Water Height (m)</th>\n",
       "      <th>Tsunami Magnitude (Iida)</th>\n",
       "      <th>Total Missing</th>\n",
       "      <th>Total Injuries</th>\n",
       "      <th>Total Damage ($Mil)</th>\n",
       "      <th>Total Houses Destroyed</th>\n",
       "      <th>Total Houses Damaged</th>\n",
       "      <th>Earthquake Mayor/Great</th>\n",
       "    </tr>\n",
       "  </thead>\n",
       "  <tbody>\n",
       "    <tr>\n",
       "      <th>Earthquake Magnitude</th>\n",
       "      <td>1.000000</td>\n",
       "      <td>0.164317</td>\n",
       "      <td>0.106148</td>\n",
       "      <td>0.142619</td>\n",
       "      <td>0.377296</td>\n",
       "      <td>0.120641</td>\n",
       "      <td>0.065445</td>\n",
       "      <td>0.154152</td>\n",
       "      <td>0.088886</td>\n",
       "      <td>0.389748</td>\n",
       "      <td>0.777869</td>\n",
       "    </tr>\n",
       "    <tr>\n",
       "      <th>Tsunami Intensity</th>\n",
       "      <td>0.164317</td>\n",
       "      <td>1.000000</td>\n",
       "      <td>0.149765</td>\n",
       "      <td>0.254667</td>\n",
       "      <td>0.876318</td>\n",
       "      <td>0.486530</td>\n",
       "      <td>0.115912</td>\n",
       "      <td>-0.393702</td>\n",
       "      <td>0.074430</td>\n",
       "      <td>-0.031075</td>\n",
       "      <td>0.012606</td>\n",
       "    </tr>\n",
       "    <tr>\n",
       "      <th>Total Deaths</th>\n",
       "      <td>0.106148</td>\n",
       "      <td>0.149765</td>\n",
       "      <td>1.000000</td>\n",
       "      <td>0.031011</td>\n",
       "      <td>0.128100</td>\n",
       "      <td>0.999839</td>\n",
       "      <td>0.769643</td>\n",
       "      <td>0.106251</td>\n",
       "      <td>0.299189</td>\n",
       "      <td>0.270261</td>\n",
       "      <td>0.035511</td>\n",
       "    </tr>\n",
       "    <tr>\n",
       "      <th>Maximum Water Height (m)</th>\n",
       "      <td>0.142619</td>\n",
       "      <td>0.254667</td>\n",
       "      <td>0.031011</td>\n",
       "      <td>1.000000</td>\n",
       "      <td>0.302138</td>\n",
       "      <td>-0.085121</td>\n",
       "      <td>0.021245</td>\n",
       "      <td>0.034028</td>\n",
       "      <td>0.047185</td>\n",
       "      <td>0.247039</td>\n",
       "      <td>-0.017930</td>\n",
       "    </tr>\n",
       "    <tr>\n",
       "      <th>Tsunami Magnitude (Iida)</th>\n",
       "      <td>0.377296</td>\n",
       "      <td>0.876318</td>\n",
       "      <td>0.128100</td>\n",
       "      <td>0.302138</td>\n",
       "      <td>1.000000</td>\n",
       "      <td>-0.155133</td>\n",
       "      <td>0.019523</td>\n",
       "      <td>-0.296394</td>\n",
       "      <td>0.081605</td>\n",
       "      <td>-0.022351</td>\n",
       "      <td>0.143069</td>\n",
       "    </tr>\n",
       "    <tr>\n",
       "      <th>Total Missing</th>\n",
       "      <td>0.120641</td>\n",
       "      <td>0.486530</td>\n",
       "      <td>0.999839</td>\n",
       "      <td>-0.085121</td>\n",
       "      <td>-0.155133</td>\n",
       "      <td>1.000000</td>\n",
       "      <td>0.788468</td>\n",
       "      <td>-0.236856</td>\n",
       "      <td>0.997508</td>\n",
       "      <td>0.786731</td>\n",
       "      <td>0.189080</td>\n",
       "    </tr>\n",
       "    <tr>\n",
       "      <th>Total Injuries</th>\n",
       "      <td>0.065445</td>\n",
       "      <td>0.115912</td>\n",
       "      <td>0.769643</td>\n",
       "      <td>0.021245</td>\n",
       "      <td>0.019523</td>\n",
       "      <td>0.788468</td>\n",
       "      <td>1.000000</td>\n",
       "      <td>0.267049</td>\n",
       "      <td>0.761761</td>\n",
       "      <td>0.285936</td>\n",
       "      <td>0.041342</td>\n",
       "    </tr>\n",
       "    <tr>\n",
       "      <th>Total Damage ($Mil)</th>\n",
       "      <td>0.154152</td>\n",
       "      <td>-0.393702</td>\n",
       "      <td>0.106251</td>\n",
       "      <td>0.034028</td>\n",
       "      <td>-0.296394</td>\n",
       "      <td>-0.236856</td>\n",
       "      <td>0.267049</td>\n",
       "      <td>1.000000</td>\n",
       "      <td>0.332118</td>\n",
       "      <td>0.468655</td>\n",
       "      <td>0.016019</td>\n",
       "    </tr>\n",
       "    <tr>\n",
       "      <th>Total Houses Destroyed</th>\n",
       "      <td>0.088886</td>\n",
       "      <td>0.074430</td>\n",
       "      <td>0.299189</td>\n",
       "      <td>0.047185</td>\n",
       "      <td>0.081605</td>\n",
       "      <td>0.997508</td>\n",
       "      <td>0.761761</td>\n",
       "      <td>0.332118</td>\n",
       "      <td>1.000000</td>\n",
       "      <td>0.895153</td>\n",
       "      <td>0.078974</td>\n",
       "    </tr>\n",
       "    <tr>\n",
       "      <th>Total Houses Damaged</th>\n",
       "      <td>0.389748</td>\n",
       "      <td>-0.031075</td>\n",
       "      <td>0.270261</td>\n",
       "      <td>0.247039</td>\n",
       "      <td>-0.022351</td>\n",
       "      <td>0.786731</td>\n",
       "      <td>0.285936</td>\n",
       "      <td>0.468655</td>\n",
       "      <td>0.895153</td>\n",
       "      <td>1.000000</td>\n",
       "      <td>0.125294</td>\n",
       "    </tr>\n",
       "    <tr>\n",
       "      <th>Earthquake Mayor/Great</th>\n",
       "      <td>0.777869</td>\n",
       "      <td>0.012606</td>\n",
       "      <td>0.035511</td>\n",
       "      <td>-0.017930</td>\n",
       "      <td>0.143069</td>\n",
       "      <td>0.189080</td>\n",
       "      <td>0.041342</td>\n",
       "      <td>0.016019</td>\n",
       "      <td>0.078974</td>\n",
       "      <td>0.125294</td>\n",
       "      <td>1.000000</td>\n",
       "    </tr>\n",
       "  </tbody>\n",
       "</table>\n",
       "</div>"
      ],
      "text/plain": [
       "                          Earthquake Magnitude  Tsunami Intensity  \\\n",
       "Earthquake Magnitude                  1.000000           0.164317   \n",
       "Tsunami Intensity                     0.164317           1.000000   \n",
       "Total Deaths                          0.106148           0.149765   \n",
       "Maximum Water Height (m)              0.142619           0.254667   \n",
       "Tsunami Magnitude (Iida)              0.377296           0.876318   \n",
       "Total Missing                         0.120641           0.486530   \n",
       "Total Injuries                        0.065445           0.115912   \n",
       "Total Damage ($Mil)                   0.154152          -0.393702   \n",
       "Total Houses Destroyed                0.088886           0.074430   \n",
       "Total Houses Damaged                  0.389748          -0.031075   \n",
       "Earthquake Mayor/Great                0.777869           0.012606   \n",
       "\n",
       "                          Total Deaths  Maximum Water Height (m)  \\\n",
       "Earthquake Magnitude          0.106148                  0.142619   \n",
       "Tsunami Intensity             0.149765                  0.254667   \n",
       "Total Deaths                  1.000000                  0.031011   \n",
       "Maximum Water Height (m)      0.031011                  1.000000   \n",
       "Tsunami Magnitude (Iida)      0.128100                  0.302138   \n",
       "Total Missing                 0.999839                 -0.085121   \n",
       "Total Injuries                0.769643                  0.021245   \n",
       "Total Damage ($Mil)           0.106251                  0.034028   \n",
       "Total Houses Destroyed        0.299189                  0.047185   \n",
       "Total Houses Damaged          0.270261                  0.247039   \n",
       "Earthquake Mayor/Great        0.035511                 -0.017930   \n",
       "\n",
       "                          Tsunami Magnitude (Iida)  Total Missing  \\\n",
       "Earthquake Magnitude                      0.377296       0.120641   \n",
       "Tsunami Intensity                         0.876318       0.486530   \n",
       "Total Deaths                              0.128100       0.999839   \n",
       "Maximum Water Height (m)                  0.302138      -0.085121   \n",
       "Tsunami Magnitude (Iida)                  1.000000      -0.155133   \n",
       "Total Missing                            -0.155133       1.000000   \n",
       "Total Injuries                            0.019523       0.788468   \n",
       "Total Damage ($Mil)                      -0.296394      -0.236856   \n",
       "Total Houses Destroyed                    0.081605       0.997508   \n",
       "Total Houses Damaged                     -0.022351       0.786731   \n",
       "Earthquake Mayor/Great                    0.143069       0.189080   \n",
       "\n",
       "                          Total Injuries  Total Damage ($Mil)  \\\n",
       "Earthquake Magnitude            0.065445             0.154152   \n",
       "Tsunami Intensity               0.115912            -0.393702   \n",
       "Total Deaths                    0.769643             0.106251   \n",
       "Maximum Water Height (m)        0.021245             0.034028   \n",
       "Tsunami Magnitude (Iida)        0.019523            -0.296394   \n",
       "Total Missing                   0.788468            -0.236856   \n",
       "Total Injuries                  1.000000             0.267049   \n",
       "Total Damage ($Mil)             0.267049             1.000000   \n",
       "Total Houses Destroyed          0.761761             0.332118   \n",
       "Total Houses Damaged            0.285936             0.468655   \n",
       "Earthquake Mayor/Great          0.041342             0.016019   \n",
       "\n",
       "                          Total Houses Destroyed  Total Houses Damaged  \\\n",
       "Earthquake Magnitude                    0.088886              0.389748   \n",
       "Tsunami Intensity                       0.074430             -0.031075   \n",
       "Total Deaths                            0.299189              0.270261   \n",
       "Maximum Water Height (m)                0.047185              0.247039   \n",
       "Tsunami Magnitude (Iida)                0.081605             -0.022351   \n",
       "Total Missing                           0.997508              0.786731   \n",
       "Total Injuries                          0.761761              0.285936   \n",
       "Total Damage ($Mil)                     0.332118              0.468655   \n",
       "Total Houses Destroyed                  1.000000              0.895153   \n",
       "Total Houses Damaged                    0.895153              1.000000   \n",
       "Earthquake Mayor/Great                  0.078974              0.125294   \n",
       "\n",
       "                          Earthquake Mayor/Great  \n",
       "Earthquake Magnitude                    0.777869  \n",
       "Tsunami Intensity                       0.012606  \n",
       "Total Deaths                            0.035511  \n",
       "Maximum Water Height (m)               -0.017930  \n",
       "Tsunami Magnitude (Iida)                0.143069  \n",
       "Total Missing                           0.189080  \n",
       "Total Injuries                          0.041342  \n",
       "Total Damage ($Mil)                     0.016019  \n",
       "Total Houses Destroyed                  0.078974  \n",
       "Total Houses Damaged                    0.125294  \n",
       "Earthquake Mayor/Great                  1.000000  "
      ]
     },
     "execution_count": 40,
     "metadata": {},
     "output_type": "execute_result"
    }
   ],
   "source": [
    "tsunamis[['Earthquake Magnitude','Tsunami Intensity','Total Deaths','Maximum Water Height (m)','Tsunami Magnitude (Iida)','Total Missing','Total Injuries','Total Damage ($Mil)','Total Houses Destroyed','Total Houses Damaged','Earthquake Mayor/Great']].corr()"
   ]
  },
  {
   "cell_type": "markdown",
   "metadata": {},
   "source": [
    "## Clasification"
   ]
  },
  {
   "cell_type": "code",
   "execution_count": 41,
   "metadata": {},
   "outputs": [],
   "source": [
    "temp2 = tsunamis.dropna(subset=['Tsunami Magnitude (Iida)','Total Deaths','Earthquake Magnitude'])"
   ]
  },
  {
   "cell_type": "code",
   "execution_count": 42,
   "metadata": {},
   "outputs": [],
   "source": [
    "y=temp2['Earthquake Mayor/Great']\n",
    "x=temp2[['Tsunami Magnitude (Iida)','Total Deaths','Earthquake Magnitude']]"
   ]
  },
  {
   "cell_type": "code",
   "execution_count": 43,
   "metadata": {},
   "outputs": [],
   "source": [
    "#split the data in order to test it (in this case train it in 60% and test it on 40%):\n",
    "\n",
    "from sklearn.model_selection import train_test_split\n",
    "X_train, X_test, y_train, y_test = train_test_split(x,y, test_size=0.4)"
   ]
  },
  {
   "cell_type": "code",
   "execution_count": 44,
   "metadata": {},
   "outputs": [
    {
     "data": {
      "text/html": [
       "<div>\n",
       "<style scoped>\n",
       "    .dataframe tbody tr th:only-of-type {\n",
       "        vertical-align: middle;\n",
       "    }\n",
       "\n",
       "    .dataframe tbody tr th {\n",
       "        vertical-align: top;\n",
       "    }\n",
       "\n",
       "    .dataframe thead th {\n",
       "        text-align: right;\n",
       "    }\n",
       "</style>\n",
       "<table border=\"1\" class=\"dataframe\">\n",
       "  <thead>\n",
       "    <tr style=\"text-align: right;\">\n",
       "      <th></th>\n",
       "      <th>Tsunami Magnitude (Iida)</th>\n",
       "      <th>Total Deaths</th>\n",
       "      <th>Earthquake Magnitude</th>\n",
       "    </tr>\n",
       "  </thead>\n",
       "  <tbody>\n",
       "    <tr>\n",
       "      <th>844</th>\n",
       "      <td>1.00</td>\n",
       "      <td>1000.0</td>\n",
       "      <td>8.8</td>\n",
       "    </tr>\n",
       "    <tr>\n",
       "      <th>1877</th>\n",
       "      <td>0.58</td>\n",
       "      <td>4.0</td>\n",
       "      <td>7.6</td>\n",
       "    </tr>\n",
       "    <tr>\n",
       "      <th>833</th>\n",
       "      <td>-1.00</td>\n",
       "      <td>57.0</td>\n",
       "      <td>7.0</td>\n",
       "    </tr>\n",
       "    <tr>\n",
       "      <th>1282</th>\n",
       "      <td>-1.30</td>\n",
       "      <td>2.0</td>\n",
       "      <td>7.3</td>\n",
       "    </tr>\n",
       "    <tr>\n",
       "      <th>1462</th>\n",
       "      <td>-2.30</td>\n",
       "      <td>15.0</td>\n",
       "      <td>7.3</td>\n",
       "    </tr>\n",
       "    <tr>\n",
       "      <th>...</th>\n",
       "      <td>...</td>\n",
       "      <td>...</td>\n",
       "      <td>...</td>\n",
       "    </tr>\n",
       "    <tr>\n",
       "      <th>762</th>\n",
       "      <td>3.60</td>\n",
       "      <td>2460.0</td>\n",
       "      <td>7.8</td>\n",
       "    </tr>\n",
       "    <tr>\n",
       "      <th>1797</th>\n",
       "      <td>1.60</td>\n",
       "      <td>1.0</td>\n",
       "      <td>6.8</td>\n",
       "    </tr>\n",
       "    <tr>\n",
       "      <th>1474</th>\n",
       "      <td>6.10</td>\n",
       "      <td>139.0</td>\n",
       "      <td>9.2</td>\n",
       "    </tr>\n",
       "    <tr>\n",
       "      <th>1879</th>\n",
       "      <td>2.32</td>\n",
       "      <td>8.0</td>\n",
       "      <td>7.6</td>\n",
       "    </tr>\n",
       "    <tr>\n",
       "      <th>1272</th>\n",
       "      <td>1.00</td>\n",
       "      <td>30.0</td>\n",
       "      <td>8.2</td>\n",
       "    </tr>\n",
       "  </tbody>\n",
       "</table>\n",
       "<p>114 rows × 3 columns</p>\n",
       "</div>"
      ],
      "text/plain": [
       "      Tsunami Magnitude (Iida)  Total Deaths  Earthquake Magnitude\n",
       "844                       1.00        1000.0                   8.8\n",
       "1877                      0.58           4.0                   7.6\n",
       "833                      -1.00          57.0                   7.0\n",
       "1282                     -1.30           2.0                   7.3\n",
       "1462                     -2.30          15.0                   7.3\n",
       "...                        ...           ...                   ...\n",
       "762                       3.60        2460.0                   7.8\n",
       "1797                      1.60           1.0                   6.8\n",
       "1474                      6.10         139.0                   9.2\n",
       "1879                      2.32           8.0                   7.6\n",
       "1272                      1.00          30.0                   8.2\n",
       "\n",
       "[114 rows x 3 columns]"
      ]
     },
     "execution_count": 44,
     "metadata": {},
     "output_type": "execute_result"
    }
   ],
   "source": [
    "X_train"
   ]
  },
  {
   "cell_type": "code",
   "execution_count": 45,
   "metadata": {},
   "outputs": [],
   "source": [
    "losses = {}"
   ]
  },
  {
   "cell_type": "code",
   "execution_count": 46,
   "metadata": {},
   "outputs": [],
   "source": [
    "from sklearn.linear_model import LogisticRegression\n",
    "\n",
    "lr = LogisticRegression()"
   ]
  },
  {
   "cell_type": "code",
   "execution_count": 47,
   "metadata": {},
   "outputs": [
    {
     "data": {
      "text/plain": [
       "LogisticRegression()"
      ]
     },
     "execution_count": 47,
     "metadata": {},
     "output_type": "execute_result"
    }
   ],
   "source": [
    "lr.fit(X_train, y_train)"
   ]
  },
  {
   "cell_type": "code",
   "execution_count": 48,
   "metadata": {},
   "outputs": [
    {
     "data": {
      "text/plain": [
       "array([0.83370669, 0.98777952, 0.12046327, 0.99673768, 0.8542962 ,\n",
       "       0.92297984, 0.97100725, 0.96149898, 0.84927502, 0.94409963,\n",
       "       0.82645248, 0.57733177, 0.99726055, 0.9286308 , 0.98934164,\n",
       "       0.80424424, 0.36360933, 0.96915775, 0.61772899, 0.98062964,\n",
       "       0.96657437, 0.4033539 , 0.01981405, 0.05996307, 0.36378026,\n",
       "       0.99757777, 0.39841233, 0.98590014, 0.46151486, 0.97921634,\n",
       "       0.97921226, 0.89382761, 0.78407716, 0.85782039, 0.09263022,\n",
       "       0.11806464, 0.05768807, 0.79601962, 0.72247469, 0.90349229,\n",
       "       0.96262737, 0.99971976, 0.95202394, 0.71488691, 0.01773139,\n",
       "       0.86991469, 0.85782259, 0.98516046, 0.00189126, 0.75491266,\n",
       "       0.94978063, 0.94337063, 0.13272398, 0.99852564, 0.99457307,\n",
       "       0.84748414, 0.3401617 , 0.9614927 , 0.88041825, 0.55202672,\n",
       "       0.99267441, 0.86991315, 0.72174681, 0.94168883, 0.06134243,\n",
       "       0.28009721, 0.97646357, 0.99531018, 0.32646423, 0.49369717,\n",
       "       0.81994949, 0.97423729, 0.98751205, 0.9067209 , 0.99791802,\n",
       "       0.99869689, 0.97036423])"
      ]
     },
     "execution_count": 48,
     "metadata": {},
     "output_type": "execute_result"
    }
   ],
   "source": [
    "lr.predict_proba(X_test)[:,1]"
   ]
  },
  {
   "cell_type": "code",
   "execution_count": 49,
   "metadata": {},
   "outputs": [
    {
     "data": {
      "text/plain": [
       "array([1, 1, 0, 1, 1, 1, 1, 1, 1, 1, 1, 1, 1, 1, 1, 1, 0, 1, 1, 1, 1, 0,\n",
       "       0, 0, 0, 1, 0, 1, 0, 1, 1, 1, 1, 1, 0, 0, 0, 1, 1, 1, 1, 1, 1, 1,\n",
       "       0, 1, 1, 1, 0, 1, 1, 1, 0, 1, 1, 1, 0, 1, 1, 1, 1, 1, 1, 1, 0, 0,\n",
       "       1, 1, 0, 0, 1, 1, 1, 1, 1, 1, 1], dtype=int64)"
      ]
     },
     "execution_count": 49,
     "metadata": {},
     "output_type": "execute_result"
    }
   ],
   "source": [
    "lr.predict(X_test)"
   ]
  },
  {
   "cell_type": "code",
   "execution_count": 50,
   "metadata": {},
   "outputs": [
    {
     "data": {
      "text/plain": [
       "1520    1\n",
       "1279    1\n",
       "242     0\n",
       "293     1\n",
       "968     1\n",
       "       ..\n",
       "1343    1\n",
       "1483    1\n",
       "444     1\n",
       "1284    1\n",
       "705     1\n",
       "Name: Earthquake Mayor/Great, Length: 77, dtype: int64"
      ]
     },
     "execution_count": 50,
     "metadata": {},
     "output_type": "execute_result"
    }
   ],
   "source": [
    "y_test"
   ]
  },
  {
   "cell_type": "code",
   "execution_count": 51,
   "metadata": {},
   "outputs": [
    {
     "data": {
      "text/html": [
       "<div>\n",
       "<style scoped>\n",
       "    .dataframe tbody tr th:only-of-type {\n",
       "        vertical-align: middle;\n",
       "    }\n",
       "\n",
       "    .dataframe tbody tr th {\n",
       "        vertical-align: top;\n",
       "    }\n",
       "\n",
       "    .dataframe thead th {\n",
       "        text-align: right;\n",
       "    }\n",
       "</style>\n",
       "<table border=\"1\" class=\"dataframe\">\n",
       "  <thead>\n",
       "    <tr style=\"text-align: right;\">\n",
       "      <th></th>\n",
       "      <th>predicted_brob</th>\n",
       "      <th>actual</th>\n",
       "      <th>predicted</th>\n",
       "    </tr>\n",
       "  </thead>\n",
       "  <tbody>\n",
       "    <tr>\n",
       "      <th>1520</th>\n",
       "      <td>0.833707</td>\n",
       "      <td>1</td>\n",
       "      <td>1</td>\n",
       "    </tr>\n",
       "    <tr>\n",
       "      <th>1279</th>\n",
       "      <td>0.987780</td>\n",
       "      <td>1</td>\n",
       "      <td>1</td>\n",
       "    </tr>\n",
       "    <tr>\n",
       "      <th>242</th>\n",
       "      <td>0.120463</td>\n",
       "      <td>0</td>\n",
       "      <td>0</td>\n",
       "    </tr>\n",
       "    <tr>\n",
       "      <th>293</th>\n",
       "      <td>0.996738</td>\n",
       "      <td>1</td>\n",
       "      <td>1</td>\n",
       "    </tr>\n",
       "    <tr>\n",
       "      <th>968</th>\n",
       "      <td>0.854296</td>\n",
       "      <td>1</td>\n",
       "      <td>1</td>\n",
       "    </tr>\n",
       "    <tr>\n",
       "      <th>...</th>\n",
       "      <td>...</td>\n",
       "      <td>...</td>\n",
       "      <td>...</td>\n",
       "    </tr>\n",
       "    <tr>\n",
       "      <th>1343</th>\n",
       "      <td>0.987512</td>\n",
       "      <td>1</td>\n",
       "      <td>1</td>\n",
       "    </tr>\n",
       "    <tr>\n",
       "      <th>1483</th>\n",
       "      <td>0.906721</td>\n",
       "      <td>1</td>\n",
       "      <td>1</td>\n",
       "    </tr>\n",
       "    <tr>\n",
       "      <th>444</th>\n",
       "      <td>0.997918</td>\n",
       "      <td>1</td>\n",
       "      <td>1</td>\n",
       "    </tr>\n",
       "    <tr>\n",
       "      <th>1284</th>\n",
       "      <td>0.998697</td>\n",
       "      <td>1</td>\n",
       "      <td>1</td>\n",
       "    </tr>\n",
       "    <tr>\n",
       "      <th>705</th>\n",
       "      <td>0.970364</td>\n",
       "      <td>1</td>\n",
       "      <td>1</td>\n",
       "    </tr>\n",
       "  </tbody>\n",
       "</table>\n",
       "<p>77 rows × 3 columns</p>\n",
       "</div>"
      ],
      "text/plain": [
       "      predicted_brob  actual  predicted\n",
       "1520        0.833707       1          1\n",
       "1279        0.987780       1          1\n",
       "242         0.120463       0          0\n",
       "293         0.996738       1          1\n",
       "968         0.854296       1          1\n",
       "...              ...     ...        ...\n",
       "1343        0.987512       1          1\n",
       "1483        0.906721       1          1\n",
       "444         0.997918       1          1\n",
       "1284        0.998697       1          1\n",
       "705         0.970364       1          1\n",
       "\n",
       "[77 rows x 3 columns]"
      ]
     },
     "execution_count": 51,
     "metadata": {},
     "output_type": "execute_result"
    }
   ],
   "source": [
    "test_result = pd.DataFrame({'predicted_brob': lr.predict_proba(X_test)[:,1],'actual':y_test,'predicted':lr.predict(X_test)})\n",
    "test_result"
   ]
  },
  {
   "cell_type": "code",
   "execution_count": 52,
   "metadata": {},
   "outputs": [
    {
     "data": {
      "text/html": [
       "<div>\n",
       "<style scoped>\n",
       "    .dataframe tbody tr th:only-of-type {\n",
       "        vertical-align: middle;\n",
       "    }\n",
       "\n",
       "    .dataframe tbody tr th {\n",
       "        vertical-align: top;\n",
       "    }\n",
       "\n",
       "    .dataframe thead th {\n",
       "        text-align: right;\n",
       "    }\n",
       "</style>\n",
       "<table border=\"1\" class=\"dataframe\">\n",
       "  <thead>\n",
       "    <tr style=\"text-align: right;\">\n",
       "      <th></th>\n",
       "      <th>predicted_brob</th>\n",
       "      <th>actual</th>\n",
       "      <th>predicted</th>\n",
       "      <th>correctly predicted</th>\n",
       "    </tr>\n",
       "  </thead>\n",
       "  <tbody>\n",
       "    <tr>\n",
       "      <th>1520</th>\n",
       "      <td>0.833707</td>\n",
       "      <td>1</td>\n",
       "      <td>1</td>\n",
       "      <td>True</td>\n",
       "    </tr>\n",
       "    <tr>\n",
       "      <th>1279</th>\n",
       "      <td>0.987780</td>\n",
       "      <td>1</td>\n",
       "      <td>1</td>\n",
       "      <td>True</td>\n",
       "    </tr>\n",
       "    <tr>\n",
       "      <th>242</th>\n",
       "      <td>0.120463</td>\n",
       "      <td>0</td>\n",
       "      <td>0</td>\n",
       "      <td>True</td>\n",
       "    </tr>\n",
       "    <tr>\n",
       "      <th>293</th>\n",
       "      <td>0.996738</td>\n",
       "      <td>1</td>\n",
       "      <td>1</td>\n",
       "      <td>True</td>\n",
       "    </tr>\n",
       "    <tr>\n",
       "      <th>968</th>\n",
       "      <td>0.854296</td>\n",
       "      <td>1</td>\n",
       "      <td>1</td>\n",
       "      <td>True</td>\n",
       "    </tr>\n",
       "    <tr>\n",
       "      <th>...</th>\n",
       "      <td>...</td>\n",
       "      <td>...</td>\n",
       "      <td>...</td>\n",
       "      <td>...</td>\n",
       "    </tr>\n",
       "    <tr>\n",
       "      <th>1343</th>\n",
       "      <td>0.987512</td>\n",
       "      <td>1</td>\n",
       "      <td>1</td>\n",
       "      <td>True</td>\n",
       "    </tr>\n",
       "    <tr>\n",
       "      <th>1483</th>\n",
       "      <td>0.906721</td>\n",
       "      <td>1</td>\n",
       "      <td>1</td>\n",
       "      <td>True</td>\n",
       "    </tr>\n",
       "    <tr>\n",
       "      <th>444</th>\n",
       "      <td>0.997918</td>\n",
       "      <td>1</td>\n",
       "      <td>1</td>\n",
       "      <td>True</td>\n",
       "    </tr>\n",
       "    <tr>\n",
       "      <th>1284</th>\n",
       "      <td>0.998697</td>\n",
       "      <td>1</td>\n",
       "      <td>1</td>\n",
       "      <td>True</td>\n",
       "    </tr>\n",
       "    <tr>\n",
       "      <th>705</th>\n",
       "      <td>0.970364</td>\n",
       "      <td>1</td>\n",
       "      <td>1</td>\n",
       "      <td>True</td>\n",
       "    </tr>\n",
       "  </tbody>\n",
       "</table>\n",
       "<p>77 rows × 4 columns</p>\n",
       "</div>"
      ],
      "text/plain": [
       "      predicted_brob  actual  predicted  correctly predicted\n",
       "1520        0.833707       1          1                 True\n",
       "1279        0.987780       1          1                 True\n",
       "242         0.120463       0          0                 True\n",
       "293         0.996738       1          1                 True\n",
       "968         0.854296       1          1                 True\n",
       "...              ...     ...        ...                  ...\n",
       "1343        0.987512       1          1                 True\n",
       "1483        0.906721       1          1                 True\n",
       "444         0.997918       1          1                 True\n",
       "1284        0.998697       1          1                 True\n",
       "705         0.970364       1          1                 True\n",
       "\n",
       "[77 rows x 4 columns]"
      ]
     },
     "execution_count": 52,
     "metadata": {},
     "output_type": "execute_result"
    }
   ],
   "source": [
    "test_result['correctly predicted']=(test_result['actual']==test_result['predicted'])\n",
    "test_result"
   ]
  },
  {
   "cell_type": "code",
   "execution_count": 53,
   "metadata": {},
   "outputs": [
    {
     "data": {
      "text/plain": [
       "True     0.987013\n",
       "False    0.012987\n",
       "Name: correctly predicted, dtype: float64"
      ]
     },
     "execution_count": 53,
     "metadata": {},
     "output_type": "execute_result"
    }
   ],
   "source": [
    "test_result['correctly predicted'].value_counts(normalize=True)"
   ]
  },
  {
   "cell_type": "markdown",
   "metadata": {},
   "source": [
    "**Accuracy Score**"
   ]
  },
  {
   "cell_type": "markdown",
   "metadata": {},
   "source": [
    "Accuracy Score: accuracy of my predictions is 98.7%"
   ]
  },
  {
   "cell_type": "code",
   "execution_count": 54,
   "metadata": {},
   "outputs": [
    {
     "name": "stdout",
     "output_type": "stream",
     "text": [
      "{'Logistic': 0.987012987012987}\n"
     ]
    }
   ],
   "source": [
    "from sklearn.metrics import accuracy_score\n",
    "losses['Logistic'] = accuracy_score(y_test, lr.predict(X_test))\n",
    "print(losses)"
   ]
  },
  {
   "cell_type": "markdown",
   "metadata": {},
   "source": [
    "## Linear Regression ##"
   ]
  },
  {
   "cell_type": "code",
   "execution_count": 55,
   "metadata": {},
   "outputs": [
    {
     "data": {
      "text/plain": [
       "Text(0.5, 0, 'Tsunami Magnitude (Iida)')"
      ]
     },
     "execution_count": 55,
     "metadata": {},
     "output_type": "execute_result"
    },
    {
     "data": {
      "image/png": "[encoded data removed]",
      "text/plain": [
       "<Figure size 432x288 with 1 Axes>"
      ]
     },
     "metadata": {
      "needs_background": "light"
     },
     "output_type": "display_data"
    }
   ],
   "source": [
    "plt.scatter(tsunamis['Tsunami Magnitude (Iida)'], tsunamis['Tsunami Intensity'])\n",
    "plt.ylabel('Tsunami Intensity')\n",
    "plt.xlabel('Tsunami Magnitude (Iida)')\n"
   ]
  },
  {
   "cell_type": "code",
   "execution_count": 56,
   "metadata": {},
   "outputs": [],
   "source": [
    "temp = tsunamis.dropna(subset=['Tsunami Magnitude (Iida)','Tsunami Intensity'])\n"
   ]
  },
  {
   "cell_type": "code",
   "execution_count": 57,
   "metadata": {},
   "outputs": [],
   "source": [
    "\n",
    "x=temp[['Tsunami Magnitude (Iida)']]\n",
    "y=temp['Tsunami Intensity']"
   ]
  },
  {
   "cell_type": "code",
   "execution_count": 58,
   "metadata": {},
   "outputs": [],
   "source": [
    "#split the data in order to test it (in this case train it in 60% and test it on 40%):\n",
    "\n",
    "from sklearn.model_selection import train_test_split\n",
    "X_train, X_test, y_train, y_test = train_test_split(x, y, test_size=0.4, shuffle=True)\n"
   ]
  },
  {
   "cell_type": "code",
   "execution_count": 59,
   "metadata": {},
   "outputs": [
    {
     "data": {
      "text/html": [
       "<div>\n",
       "<style scoped>\n",
       "    .dataframe tbody tr th:only-of-type {\n",
       "        vertical-align: middle;\n",
       "    }\n",
       "\n",
       "    .dataframe tbody tr th {\n",
       "        vertical-align: top;\n",
       "    }\n",
       "\n",
       "    .dataframe thead th {\n",
       "        text-align: right;\n",
       "    }\n",
       "</style>\n",
       "<table border=\"1\" class=\"dataframe\">\n",
       "  <thead>\n",
       "    <tr style=\"text-align: right;\">\n",
       "      <th></th>\n",
       "      <th>Tsunami Magnitude (Iida)</th>\n",
       "    </tr>\n",
       "  </thead>\n",
       "  <tbody>\n",
       "    <tr>\n",
       "      <th>976</th>\n",
       "      <td>1.0</td>\n",
       "    </tr>\n",
       "    <tr>\n",
       "      <th>914</th>\n",
       "      <td>-1.0</td>\n",
       "    </tr>\n",
       "    <tr>\n",
       "      <th>230</th>\n",
       "      <td>1.0</td>\n",
       "    </tr>\n",
       "    <tr>\n",
       "      <th>1300</th>\n",
       "      <td>-0.7</td>\n",
       "    </tr>\n",
       "    <tr>\n",
       "      <th>1034</th>\n",
       "      <td>3.6</td>\n",
       "    </tr>\n",
       "    <tr>\n",
       "      <th>...</th>\n",
       "      <td>...</td>\n",
       "    </tr>\n",
       "    <tr>\n",
       "      <th>1480</th>\n",
       "      <td>-3.3</td>\n",
       "    </tr>\n",
       "    <tr>\n",
       "      <th>1574</th>\n",
       "      <td>0.8</td>\n",
       "    </tr>\n",
       "    <tr>\n",
       "      <th>1805</th>\n",
       "      <td>-3.3</td>\n",
       "    </tr>\n",
       "    <tr>\n",
       "      <th>273</th>\n",
       "      <td>4.3</td>\n",
       "    </tr>\n",
       "    <tr>\n",
       "      <th>140</th>\n",
       "      <td>1.0</td>\n",
       "    </tr>\n",
       "  </tbody>\n",
       "</table>\n",
       "<p>257 rows × 1 columns</p>\n",
       "</div>"
      ],
      "text/plain": [
       "      Tsunami Magnitude (Iida)\n",
       "976                        1.0\n",
       "914                       -1.0\n",
       "230                        1.0\n",
       "1300                      -0.7\n",
       "1034                       3.6\n",
       "...                        ...\n",
       "1480                      -3.3\n",
       "1574                       0.8\n",
       "1805                      -3.3\n",
       "273                        4.3\n",
       "140                        1.0\n",
       "\n",
       "[257 rows x 1 columns]"
      ]
     },
     "execution_count": 59,
     "metadata": {},
     "output_type": "execute_result"
    }
   ],
   "source": [
    "X_train"
   ]
  },
  {
   "cell_type": "code",
   "execution_count": 60,
   "metadata": {},
   "outputs": [
    {
     "data": {
      "text/html": [
       "<div>\n",
       "<style scoped>\n",
       "    .dataframe tbody tr th:only-of-type {\n",
       "        vertical-align: middle;\n",
       "    }\n",
       "\n",
       "    .dataframe tbody tr th {\n",
       "        vertical-align: top;\n",
       "    }\n",
       "\n",
       "    .dataframe thead th {\n",
       "        text-align: right;\n",
       "    }\n",
       "</style>\n",
       "<table border=\"1\" class=\"dataframe\">\n",
       "  <thead>\n",
       "    <tr style=\"text-align: right;\">\n",
       "      <th></th>\n",
       "      <th>Tsunami Magnitude (Iida)</th>\n",
       "      <th>Tsunami Intensity</th>\n",
       "    </tr>\n",
       "  </thead>\n",
       "  <tbody>\n",
       "    <tr>\n",
       "      <th>976</th>\n",
       "      <td>1.0</td>\n",
       "      <td>2.0</td>\n",
       "    </tr>\n",
       "    <tr>\n",
       "      <th>914</th>\n",
       "      <td>-1.0</td>\n",
       "      <td>0.0</td>\n",
       "    </tr>\n",
       "    <tr>\n",
       "      <th>230</th>\n",
       "      <td>1.0</td>\n",
       "      <td>0.0</td>\n",
       "    </tr>\n",
       "    <tr>\n",
       "      <th>1300</th>\n",
       "      <td>-0.7</td>\n",
       "      <td>-1.0</td>\n",
       "    </tr>\n",
       "    <tr>\n",
       "      <th>1034</th>\n",
       "      <td>3.6</td>\n",
       "      <td>3.0</td>\n",
       "    </tr>\n",
       "    <tr>\n",
       "      <th>...</th>\n",
       "      <td>...</td>\n",
       "      <td>...</td>\n",
       "    </tr>\n",
       "    <tr>\n",
       "      <th>1480</th>\n",
       "      <td>-3.3</td>\n",
       "      <td>-2.0</td>\n",
       "    </tr>\n",
       "    <tr>\n",
       "      <th>1574</th>\n",
       "      <td>0.8</td>\n",
       "      <td>0.5</td>\n",
       "    </tr>\n",
       "    <tr>\n",
       "      <th>1805</th>\n",
       "      <td>-3.3</td>\n",
       "      <td>-2.0</td>\n",
       "    </tr>\n",
       "    <tr>\n",
       "      <th>273</th>\n",
       "      <td>4.3</td>\n",
       "      <td>4.0</td>\n",
       "    </tr>\n",
       "    <tr>\n",
       "      <th>140</th>\n",
       "      <td>1.0</td>\n",
       "      <td>1.0</td>\n",
       "    </tr>\n",
       "  </tbody>\n",
       "</table>\n",
       "<p>257 rows × 2 columns</p>\n",
       "</div>"
      ],
      "text/plain": [
       "      Tsunami Magnitude (Iida)  Tsunami Intensity\n",
       "976                        1.0                2.0\n",
       "914                       -1.0                0.0\n",
       "230                        1.0                0.0\n",
       "1300                      -0.7               -1.0\n",
       "1034                       3.6                3.0\n",
       "...                        ...                ...\n",
       "1480                      -3.3               -2.0\n",
       "1574                       0.8                0.5\n",
       "1805                      -3.3               -2.0\n",
       "273                        4.3                4.0\n",
       "140                        1.0                1.0\n",
       "\n",
       "[257 rows x 2 columns]"
      ]
     },
     "execution_count": 60,
     "metadata": {},
     "output_type": "execute_result"
    }
   ],
   "source": [
    "pd.concat([X_train,y_train],axis=1)\n"
   ]
  },
  {
   "cell_type": "code",
   "execution_count": 61,
   "metadata": {},
   "outputs": [
    {
     "data": {
      "text/html": [
       "<div>\n",
       "<style scoped>\n",
       "    .dataframe tbody tr th:only-of-type {\n",
       "        vertical-align: middle;\n",
       "    }\n",
       "\n",
       "    .dataframe tbody tr th {\n",
       "        vertical-align: top;\n",
       "    }\n",
       "\n",
       "    .dataframe thead th {\n",
       "        text-align: right;\n",
       "    }\n",
       "</style>\n",
       "<table border=\"1\" class=\"dataframe\">\n",
       "  <thead>\n",
       "    <tr style=\"text-align: right;\">\n",
       "      <th></th>\n",
       "      <th>Tsunami Magnitude (Iida)</th>\n",
       "      <th>Tsunami Intensity</th>\n",
       "    </tr>\n",
       "  </thead>\n",
       "  <tbody>\n",
       "    <tr>\n",
       "      <th>1004</th>\n",
       "      <td>-2.3</td>\n",
       "      <td>-2.0</td>\n",
       "    </tr>\n",
       "    <tr>\n",
       "      <th>183</th>\n",
       "      <td>1.0</td>\n",
       "      <td>1.0</td>\n",
       "    </tr>\n",
       "    <tr>\n",
       "      <th>744</th>\n",
       "      <td>2.6</td>\n",
       "      <td>2.5</td>\n",
       "    </tr>\n",
       "    <tr>\n",
       "      <th>699</th>\n",
       "      <td>1.6</td>\n",
       "      <td>1.5</td>\n",
       "    </tr>\n",
       "    <tr>\n",
       "      <th>394</th>\n",
       "      <td>1.0</td>\n",
       "      <td>1.5</td>\n",
       "    </tr>\n",
       "    <tr>\n",
       "      <th>...</th>\n",
       "      <td>...</td>\n",
       "      <td>...</td>\n",
       "    </tr>\n",
       "    <tr>\n",
       "      <th>1203</th>\n",
       "      <td>1.5</td>\n",
       "      <td>2.0</td>\n",
       "    </tr>\n",
       "    <tr>\n",
       "      <th>345</th>\n",
       "      <td>2.2</td>\n",
       "      <td>0.0</td>\n",
       "    </tr>\n",
       "    <tr>\n",
       "      <th>1352</th>\n",
       "      <td>-1.0</td>\n",
       "      <td>-1.0</td>\n",
       "    </tr>\n",
       "    <tr>\n",
       "      <th>1328</th>\n",
       "      <td>1.5</td>\n",
       "      <td>2.0</td>\n",
       "    </tr>\n",
       "    <tr>\n",
       "      <th>1820</th>\n",
       "      <td>0.1</td>\n",
       "      <td>0.5</td>\n",
       "    </tr>\n",
       "  </tbody>\n",
       "</table>\n",
       "<p>172 rows × 2 columns</p>\n",
       "</div>"
      ],
      "text/plain": [
       "      Tsunami Magnitude (Iida)  Tsunami Intensity\n",
       "1004                      -2.3               -2.0\n",
       "183                        1.0                1.0\n",
       "744                        2.6                2.5\n",
       "699                        1.6                1.5\n",
       "394                        1.0                1.5\n",
       "...                        ...                ...\n",
       "1203                       1.5                2.0\n",
       "345                        2.2                0.0\n",
       "1352                      -1.0               -1.0\n",
       "1328                       1.5                2.0\n",
       "1820                       0.1                0.5\n",
       "\n",
       "[172 rows x 2 columns]"
      ]
     },
     "execution_count": 61,
     "metadata": {},
     "output_type": "execute_result"
    }
   ],
   "source": [
    "pd.concat([X_test,y_test],axis=1)\n"
   ]
  },
  {
   "cell_type": "code",
   "execution_count": 62,
   "metadata": {},
   "outputs": [
    {
     "data": {
      "text/plain": [
       "LinearRegression()"
      ]
     },
     "execution_count": 62,
     "metadata": {},
     "output_type": "execute_result"
    }
   ],
   "source": [
    "from sklearn.linear_model import LinearRegression\n",
    "from sklearn.metrics import mean_squared_error\n",
    "\n",
    "\n",
    "lr = LinearRegression()\n",
    "lr.fit(X_train, y_train)\n"
   ]
  },
  {
   "cell_type": "code",
   "execution_count": 63,
   "metadata": {},
   "outputs": [
    {
     "name": "stdout",
     "output_type": "stream",
     "text": [
      "alpha is 0.1560739002449369\n",
      "beta is [0.75258544]\n"
     ]
    }
   ],
   "source": [
    "print('alpha is',lr.intercept_)\n",
    "print('beta is', lr.coef_)\n"
   ]
  },
  {
   "cell_type": "code",
   "execution_count": 64,
   "metadata": {},
   "outputs": [
    {
     "data": {
      "text/plain": [
       "array([-1.57487261,  0.90865934,  2.11279604,  1.3602106 ,  0.90865934,\n",
       "        1.66124478,  2.11279604,  0.38184953,  0.98391788, -0.82228717,\n",
       "       -0.59651154,  2.33857167,  0.60762516,  3.9190011 ,  3.99425964,\n",
       "        1.51072769, -1.12332135, -0.22021882,  2.0375375 ,  0.60762516,\n",
       "        0.75814225,  2.94064003,  1.66124478,  0.1560739 , -0.82228717,\n",
       "       -1.57487261, -2.32745805,  0.90865934,  0.90865934,  1.66124478,\n",
       "       -2.32745805,  0.90865934,  0.90865934,  2.63960585,  3.09115711,\n",
       "       -1.57487261,  1.88702041,  3.09115711,  1.88702041, -2.32745805,\n",
       "       -0.59651154, -0.59651154,  0.53236662,  0.90865934, -2.32745805,\n",
       "        2.56434731,  0.53236662,  3.84374255, -1.57487261, -3.33592254,\n",
       "        2.26331313,  2.11279604,  2.63960585,  3.46744983,  0.90865934,\n",
       "       -0.22021882, -1.57487261,  0.90865934, -0.22021882,  1.28495206,\n",
       "        1.3602106 , -2.32745805, -0.82228717,  2.86538148, -0.59651154,\n",
       "        1.13443497,  0.90865934,  0.90865934,  2.18805459, -0.82228717,\n",
       "        1.13443497, -2.32745805, -1.12332135,  2.86538148,  0.90865934,\n",
       "        0.60762516, -2.32745805,  1.28495206,  1.28495206,  0.90865934,\n",
       "        1.28495206,  2.33857167,  0.90865934,  0.98391788, -2.32745805,\n",
       "       -0.82228717,  0.08081536,  1.88702041,  0.90865934,  0.60762516,\n",
       "        1.66124478,  2.41383022,  1.51072769,  0.53236662,  0.45710808,\n",
       "        3.09115711, -0.22021882,  0.90865934,  3.09115711, -2.32745805,\n",
       "        2.86538148, -0.22021882,  0.38184953,  1.13443497,  2.63960585,\n",
       "       -2.32745805, -1.57487261, -0.37073591,  0.75814225, -0.37073591,\n",
       "        1.66124478,  1.88702041,  1.28495206,  0.53236662,  0.90865934,\n",
       "       -0.22021882, -1.57487261,  0.53236662, -2.32745805,  3.84374255,\n",
       "        2.63960585,  0.90865934,  0.8334008 ,  1.66124478, -0.06970173,\n",
       "        3.39219129,  1.20969352,  1.88702041,  3.16641566,  1.81176187,\n",
       "       -0.22021882, -1.12332135, -0.59651154,  1.66124478, -1.57487261,\n",
       "       -0.59651154,  1.66124478,  0.90865934,  1.51072769,  2.56434731,\n",
       "        3.9190011 ,  0.90865934, -0.37073591,  0.90865934, -2.32745805,\n",
       "        1.3602106 ,  1.66124478,  0.90865934,  0.23133244,  0.1560739 ,\n",
       "        3.16641566,  0.53236662,  0.90865934,  1.3602106 , -0.06970173,\n",
       "       -0.59651154,  0.90865934,  1.13443497, -0.22021882,  3.31693275,\n",
       "        3.61796692, -2.32745805,  0.90865934,  3.09115711, -0.37073591,\n",
       "       -1.57487261,  2.26331313,  1.28495206,  1.81176187, -0.59651154,\n",
       "        1.28495206,  0.23133244])"
      ]
     },
     "execution_count": 64,
     "metadata": {},
     "output_type": "execute_result"
    }
   ],
   "source": [
    "lr.predict(X_test)\n"
   ]
  },
  {
   "cell_type": "code",
   "execution_count": 65,
   "metadata": {},
   "outputs": [
    {
     "data": {
      "text/plain": [
       "0.714006204555621"
      ]
     },
     "execution_count": 65,
     "metadata": {},
     "output_type": "execute_result"
    }
   ],
   "source": [
    "from sklearn.metrics import mean_squared_error\n",
    "mean_squared_error(y_test, lr.predict(X_test))\n"
   ]
  },
  {
   "cell_type": "code",
   "execution_count": 66,
   "metadata": {},
   "outputs": [
    {
     "name": "stderr",
     "output_type": "stream",
     "text": [
      "C:\\Users\\imypo\\anaconda3\\lib\\site-packages\\seaborn\\_decorators.py:36: FutureWarning: Pass the following variables as keyword args: x, y. From version 0.12, the only valid positional argument will be `data`, and passing other arguments without an explicit keyword will result in an error or misinterpretation.\n",
      "  warnings.warn(\n",
      "C:\\Users\\imypo\\anaconda3\\lib\\site-packages\\seaborn\\_decorators.py:36: FutureWarning: Pass the following variables as keyword args: x, y. From version 0.12, the only valid positional argument will be `data`, and passing other arguments without an explicit keyword will result in an error or misinterpretation.\n",
      "  warnings.warn(\n",
      "C:\\Users\\imypo\\anaconda3\\lib\\site-packages\\seaborn\\_decorators.py:36: FutureWarning: Pass the following variables as keyword args: x, y. From version 0.12, the only valid positional argument will be `data`, and passing other arguments without an explicit keyword will result in an error or misinterpretation.\n",
      "  warnings.warn(\n"
     ]
    },
    {
     "data": {
      "text/plain": [
       "<AxesSubplot:xlabel='Tsunami Magnitude (Iida)', ylabel='Tsunami Intensity'>"
      ]
     },
     "execution_count": 66,
     "metadata": {},
     "output_type": "execute_result"
    },
    {
     "data": {
      "image/png": "[encoded data removed]",
      "text/plain": [
       "<Figure size 432x288 with 1 Axes>"
      ]
     },
     "metadata": {
      "needs_background": "light"
     },
     "output_type": "display_data"
    }
   ],
   "source": [
    "import numpy as np\n",
    "\n",
    "x_range = np.arange(start=temp['Tsunami Magnitude (Iida)'].min(),stop=temp['Tsunami Magnitude (Iida)'].max(),step=0.1)\n",
    "y_hat = lr.intercept_ + lr.coef_[0]*x_range\n",
    "sns.scatterplot(X_train['Tsunami Magnitude (Iida)'], y_train, label='train')\n",
    "sns.scatterplot(X_test['Tsunami Magnitude (Iida)'], y_test, label='test')\n",
    "sns.lineplot(x_range,y_hat)\n",
    "# plt.plot(y_hat, color='r')\n",
    "# plt.legend()"
   ]
  },
  {
   "cell_type": "markdown",
   "metadata": {},
   "source": [
    "## References\n",
    "\n",
    "Kaggle: https://www.kaggle.com/ramjasmaurya/historical-data-of-tsunamis18002021\n",
    "\n"
   ]
  },
  {
   "cell_type": "code",
   "execution_count": null,
   "metadata": {},
   "outputs": [],
   "source": []
  }
 ],
 "metadata": {
  "c1_recart": "6.5.0-57c20131aabc1dc2a8c675852d80a7da",
  "kernelspec": {
   "display_name": "Python 3",
   "language": "python",
   "name": "python3"
  },
  "language_info": {
   "codemirror_mode": {
    "name": "ipython",
    "version": 3
   },
   "file_extension": ".py",
   "mimetype": "text/x-python",
   "name": "python",
   "nbconvert_exporter": "python",
   "pygments_lexer": "ipython3",
   "version": "3.8.8"
  }
 },
 "nbformat": 4,
 "nbformat_minor": 2
}
